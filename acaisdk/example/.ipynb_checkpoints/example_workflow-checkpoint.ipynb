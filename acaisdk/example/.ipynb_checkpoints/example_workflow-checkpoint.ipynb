{
 "cells": [
  {
   "cell_type": "code",
   "execution_count": 4,
   "metadata": {},
   "outputs": [],
   "source": [
    "import os\n",
    "import sys\n",
    "sys.path.append(os.path.dirname(os.path.realpath('__file__')) + '/../../')\n",
    "from acaisdk.file import File\n",
    "from acaisdk.project import Project\n",
    "from acaisdk.fileset import FileSet\n",
    "from acaisdk.job import Job\n",
    "from acaisdk.meta import *\n",
    "from acaisdk.utils import utils\n",
    "\n",
    "utils.DEBUG = True  # print debug messages"
   ]
  },
  {
   "cell_type": "code",
   "execution_count": 5,
   "metadata": {},
   "outputs": [],
   "source": [
    "# Make your changes here\n",
    "project_id = 'shakespeare'\n",
    "root_token = 'EmDlCTBF1ppONSciYVd03M9xkmF6hFqW'\n",
    "project_admin = 'proj_admin'\n",
    "user = 'ATeam'"
   ]
  },
  {
   "cell_type": "code",
   "execution_count": 7,
   "metadata": {},
   "outputs": [],
   "source": [
    "workspace = os.path.dirname(os.path.realpath('__file__'))"
   ]
  },
  {
   "cell_type": "code",
   "execution_count": 11,
   "metadata": {},
   "outputs": [],
   "source": [
    "# Create project and user\n",
    "r = Project.create_project(project_id, root_token, 'proj_admin')\n",
    "r = Project.create_user(project_id, r['project_admin_token'], user)\n",
    "os.environ.update({'ACAI_TOKEN': r['user_token']})"
   ]
  },
  {
   "cell_type": "code",
   "execution_count": 14,
   "metadata": {},
   "outputs": [
    {
     "name": "stdout",
     "output_type": "stream",
     "text": [
      "Running request: 54.152.223.203 4399 storage upload_file\n",
      "POST data {\"path\": \"/wordcount.zip\", \"token\": \"b3WSr0orT5rWk1hyAL5oVWGSIFSkqOkO\"}\n"
     ]
    },
    {
     "data": {
      "text/plain": [
       "[('/mnt/c/Users/ChangXu/GoogleDrive/CMU.MCDS/Acai/acaisdk/acaisdk/example/wordcount.zip',\n",
       "  'wordcount.zip:1')]"
      ]
     },
     "execution_count": 14,
     "metadata": {},
     "output_type": "execute_result"
    }
   ],
   "source": [
    "\n",
    "# Upload code\n",
    "code = os.path.join(workspace, 'wordcount.zip')\n",
    "File.upload({code: '/wordcount.zip'})"
   ]
  },
  {
   "cell_type": "code",
   "execution_count": 15,
   "metadata": {},
   "outputs": [
    {
     "name": "stdout",
     "output_type": "stream",
     "text": [
      "Running request: 54.152.223.203 4399 storage upload_file\n",
      "POST data {\"path\": \"Shakespeare/hamlet.txt\", \"token\": \"b3WSr0orT5rWk1hyAL5oVWGSIFSkqOkO\"}\n",
      "Running request: 54.152.223.203 4399 storage upload_file\n",
      "POST data {\"path\": \"Shakespeare/kinglear.txt\", \"token\": \"b3WSr0orT5rWk1hyAL5oVWGSIFSkqOkO\"}\n",
      "Running request: 54.152.223.203 4399 storage upload_file\n",
      "POST data {\"path\": \"Shakespeare/macbeth.txt\", \"token\": \"b3WSr0orT5rWk1hyAL5oVWGSIFSkqOkO\"}\n",
      "Running request: 54.152.223.203 4399 storage create_file_set\n",
      "POST data {\"name\": \"shakespeare.works\", \"files\": [\"Shakespeare/hamlet.txt:1\", \"Shakespeare/kinglear.txt:1\", \"Shakespeare/macbeth.txt:1\"], \"token\": \"b3WSr0orT5rWk1hyAL5oVWGSIFSkqOkO\"}\n"
     ]
    },
    {
     "data": {
      "text/plain": [
       "{'id': 'shakespeare.works:1',\n",
       " 'files': ['Shakespeare/kinglear.txt:1',\n",
       "  'Shakespeare/hamlet.txt:1',\n",
       "  'Shakespeare/macbeth.txt:1']}"
      ]
     },
     "execution_count": 15,
     "metadata": {},
     "output_type": "execute_result"
    }
   ],
   "source": [
    "# Upload input files and create file set\n",
    "input_dir = os.path.join(workspace, 'Shakespeare')\n",
    "File.convert_to_file_mapping([input_dir], 'Shakespeare/')[0]\\\n",
    "    .upload()\\\n",
    "    .as_new_file_set('shakespeare.works')"
   ]
  },
  {
   "cell_type": "code",
   "execution_count": 35,
   "metadata": {},
   "outputs": [
    {
     "name": "stdout",
     "output_type": "stream",
     "text": [
      "Running request: 54.152.223.203 4399 job_registry new_job\n",
      "POST data {\"name\": \"test job submission\", \"input_file_set\": \"shakespeare.works\", \"output_path\": \"./my_output/\", \"code\": \"/wordcount.zip\", \"command\": \"cat Shakespeare/* | python3 wordcount.py ./my_output/\", \"container_image\": \"ubuntu:18.04\", \"description\": \"count some words\", \"v_cpu\": \"0.2\", \"gpu\": \"0\", \"memory\": \"128Mi\", \"token\": \"b3WSr0orT5rWk1hyAL5oVWGSIFSkqOkO\"}\n",
      "{'name': 'test job submission', 'code': '/wordcount.zip', 'command': 'cat Shakespeare/* | python3 wordcount.py ./my_output/', 'description': 'count some words', 'type': None, 'gpu': '0', 'memory': '128Mi', 'vcpu': '0.2', 'id': 54, 'input_file_set': 'shakespeare.works', 'output_path': './my_output/', 'user_id': 3873, 'project_id': 'shakespeare', 'parent_id': None, 'container_image': 'ubuntu:18.04', 'v_cpu': '0.2', 'output_file_set': 'job_54_output', 'submitted_time': '2019-10-27T21:31:00.151+0000', 'updated_time': '2019-10-27T21:31:00.214+0000'}\n",
      "Running request: 54.152.223.203 4399 job_scheduler new_job\n",
      "POST data {\"job_id\": 54, \"token\": \"b3WSr0orT5rWk1hyAL5oVWGSIFSkqOkO\"}\n"
     ]
    },
    {
     "ename": "JSONDecodeError",
     "evalue": "Expecting value: line 1 column 1 (char 0)",
     "output_type": "error",
     "traceback": [
      "\u001b[0;31m---------------------------------------------------------------------------\u001b[0m",
      "\u001b[0;31mJSONDecodeError\u001b[0m                           Traceback (most recent call last)",
      "\u001b[0;32m<ipython-input-35-f1baadac6d70>\u001b[0m in \u001b[0;36m<module>\u001b[0;34m\u001b[0m\n\u001b[1;32m     13\u001b[0m }\n\u001b[1;32m     14\u001b[0m \u001b[0;34m\u001b[0m\u001b[0m\n\u001b[0;32m---> 15\u001b[0;31m \u001b[0mj\u001b[0m \u001b[0;34m=\u001b[0m \u001b[0mJob\u001b[0m\u001b[0;34m(\u001b[0m\u001b[0;34m)\u001b[0m\u001b[0;34m.\u001b[0m\u001b[0mwith_attributes\u001b[0m\u001b[0;34m(\u001b[0m\u001b[0mjob_setting\u001b[0m\u001b[0;34m)\u001b[0m\u001b[0;34m.\u001b[0m\u001b[0mregister\u001b[0m\u001b[0;34m(\u001b[0m\u001b[0;34m)\u001b[0m\u001b[0;34m.\u001b[0m\u001b[0mrun\u001b[0m\u001b[0;34m(\u001b[0m\u001b[0;34m)\u001b[0m\u001b[0;34m\u001b[0m\u001b[0;34m\u001b[0m\u001b[0m\n\u001b[0m",
      "\u001b[0;32m/mnt/c/Users/ChangXu/GoogleDrive/CMU.MCDS/Acai/acaisdk/acaisdk/example/../../acaisdk/job.py\u001b[0m in \u001b[0;36mrun\u001b[0;34m(self)\u001b[0m\n\u001b[1;32m    167\u001b[0m             \u001b[0;32mraise\u001b[0m \u001b[0mAcaiException\u001b[0m\u001b[0;34m(\u001b[0m\u001b[0;34m'Job already submitted'\u001b[0m\u001b[0;34m)\u001b[0m\u001b[0;34m\u001b[0m\u001b[0;34m\u001b[0m\u001b[0m\n\u001b[1;32m    168\u001b[0m         \u001b[0mr\u001b[0m \u001b[0;34m=\u001b[0m \u001b[0mRestRequest\u001b[0m\u001b[0;34m(\u001b[0m\u001b[0mJobSchedulerApi\u001b[0m\u001b[0;34m.\u001b[0m\u001b[0mnew_job\u001b[0m\u001b[0;34m)\u001b[0m\u001b[0;31m \u001b[0m\u001b[0;31m\\\u001b[0m\u001b[0;34m\u001b[0m\u001b[0;34m\u001b[0m\u001b[0m\n\u001b[0;32m--> 169\u001b[0;31m             \u001b[0;34m.\u001b[0m\u001b[0mwith_data\u001b[0m\u001b[0;34m(\u001b[0m\u001b[0;34m{\u001b[0m\u001b[0;34m'job_id'\u001b[0m\u001b[0;34m:\u001b[0m \u001b[0mself\u001b[0m\u001b[0;34m.\u001b[0m\u001b[0mid\u001b[0m\u001b[0;34m}\u001b[0m\u001b[0;34m)\u001b[0m\u001b[0;31m \u001b[0m\u001b[0;31m\\\u001b[0m\u001b[0;34m\u001b[0m\u001b[0;34m\u001b[0m\u001b[0m\n\u001b[0m\u001b[1;32m    170\u001b[0m             \u001b[0;34m.\u001b[0m\u001b[0mwith_credentials\u001b[0m\u001b[0;34m(\u001b[0m\u001b[0;34m)\u001b[0m\u001b[0;31m \u001b[0m\u001b[0;31m\\\u001b[0m\u001b[0;34m\u001b[0m\u001b[0;34m\u001b[0m\u001b[0m\n\u001b[1;32m    171\u001b[0m             \u001b[0;34m.\u001b[0m\u001b[0mrun\u001b[0m\u001b[0;34m(\u001b[0m\u001b[0;34m)\u001b[0m\u001b[0;34m\u001b[0m\u001b[0;34m\u001b[0m\u001b[0m\n",
      "\u001b[0;32m/mnt/c/Users/ChangXu/GoogleDrive/CMU.MCDS/Acai/acaisdk/acaisdk/example/../../acaisdk/services/api_calls.py\u001b[0m in \u001b[0;36mrun\u001b[0;34m(self)\u001b[0m\n\u001b[1;32m    158\u001b[0m                                    \u001b[0mself\u001b[0m\u001b[0;34m.\u001b[0m\u001b[0mservice\u001b[0m\u001b[0;34m.\u001b[0m\u001b[0mname\u001b[0m\u001b[0;34m,\u001b[0m\u001b[0;34m\u001b[0m\u001b[0;34m\u001b[0m\u001b[0m\n\u001b[1;32m    159\u001b[0m                                    \u001b[0mself\u001b[0m\u001b[0;34m.\u001b[0m\u001b[0mquery\u001b[0m\u001b[0;34m,\u001b[0m\u001b[0;34m\u001b[0m\u001b[0;34m\u001b[0m\u001b[0m\n\u001b[0;32m--> 160\u001b[0;31m                                    self.data)\n\u001b[0m\u001b[1;32m    161\u001b[0m         raise AcaiException('Unknown request type: '\n\u001b[1;32m    162\u001b[0m                             '{}'.format(self.service.method))\n",
      "\u001b[0;32m/mnt/c/Users/ChangXu/GoogleDrive/CMU.MCDS/Acai/acaisdk/acaisdk/example/../../acaisdk/utils/rest_utils.py\u001b[0m in \u001b[0;36mpost\u001b[0;34m(server, port, service, path, params, data)\u001b[0m\n\u001b[1;32m     25\u001b[0m     \u001b[0;32mif\u001b[0m \u001b[0mr\u001b[0m\u001b[0;34m.\u001b[0m\u001b[0mstatus_code\u001b[0m \u001b[0;34m!=\u001b[0m \u001b[0mHTTPStatus\u001b[0m\u001b[0;34m.\u001b[0m\u001b[0mOK\u001b[0m\u001b[0;34m:\u001b[0m\u001b[0;34m\u001b[0m\u001b[0;34m\u001b[0m\u001b[0m\n\u001b[1;32m     26\u001b[0m         \u001b[0;32mraise\u001b[0m \u001b[0mexceptions\u001b[0m\u001b[0;34m.\u001b[0m\u001b[0mRemoteException\u001b[0m\u001b[0;34m(\u001b[0m\u001b[0mr\u001b[0m\u001b[0;34m.\u001b[0m\u001b[0mcontent\u001b[0m\u001b[0;34m)\u001b[0m\u001b[0;34m\u001b[0m\u001b[0;34m\u001b[0m\u001b[0m\n\u001b[0;32m---> 27\u001b[0;31m     \u001b[0;32mreturn\u001b[0m \u001b[0mr\u001b[0m\u001b[0;34m.\u001b[0m\u001b[0mjson\u001b[0m\u001b[0;34m(\u001b[0m\u001b[0;34m)\u001b[0m\u001b[0;34m\u001b[0m\u001b[0;34m\u001b[0m\u001b[0m\n\u001b[0m\u001b[1;32m     28\u001b[0m \u001b[0;34m\u001b[0m\u001b[0m\n\u001b[1;32m     29\u001b[0m \u001b[0;34m\u001b[0m\u001b[0m\n",
      "\u001b[0;32m~/.local/lib/python3.7/site-packages/requests/models.py\u001b[0m in \u001b[0;36mjson\u001b[0;34m(self, **kwargs)\u001b[0m\n\u001b[1;32m    895\u001b[0m                     \u001b[0;31m# used.\u001b[0m\u001b[0;34m\u001b[0m\u001b[0;34m\u001b[0m\u001b[0;34m\u001b[0m\u001b[0m\n\u001b[1;32m    896\u001b[0m                     \u001b[0;32mpass\u001b[0m\u001b[0;34m\u001b[0m\u001b[0;34m\u001b[0m\u001b[0m\n\u001b[0;32m--> 897\u001b[0;31m         \u001b[0;32mreturn\u001b[0m \u001b[0mcomplexjson\u001b[0m\u001b[0;34m.\u001b[0m\u001b[0mloads\u001b[0m\u001b[0;34m(\u001b[0m\u001b[0mself\u001b[0m\u001b[0;34m.\u001b[0m\u001b[0mtext\u001b[0m\u001b[0;34m,\u001b[0m \u001b[0;34m**\u001b[0m\u001b[0mkwargs\u001b[0m\u001b[0;34m)\u001b[0m\u001b[0;34m\u001b[0m\u001b[0;34m\u001b[0m\u001b[0m\n\u001b[0m\u001b[1;32m    898\u001b[0m \u001b[0;34m\u001b[0m\u001b[0m\n\u001b[1;32m    899\u001b[0m     \u001b[0;34m@\u001b[0m\u001b[0mproperty\u001b[0m\u001b[0;34m\u001b[0m\u001b[0;34m\u001b[0m\u001b[0m\n",
      "\u001b[0;32m/usr/lib/python3.7/json/__init__.py\u001b[0m in \u001b[0;36mloads\u001b[0;34m(s, encoding, cls, object_hook, parse_float, parse_int, parse_constant, object_pairs_hook, **kw)\u001b[0m\n\u001b[1;32m    346\u001b[0m             \u001b[0mparse_int\u001b[0m \u001b[0;32mis\u001b[0m \u001b[0;32mNone\u001b[0m \u001b[0;32mand\u001b[0m \u001b[0mparse_float\u001b[0m \u001b[0;32mis\u001b[0m \u001b[0;32mNone\u001b[0m \u001b[0;32mand\u001b[0m\u001b[0;34m\u001b[0m\u001b[0;34m\u001b[0m\u001b[0m\n\u001b[1;32m    347\u001b[0m             parse_constant is None and object_pairs_hook is None and not kw):\n\u001b[0;32m--> 348\u001b[0;31m         \u001b[0;32mreturn\u001b[0m \u001b[0m_default_decoder\u001b[0m\u001b[0;34m.\u001b[0m\u001b[0mdecode\u001b[0m\u001b[0;34m(\u001b[0m\u001b[0ms\u001b[0m\u001b[0;34m)\u001b[0m\u001b[0;34m\u001b[0m\u001b[0;34m\u001b[0m\u001b[0m\n\u001b[0m\u001b[1;32m    349\u001b[0m     \u001b[0;32mif\u001b[0m \u001b[0mcls\u001b[0m \u001b[0;32mis\u001b[0m \u001b[0;32mNone\u001b[0m\u001b[0;34m:\u001b[0m\u001b[0;34m\u001b[0m\u001b[0;34m\u001b[0m\u001b[0m\n\u001b[1;32m    350\u001b[0m         \u001b[0mcls\u001b[0m \u001b[0;34m=\u001b[0m \u001b[0mJSONDecoder\u001b[0m\u001b[0;34m\u001b[0m\u001b[0;34m\u001b[0m\u001b[0m\n",
      "\u001b[0;32m/usr/lib/python3.7/json/decoder.py\u001b[0m in \u001b[0;36mdecode\u001b[0;34m(self, s, _w)\u001b[0m\n\u001b[1;32m    335\u001b[0m \u001b[0;34m\u001b[0m\u001b[0m\n\u001b[1;32m    336\u001b[0m         \"\"\"\n\u001b[0;32m--> 337\u001b[0;31m         \u001b[0mobj\u001b[0m\u001b[0;34m,\u001b[0m \u001b[0mend\u001b[0m \u001b[0;34m=\u001b[0m \u001b[0mself\u001b[0m\u001b[0;34m.\u001b[0m\u001b[0mraw_decode\u001b[0m\u001b[0;34m(\u001b[0m\u001b[0ms\u001b[0m\u001b[0;34m,\u001b[0m \u001b[0midx\u001b[0m\u001b[0;34m=\u001b[0m\u001b[0m_w\u001b[0m\u001b[0;34m(\u001b[0m\u001b[0ms\u001b[0m\u001b[0;34m,\u001b[0m \u001b[0;36m0\u001b[0m\u001b[0;34m)\u001b[0m\u001b[0;34m.\u001b[0m\u001b[0mend\u001b[0m\u001b[0;34m(\u001b[0m\u001b[0;34m)\u001b[0m\u001b[0;34m)\u001b[0m\u001b[0;34m\u001b[0m\u001b[0;34m\u001b[0m\u001b[0m\n\u001b[0m\u001b[1;32m    338\u001b[0m         \u001b[0mend\u001b[0m \u001b[0;34m=\u001b[0m \u001b[0m_w\u001b[0m\u001b[0;34m(\u001b[0m\u001b[0ms\u001b[0m\u001b[0;34m,\u001b[0m \u001b[0mend\u001b[0m\u001b[0;34m)\u001b[0m\u001b[0;34m.\u001b[0m\u001b[0mend\u001b[0m\u001b[0;34m(\u001b[0m\u001b[0;34m)\u001b[0m\u001b[0;34m\u001b[0m\u001b[0;34m\u001b[0m\u001b[0m\n\u001b[1;32m    339\u001b[0m         \u001b[0;32mif\u001b[0m \u001b[0mend\u001b[0m \u001b[0;34m!=\u001b[0m \u001b[0mlen\u001b[0m\u001b[0;34m(\u001b[0m\u001b[0ms\u001b[0m\u001b[0;34m)\u001b[0m\u001b[0;34m:\u001b[0m\u001b[0;34m\u001b[0m\u001b[0;34m\u001b[0m\u001b[0m\n",
      "\u001b[0;32m/usr/lib/python3.7/json/decoder.py\u001b[0m in \u001b[0;36mraw_decode\u001b[0;34m(self, s, idx)\u001b[0m\n\u001b[1;32m    353\u001b[0m             \u001b[0mobj\u001b[0m\u001b[0;34m,\u001b[0m \u001b[0mend\u001b[0m \u001b[0;34m=\u001b[0m \u001b[0mself\u001b[0m\u001b[0;34m.\u001b[0m\u001b[0mscan_once\u001b[0m\u001b[0;34m(\u001b[0m\u001b[0ms\u001b[0m\u001b[0;34m,\u001b[0m \u001b[0midx\u001b[0m\u001b[0;34m)\u001b[0m\u001b[0;34m\u001b[0m\u001b[0;34m\u001b[0m\u001b[0m\n\u001b[1;32m    354\u001b[0m         \u001b[0;32mexcept\u001b[0m \u001b[0mStopIteration\u001b[0m \u001b[0;32mas\u001b[0m \u001b[0merr\u001b[0m\u001b[0;34m:\u001b[0m\u001b[0;34m\u001b[0m\u001b[0;34m\u001b[0m\u001b[0m\n\u001b[0;32m--> 355\u001b[0;31m             \u001b[0;32mraise\u001b[0m \u001b[0mJSONDecodeError\u001b[0m\u001b[0;34m(\u001b[0m\u001b[0;34m\"Expecting value\"\u001b[0m\u001b[0;34m,\u001b[0m \u001b[0ms\u001b[0m\u001b[0;34m,\u001b[0m \u001b[0merr\u001b[0m\u001b[0;34m.\u001b[0m\u001b[0mvalue\u001b[0m\u001b[0;34m)\u001b[0m \u001b[0;32mfrom\u001b[0m \u001b[0;32mNone\u001b[0m\u001b[0;34m\u001b[0m\u001b[0;34m\u001b[0m\u001b[0m\n\u001b[0m\u001b[1;32m    356\u001b[0m         \u001b[0;32mreturn\u001b[0m \u001b[0mobj\u001b[0m\u001b[0;34m,\u001b[0m \u001b[0mend\u001b[0m\u001b[0;34m\u001b[0m\u001b[0;34m\u001b[0m\u001b[0m\n",
      "\u001b[0;31mJSONDecodeError\u001b[0m: Expecting value: line 1 column 1 (char 0)"
     ]
    }
   ],
   "source": [
    "# Run a job\n",
    "job_setting = {\n",
    "    \"v_cpu\": \"0.2\",\n",
    "    \"memory\": \"128Mi\",\n",
    "    \"gpu\": \"0\",\n",
    "    \"command\": \"cat Shakespeare/* | python3 wordcount.py ./my_output/\",\n",
    "    \"container_image\": \"ubuntu:18.04\",\n",
    "    'input_file_set': 'shakespeare.works',\n",
    "    'output_path': './my_output/',\n",
    "    'code': '/wordcount.zip',\n",
    "    'description': 'count some words',\n",
    "    'name': 'test job submission'\n",
    "}\n",
    "\n",
    "j = Job().with_attributes(job_setting).register().run()"
   ]
  },
  {
   "cell_type": "code",
   "execution_count": 33,
   "metadata": {},
   "outputs": [
    {
     "name": "stdout",
     "output_type": "stream",
     "text": [
      "Running request: 54.152.223.203 4399 job_registry job\n",
      "GET query {\"job_id\": 53, \"token\": \"b3WSr0orT5rWk1hyAL5oVWGSIFSkqOkO\"}\n"
     ]
    },
    {
     "data": {
      "text/plain": [
       "{'code': '/wordcount.zip',\n",
       " 'command': 'cat Shakespeare/* | python3 wordcount.py ./my_output/',\n",
       " 'container_image': 'ubuntu:18.04',\n",
       " 'description': 'count some words',\n",
       " 'gpu': '0',\n",
       " 'input_file_set': 'shakespeare.works',\n",
       " 'memory': '320Mi',\n",
       " 'name': 'test job submission',\n",
       " 'output_path': './my_output/',\n",
       " 'submitted_time': '2019-10-27T21:30:22.000+0000',\n",
       " 'v_cpu': '0.5'}"
      ]
     },
     "execution_count": 33,
     "metadata": {},
     "output_type": "execute_result"
    }
   ],
   "source": [
    "Job.find(53)"
   ]
  },
  {
   "cell_type": "code",
   "execution_count": 39,
   "metadata": {},
   "outputs": [
    {
     "name": "stdout",
     "output_type": "stream",
     "text": [
      "Running request: 54.152.223.203 4399 job_registry job\n",
      "GET query {\"job_id\": 54, \"token\": \"b3WSr0orT5rWk1hyAL5oVWGSIFSkqOkO\"}\n",
      "Running request: 54.152.223.203 4399 job_monitor job_status\n",
      "GET query {\"job_id\": 54, \"token\": \"b3WSr0orT5rWk1hyAL5oVWGSIFSkqOkO\"}\n"
     ]
    },
    {
     "data": {
      "text/plain": [
       "{'job_id': 54,\n",
       " 'user_id': 3873,\n",
       " 'job_status': 'Queueing',\n",
       " 'start_time': None,\n",
       " 'finish_time': None}"
      ]
     },
     "execution_count": 39,
     "metadata": {},
     "output_type": "execute_result"
    }
   ],
   "source": [
    "Job.find(54).status()"
   ]
  },
  {
   "cell_type": "code",
   "execution_count": null,
   "metadata": {},
   "outputs": [],
   "source": []
  }
 ],
 "metadata": {
  "kernelspec": {
   "display_name": "Python 3",
   "language": "python",
   "name": "python3"
  },
  "language_info": {
   "codemirror_mode": {
    "name": "ipython",
    "version": 3
   },
   "file_extension": ".py",
   "mimetype": "text/x-python",
   "name": "python",
   "nbconvert_exporter": "python",
   "pygments_lexer": "ipython3",
   "version": "3.7.1"
  }
 },
 "nbformat": 4,
 "nbformat_minor": 2
}

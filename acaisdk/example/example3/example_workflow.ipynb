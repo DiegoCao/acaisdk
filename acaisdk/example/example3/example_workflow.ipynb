{
 "cells": [
  {
   "cell_type": "code",
   "execution_count": 1,
   "metadata": {},
   "outputs": [],
   "source": [
    "import os\n",
    "import sys\n",
    "sys.path.append(os.path.dirname(os.path.realpath('__file__')) + '/../../../')\n",
    "from acaisdk.file import File\n",
    "from acaisdk.project import Project\n",
    "from acaisdk.fileset import FileSet\n",
    "from acaisdk.job import Job\n",
    "from acaisdk.meta import *\n",
    "from acaisdk.utils import utils\n",
    "from acaisdk import credentials\n",
    "\n",
    "utils.DEBUG = True  # print debug messages\n",
    "workspace = os.path.dirname(os.path.realpath('__file__'))  # get current directory"
   ]
  },
  {
   "cell_type": "code",
   "execution_count": 19,
   "metadata": {},
   "outputs": [],
   "source": [
    "# Make your changes here\n",
    "project_id = \"automl_example\"\n",
    "root_token = 'EmDlCTBF1ppONSciYVd03M9xkmF6hFqW'\n",
    "project_admin = 'joannc'\n",
    "user = 'joannc'"
   ]
  },
  {
   "cell_type": "code",
   "execution_count": 20,
   "metadata": {},
   "outputs": [
    {
     "name": "stdout",
     "output_type": "stream",
     "text": [
      "Running request: 35.237.138.197 80 credential create_project\n",
      "POST data {\"project_id\": \"automl_example\", \"admin_token\": \"EmDlCTBF1ppONSciYVd03M9xkmF6hFqW\", \"project_admin_name\": \"joannc\"}\n",
      "Running request: 35.237.138.197 80 credential create_user\n",
      "POST data {\"project_id\": \"automl_example\", \"admin_token\": \"D5cSf8bgUYVfGdyaclG5Gl0y17ZGnniN\", \"user_name\": \"joannc\"}\n",
      "Logged in with token NfnsQzfk70WQ2u9qZMtqJdh6o8VRzuEM\n"
     ]
    }
   ],
   "source": [
    "# Create project and user\n",
    "r = Project.create_project(project_id, root_token, project_admin)\n",
    "# Login is done automatically upon user creation\n",
    "r = Project.create_user(project_id, r['project_admin_token'], user)  "
   ]
  },
  {
   "cell_type": "code",
   "execution_count": 30,
   "metadata": {},
   "outputs": [
    {
     "name": "stdout",
     "output_type": "stream",
     "text": [
      "NfnsQzfk70WQ2u9qZMtqJdh6o8VRzuEM\n",
      "NfnsQzfk70WQ2u9qZMtqJdh6o8VRzuEM\n",
      "{'token': 'NfnsQzfk70WQ2u9qZMtqJdh6o8VRzuEM'}\n"
     ]
    }
   ],
   "source": [
    "# you can inspect your token in multiple ways\n",
    "print(r['user_token'])\n",
    "print(os.environ['ACAI_TOKEN'])\n",
    "print(credentials.get_credentials())"
   ]
  },
  {
   "cell_type": "code",
   "execution_count": 35,
   "metadata": {},
   "outputs": [],
   "source": [
    "credentials.login('NfnsQzfk70WQ2u9qZMtqJdh6o8VRzuEM')"
   ]
  },
  {
   "cell_type": "code",
   "execution_count": 75,
   "metadata": {},
   "outputs": [
    {
     "name": "stdout",
     "output_type": "stream",
     "text": [
      "Running request: 35.237.138.197 80 storage start_file_upload_session\n",
      "POST data {\"paths\": [\"/Archive.zip\"], \"token\": \"NfnsQzfk70WQ2u9qZMtqJdh6o8VRzuEM\"}\n",
      "[('/Users/Joann/Desktop/CMU/Capstone/code/acai-systems/acaisdk/acaisdk/example/example1/Archive.zip', '/Archive.zip')]\n",
      "r =  <Response [200]>\n",
      "Uploaded /Users/Joann/Desktop/CMU/Capstone/code/acai-systems/acaisdk/acaisdk/example/example1/Archive.zip to /Archive.zip\n",
      "Running request: 35.237.138.197 80 storage poll_file_upload_session\n",
      "GET query {\"session_id\": 2535, \"token\": \"NfnsQzfk70WQ2u9qZMtqJdh6o8VRzuEM\"}\n",
      "Running request: 35.237.138.197 80 storage poll_file_upload_session\n",
      "GET query {\"session_id\": 2535, \"token\": \"NfnsQzfk70WQ2u9qZMtqJdh6o8VRzuEM\"}\n",
      "Running request: 35.237.138.197 80 storage poll_file_upload_session\n",
      "GET query {\"session_id\": 2535, \"token\": \"NfnsQzfk70WQ2u9qZMtqJdh6o8VRzuEM\"}\n",
      "Running request: 35.237.138.197 80 storage finish_file_upload_session\n",
      "POST data {\"session_id\": 2535, \"token\": \"NfnsQzfk70WQ2u9qZMtqJdh6o8VRzuEM\"}\n"
     ]
    },
    {
     "data": {
      "text/plain": [
       "[('/Users/Joann/Desktop/CMU/Capstone/code/acai-systems/acaisdk/acaisdk/example/example1/Archive.zip',\n",
       "  'Archive.zip:9')]"
      ]
     },
     "execution_count": 75,
     "metadata": {},
     "output_type": "execute_result"
    }
   ],
   "source": [
    "# Upload code\n",
    "code = os.path.join(workspace, 'Archive.zip')\n",
    "File.upload({code: '/Archive.zip'})"
   ]
  },
  {
   "cell_type": "code",
   "execution_count": 66,
   "metadata": {},
   "outputs": [
    {
     "name": "stdout",
     "output_type": "stream",
     "text": [
      "Running request: 35.237.138.197 80 storage start_file_upload_session\n",
      "POST data {\"paths\": [\"SquadData2/requirements.txt\", \"SquadData2/dev.json\", \"SquadData2/train.json\"], \"token\": \"NfnsQzfk70WQ2u9qZMtqJdh6o8VRzuEM\"}\n",
      "[('/Users/Joann/Desktop/CMU/Capstone/code/acai-systems/acaisdk/acaisdk/example/example1/SquadData/requirements.txt', 'SquadData2/requirements.txt'), ('/Users/Joann/Desktop/CMU/Capstone/code/acai-systems/acaisdk/acaisdk/example/example1/SquadData/dev.json', 'SquadData2/dev.json'), ('/Users/Joann/Desktop/CMU/Capstone/code/acai-systems/acaisdk/acaisdk/example/example1/SquadData/train.json', 'SquadData2/train.json')]\n",
      "r =  <Response [200]>\n",
      "Uploaded /Users/Joann/Desktop/CMU/Capstone/code/acai-systems/acaisdk/acaisdk/example/example1/SquadData/requirements.txt to SquadData2/requirements.txt\n",
      "r =  <Response [200]>\n",
      "Uploaded /Users/Joann/Desktop/CMU/Capstone/code/acai-systems/acaisdk/acaisdk/example/example1/SquadData/dev.json to SquadData2/dev.json\n",
      "r =  <Response [200]>\n",
      "Uploaded /Users/Joann/Desktop/CMU/Capstone/code/acai-systems/acaisdk/acaisdk/example/example1/SquadData/train.json to SquadData2/train.json\n",
      "Running request: 35.237.138.197 80 storage poll_file_upload_session\n",
      "GET query {\"session_id\": 2524, \"token\": \"NfnsQzfk70WQ2u9qZMtqJdh6o8VRzuEM\"}\n",
      "Running request: 35.237.138.197 80 storage poll_file_upload_session\n",
      "GET query {\"session_id\": 2524, \"token\": \"NfnsQzfk70WQ2u9qZMtqJdh6o8VRzuEM\"}\n",
      "Running request: 35.237.138.197 80 storage poll_file_upload_session\n",
      "GET query {\"session_id\": 2524, \"token\": \"NfnsQzfk70WQ2u9qZMtqJdh6o8VRzuEM\"}\n",
      "Running request: 35.237.138.197 80 storage poll_file_upload_session\n",
      "GET query {\"session_id\": 2524, \"token\": \"NfnsQzfk70WQ2u9qZMtqJdh6o8VRzuEM\"}\n",
      "Running request: 35.237.138.197 80 storage finish_file_upload_session\n",
      "POST data {\"session_id\": 2524, \"token\": \"NfnsQzfk70WQ2u9qZMtqJdh6o8VRzuEM\"}\n",
      "Running request: 35.237.138.197 80 storage create_file_set\n",
      "POST data {\"name\": \"squad3.works\", \"files\": [\"SquadData2/requirements.txt:1\", \"SquadData2/dev.json:1\", \"SquadData2/train.json:1\"], \"token\": \"NfnsQzfk70WQ2u9qZMtqJdh6o8VRzuEM\"}\n"
     ]
    },
    {
     "data": {
      "text/plain": [
       "{'id': 'squad3.works:1',\n",
       " 'files': ['SquadData2/train.json:1',\n",
       "  'SquadData2/dev.json:1',\n",
       "  'SquadData2/requirements.txt:1']}"
      ]
     },
     "execution_count": 66,
     "metadata": {},
     "output_type": "execute_result"
    }
   ],
   "source": [
    "# Upload input files and create file set\n",
    "input_dir = os.path.join(workspace, 'SquadData')\n",
    "File.convert_to_file_mapping([input_dir], 'SquadData2/') \\\n",
    "    .files_to_upload \\\n",
    "    .upload() \\\n",
    "    .as_new_file_set('squad3.works')"
   ]
  },
  {
   "cell_type": "code",
   "execution_count": 76,
   "metadata": {},
   "outputs": [
    {
     "name": "stdout",
     "output_type": "stream",
     "text": [
      "Running request: 35.237.138.197 80 storage resolve_file_set\n",
      "GET query {\"vague_name\": \"squad3.works\", \"token\": \"NfnsQzfk70WQ2u9qZMtqJdh6o8VRzuEM\"}\n",
      "Running request: 35.237.138.197 80 job_registry new_job\n",
      "POST data {\"name\": \"bm25_job\", \"input_file_set\": \"squad3.works:1\", \"output_path\": \"./output/\", \"code\": \"/Archive.zip\", \"command\": \"mkdir -p ./output/ &&(pip install -r SquadData2/requirements.txt) && (python3 local_pipeline.py ./SquadData2/ ./output/)\", \"container_image\": \"pytorch/pytorch\", \"description\": \"do bm 25\", \"v_cpu\": \"0.2\", \"gpu\": \"0\", \"memory\": \"1024Mi\", \"job_status\": null, \"token\": \"NfnsQzfk70WQ2u9qZMtqJdh6o8VRzuEM\"}\n",
      "{'status': {'message': 'launching'}, 'job': {'name': 'bm25_job', 'code': '/Archive.zip', 'command': 'mkdir -p ./output/ &&(pip install -r SquadData2/requirements.txt) && (python3 local_pipeline.py ./SquadData2/ ./output/)', 'description': 'do bm 25', 'gpu': '0', 'memory': '1024Mi', 'hidden': False, 'type': 'DEFAULT', 'vcpu': '0.2', 'id': 191, 'input_file_set': 'squad3.works:1', 'output_path': './output/', 'user_id': 2422, 'project_id': 'automl_example', 'container_image': 'pytorch/pytorch', 'v_cpu': '0.2', 'output_file_set': 'job_191_output', 'submitted_time': '2020-09-21T05:48:09.597+0000'}}\n"
     ]
    }
   ],
   "source": [
    "# Run a job\n",
    "job_setting = {\n",
    "    \"v_cpu\": \"0.2\",\n",
    "    \"memory\": \"1024Mi\",\n",
    "    \"gpu\": \"0\",\n",
    "    \"command\": \"mkdir -p ./output/ &&(pip install -r SquadData2/requirements.txt) && (python3 local_pipeline.py ./SquadData2/ ./output/)\",\n",
    "    \"container_image\": \"pytorch/pytorch\",\n",
    "    'input_file_set': 'squad3.works',\n",
    "    'output_path': './output/',\n",
    "    'code': '/Archive.zip',\n",
    "    'description': 'do bm 25',\n",
    "    'name': 'bm25_job'\n",
    "}\n",
    "\n",
    "j = Job().with_attributes(job_setting).run()"
   ]
  },
  {
   "cell_type": "code",
   "execution_count": 27,
   "metadata": {},
   "outputs": [
    {
     "name": "stdout",
     "output_type": "stream",
     "text": [
      "Running request: 35.237.138.197 80 storage list_directory\n",
      "GET query {\"directory_path\": \"/my_output\", \"token\": \"NfnsQzfk70WQ2u9qZMtqJdh6o8VRzuEM\"}\n"
     ]
    },
    {
     "ename": "RemoteException",
     "evalue": "b'edu.cmu.cs.mcds.acai.storage.controller.RequestFailedException: Entity my_output:0 does not exist.\\n\\tat edu.cmu.cs.mcds.acai.storage.model.FileRepository.resolveEntity(FileRepository.java:136)\\n\\tat java.lang.invoke.MethodHandle.invokeWithArguments(MethodHandle.java:627)\\n\\tat org.springframework.data.projection.DefaultMethodInvokingMethodInterceptor.invoke(DefaultMethodInvokingMethodInterceptor.java:65)\\n\\tat org.springframework.aop.framework.ReflectiveMethodInvocation.proceed(ReflectiveMethodInvocation.java:186)\\n\\tat org.springframework.transaction.interceptor.TransactionAspectSupport.invokeWithinTransaction(TransactionAspectSupport.java:294)\\n\\tat org.springframework.transaction.interceptor.TransactionInterceptor.invoke(TransactionInterceptor.java:98)\\n\\tat org.springframework.aop.framework.ReflectiveMethodInvocation.proceed(ReflectiveMethodInvocation.java:186)\\n\\tat org.springframework.dao.support.PersistenceExceptionTranslationInterceptor.invoke(PersistenceExceptionTranslationInterceptor.java:139)\\n\\tat org.springframework.aop.framework.ReflectiveMethodInvocation.proceed(ReflectiveMethodInvocation.java:186)\\n\\tat org.springframework.data.jpa.repository.support.CrudMethodMetadataPostProcessor$CrudMethodMetadataPopulatingMethodInterceptor.invoke(CrudMethodMetadataPostProcessor.java:135)\\n\\tat org.springframework.aop.framework.ReflectiveMethodInvocation.proceed(ReflectiveMethodInvocation.java:186)\\n\\tat org.springframework.aop.interceptor.ExposeInvocationInterceptor.invoke(ExposeInvocationInterceptor.java:93)\\n\\tat org.springframework.aop.framework.ReflectiveMethodInvocation.proceed(ReflectiveMethodInvocation.java:186)\\n\\tat org.springframework.data.repository.core.support.SurroundingTransactionDetectorMethodInterceptor.invoke(SurroundingTransactionDetectorMethodInterceptor.java:61)\\n\\tat org.springframework.aop.framework.ReflectiveMethodInvocation.proceed(ReflectiveMethodInvocation.java:186)\\n\\tat org.springframework.aop.framework.JdkDynamicAopProxy.invoke(JdkDynamicAopProxy.java:212)\\n\\tat com.sun.proxy.$Proxy114.resolveEntity(Unknown Source)\\n\\tat edu.cmu.cs.mcds.acai.storage.model.FileRepository.resolveDirectory(FileRepository.java:80)\\n\\tat java.lang.invoke.MethodHandle.invokeWithArguments(MethodHandle.java:627)\\n\\tat org.springframework.data.projection.DefaultMethodInvokingMethodInterceptor.invoke(DefaultMethodInvokingMethodInterceptor.java:65)\\n\\tat org.springframework.aop.framework.ReflectiveMethodInvocation.proceed(ReflectiveMethodInvocation.java:186)\\n\\tat org.springframework.transaction.interceptor.TransactionAspectSupport.invokeWithinTransaction(TransactionAspectSupport.java:294)\\n\\tat org.springframework.transaction.interceptor.TransactionInterceptor.invoke(TransactionInterceptor.java:98)\\n\\tat org.springframework.aop.framework.ReflectiveMethodInvocation.proceed(ReflectiveMethodInvocation.java:186)\\n\\tat org.springframework.dao.support.PersistenceExceptionTranslationInterceptor.invoke(PersistenceExceptionTranslationInterceptor.java:139)\\n\\tat org.springframework.aop.framework.ReflectiveMethodInvocation.proceed(ReflectiveMethodInvocation.java:186)\\n\\tat org.springframework.data.jpa.repository.support.CrudMethodMetadataPostProcessor$CrudMethodMetadataPopulatingMethodInterceptor.invoke(CrudMethodMetadataPostProcessor.java:135)\\n\\tat org.springframework.aop.framework.ReflectiveMethodInvocation.proceed(ReflectiveMethodInvocation.java:186)\\n\\tat org.springframework.aop.interceptor.ExposeInvocationInterceptor.invoke(ExposeInvocationInterceptor.java:93)\\n\\tat org.springframework.aop.framework.ReflectiveMethodInvocation.proceed(ReflectiveMethodInvocation.java:186)\\n\\tat org.springframework.data.repository.core.support.SurroundingTransactionDetectorMethodInterceptor.invoke(SurroundingTransactionDetectorMethodInterceptor.java:61)\\n\\tat org.springframework.aop.framework.ReflectiveMethodInvocation.proceed(ReflectiveMethodInvocation.java:186)\\n\\tat org.springframework.aop.framework.JdkDynamicAopProxy.invoke(JdkDynamicAopProxy.java:212)\\n\\tat com.sun.proxy.$Proxy114.resolveDirectory(Unknown Source)\\n\\tat edu.cmu.cs.mcds.acai.storage.controller.StorageController.listDirectory(StorageController.java:79)\\n\\tat edu.cmu.cs.mcds.acai.storage.controller.StorageController$$FastClassBySpringCGLIB$$3b6771d6.invoke(<generated>)\\n\\tat org.springframework.cglib.proxy.MethodProxy.invoke(MethodProxy.java:218)\\n\\tat org.springframework.aop.framework.CglibAopProxy$CglibMethodInvocation.invokeJoinpoint(CglibAopProxy.java:749)\\n\\tat org.springframework.aop.framework.ReflectiveMethodInvocation.proceed(ReflectiveMethodInvocation.java:163)\\n\\tat org.springframework.transaction.interceptor.TransactionAspectSupport.invokeWithinTransaction(TransactionAspectSupport.java:294)\\n\\tat org.springframework.transaction.interceptor.TransactionInterceptor.invoke(TransactionInterceptor.java:98)\\n\\tat org.springframework.aop.framework.ReflectiveMethodInvocation.proceed(ReflectiveMethodInvocation.java:186)\\n\\tat org.springframework.aop.framework.CglibAopProxy$DynamicAdvisedInterceptor.intercept(CglibAopProxy.java:688)\\n\\tat edu.cmu.cs.mcds.acai.storage.controller.StorageController$$EnhancerBySpringCGLIB$$d0c24a3e.listDirectory(<generated>)\\n\\tat sun.reflect.NativeMethodAccessorImpl.invoke0(Native Method)\\n\\tat sun.reflect.NativeMethodAccessorImpl.invoke(NativeMethodAccessorImpl.java:62)\\n\\tat sun.reflect.DelegatingMethodAccessorImpl.invoke(DelegatingMethodAccessorImpl.java:43)\\n\\tat java.lang.reflect.Method.invoke(Method.java:498)\\n\\tat org.springframework.web.method.support.InvocableHandlerMethod.doInvoke(InvocableHandlerMethod.java:189)\\n\\tat org.springframework.web.method.support.InvocableHandlerMethod.invokeForRequest(InvocableHandlerMethod.java:138)\\n\\tat org.springframework.web.servlet.mvc.method.annotation.ServletInvocableHandlerMethod.invokeAndHandle(ServletInvocableHandlerMethod.java:102)\\n\\tat org.springframework.web.servlet.mvc.method.annotation.RequestMappingHandlerAdapter.invokeHandlerMethod(RequestMappingHandlerAdapter.java:895)\\n\\tat org.springframework.web.servlet.mvc.method.annotation.RequestMappingHandlerAdapter.handleInternal(RequestMappingHandlerAdapter.java:800)\\n\\tat org.springframework.web.servlet.mvc.method.AbstractHandlerMethodAdapter.handle(AbstractHandlerMethodAdapter.java:87)\\n\\tat org.springframework.web.servlet.DispatcherServlet.doDispatch(DispatcherServlet.java:1038)\\n\\tat org.springframework.web.servlet.DispatcherServlet.doService(DispatcherServlet.java:942)\\n\\tat org.springframework.web.servlet.FrameworkServlet.processRequest(FrameworkServlet.java:1005)\\n\\tat org.springframework.web.servlet.FrameworkServlet.doGet(FrameworkServlet.java:897)\\n\\tat javax.servlet.http.HttpServlet.service(HttpServlet.java:634)\\n\\tat org.springframework.web.servlet.FrameworkServlet.service(FrameworkServlet.java:882)\\n\\tat javax.servlet.http.HttpServlet.service(HttpServlet.java:741)\\n\\tat org.apache.catalina.core.ApplicationFilterChain.internalDoFilter(ApplicationFilterChain.java:231)\\n\\tat org.apache.catalina.core.ApplicationFilterChain.doFilter(ApplicationFilterChain.java:166)\\n\\tat org.apache.tomcat.websocket.server.WsFilter.doFilter(WsFilter.java:53)\\n\\tat org.apache.catalina.core.ApplicationFilterChain.internalDoFilter(ApplicationFilterChain.java:193)\\n\\tat org.apache.catalina.core.ApplicationFilterChain.doFilter(ApplicationFilterChain.java:166)\\n\\tat org.springframework.web.filter.RequestContextFilter.doFilterInternal(RequestContextFilter.java:99)\\n\\tat org.springframework.web.filter.OncePerRequestFilter.doFilter(OncePerRequestFilter.java:107)\\n\\tat org.apache.catalina.core.ApplicationFilterChain.internalDoFilter(ApplicationFilterChain.java:193)\\n\\tat org.apache.catalina.core.ApplicationFilterChain.doFilter(ApplicationFilterChain.java:166)\\n\\tat org.springframework.web.filter.FormContentFilter.doFilterInternal(FormContentFilter.java:92)\\n\\tat org.springframework.web.filter.OncePerRequestFilter.doFilter(OncePerRequestFilter.java:107)\\n\\tat org.apache.catalina.core.ApplicationFilterChain.internalDoFilter(ApplicationFilterChain.java:193)\\n\\tat org.apache.catalina.core.ApplicationFilterChain.doFilter(ApplicationFilterChain.java:166)\\n\\tat org.springframework.web.filter.HiddenHttpMethodFilter.doFilterInternal(HiddenHttpMethodFilter.java:93)\\n\\tat org.springframework.web.filter.OncePerRequestFilter.doFilter(OncePerRequestFilter.java:107)\\n\\tat org.apache.catalina.core.ApplicationFilterChain.internalDoFilter(ApplicationFilterChain.java:193)\\n\\tat org.apache.catalina.core.ApplicationFilterChain.doFilter(ApplicationFilterChain.java:166)\\n\\tat org.springframework.web.filter.CharacterEncodingFilter.doFilterInternal(CharacterEncodingFilter.java:200)\\n\\tat org.springframework.web.filter.OncePerRequestFilter.doFilter(OncePerRequestFilter.java:107)\\n\\tat org.apache.catalina.core.ApplicationFilterChain.internalDoFilter(ApplicationFilterChain.java:193)\\n\\tat org.apache.catalina.core.ApplicationFilterChain.doFilter(ApplicationFilterChain.java:166)\\n\\tat org.apache.catalina.core.StandardWrapperValve.invoke(StandardWrapperValve.java:200)\\n\\tat org.apache.catalina.core.StandardContextValve.invoke(StandardContextValve.java:96)\\n\\tat org.apache.catalina.authenticator.AuthenticatorBase.invoke(AuthenticatorBase.java:490)\\n\\tat org.apache.catalina.core.StandardHostValve.invoke(StandardHostValve.java:139)\\n\\tat org.apache.catalina.valves.ErrorReportValve.invoke(ErrorReportValve.java:92)\\n\\tat org.apache.catalina.core.StandardEngineValve.invoke(StandardEngineValve.java:74)\\n\\tat org.apache.catalina.connector.CoyoteAdapter.service(CoyoteAdapter.java:343)\\n\\tat org.apache.coyote.http11.Http11Processor.service(Http11Processor.java:408)\\n\\tat org.apache.coyote.AbstractProcessorLight.process(AbstractProcessorLight.java:66)\\n\\tat org.apache.coyote.AbstractProtocol$ConnectionHandler.process(AbstractProtocol.java:834)\\n\\tat org.apache.tomcat.util.net.NioEndpoint$SocketProcessor.doRun(NioEndpoint.java:1415)\\n\\tat org.apache.tomcat.util.net.SocketProcessorBase.run(SocketProcessorBase.java:49)\\n\\tat java.util.concurrent.ThreadPoolExecutor.runWorker(ThreadPoolExecutor.java:1149)\\n\\tat java.util.concurrent.ThreadPoolExecutor$Worker.run(ThreadPoolExecutor.java:624)\\n\\tat org.apache.tomcat.util.threads.TaskThread$WrappingRunnable.run(TaskThread.java:61)\\n\\tat java.lang.Thread.run(Thread.java:748)\\n'",
     "output_type": "error",
     "traceback": [
      "\u001b[0;31m---------------------------------------------------------------------------\u001b[0m",
      "\u001b[0;31mRemoteException\u001b[0m                           Traceback (most recent call last)",
      "\u001b[0;32m<ipython-input-27-3b4559e3e418>\u001b[0m in \u001b[0;36m<module>\u001b[0;34m\u001b[0m\n\u001b[1;32m      1\u001b[0m \u001b[0;31m# Take a look at what's in the output folder\u001b[0m\u001b[0;34m\u001b[0m\u001b[0;34m\u001b[0m\u001b[0;34m\u001b[0m\u001b[0m\n\u001b[0;32m----> 2\u001b[0;31m \u001b[0mFile\u001b[0m\u001b[0;34m.\u001b[0m\u001b[0mlist_dir\u001b[0m\u001b[0;34m(\u001b[0m\u001b[0;34m'/my_output'\u001b[0m\u001b[0;34m)\u001b[0m\u001b[0;34m\u001b[0m\u001b[0;34m\u001b[0m\u001b[0m\n\u001b[0m",
      "\u001b[0;32m~/Desktop/CMU/Capstone/code/acai-systems/acaisdk/acaisdk/example/example1/../../../acaisdk/file.py\u001b[0m in \u001b[0;36mlist_dir\u001b[0;34m(directory)\u001b[0m\n\u001b[1;32m     32\u001b[0m         \"\"\"\n\u001b[1;32m     33\u001b[0m         \u001b[0mr\u001b[0m \u001b[0;34m=\u001b[0m \u001b[0mRestRequest\u001b[0m\u001b[0;34m(\u001b[0m\u001b[0mStorageApi\u001b[0m\u001b[0;34m.\u001b[0m\u001b[0mlist_directory\u001b[0m\u001b[0;34m)\u001b[0m\u001b[0;31m \u001b[0m\u001b[0;31m\\\u001b[0m\u001b[0;34m\u001b[0m\u001b[0;34m\u001b[0m\u001b[0m\n\u001b[0;32m---> 34\u001b[0;31m             \u001b[0;34m.\u001b[0m\u001b[0mwith_query\u001b[0m\u001b[0;34m(\u001b[0m\u001b[0;34m{\u001b[0m\u001b[0;34m'directory_path'\u001b[0m\u001b[0;34m:\u001b[0m \u001b[0mdirectory\u001b[0m\u001b[0;34m}\u001b[0m\u001b[0;34m)\u001b[0m\u001b[0;31m \u001b[0m\u001b[0;31m\\\u001b[0m\u001b[0;34m\u001b[0m\u001b[0;34m\u001b[0m\u001b[0m\n\u001b[0m\u001b[1;32m     35\u001b[0m             \u001b[0;34m.\u001b[0m\u001b[0mwith_credentials\u001b[0m\u001b[0;34m(\u001b[0m\u001b[0;34m)\u001b[0m\u001b[0;31m \u001b[0m\u001b[0;31m\\\u001b[0m\u001b[0;34m\u001b[0m\u001b[0;34m\u001b[0m\u001b[0m\n\u001b[1;32m     36\u001b[0m             \u001b[0;34m.\u001b[0m\u001b[0mrun\u001b[0m\u001b[0;34m(\u001b[0m\u001b[0;34m)\u001b[0m\u001b[0;34m\u001b[0m\u001b[0;34m\u001b[0m\u001b[0m\n",
      "\u001b[0;32m~/Desktop/CMU/Capstone/code/acai-systems/acaisdk/acaisdk/example/example1/../../../acaisdk/services/api_calls.py\u001b[0m in \u001b[0;36mrun\u001b[0;34m(self)\u001b[0m\n\u001b[1;32m    178\u001b[0m                                   \u001b[0mself\u001b[0m\u001b[0;34m.\u001b[0m\u001b[0mservice\u001b[0m\u001b[0;34m.\u001b[0m\u001b[0mservice_name\u001b[0m\u001b[0;34m,\u001b[0m\u001b[0;34m\u001b[0m\u001b[0;34m\u001b[0m\u001b[0m\n\u001b[1;32m    179\u001b[0m                                   \u001b[0mself\u001b[0m\u001b[0;34m.\u001b[0m\u001b[0mservice\u001b[0m\u001b[0;34m.\u001b[0m\u001b[0mname\u001b[0m\u001b[0;34m,\u001b[0m\u001b[0;34m\u001b[0m\u001b[0;34m\u001b[0m\u001b[0m\n\u001b[0;32m--> 180\u001b[0;31m                                   self.query)\n\u001b[0m\u001b[1;32m    181\u001b[0m         \u001b[0;32melif\u001b[0m \u001b[0mself\u001b[0m\u001b[0;34m.\u001b[0m\u001b[0mservice\u001b[0m\u001b[0;34m.\u001b[0m\u001b[0mmethod\u001b[0m \u001b[0;34m==\u001b[0m \u001b[0mRestMethods\u001b[0m\u001b[0;34m.\u001b[0m\u001b[0mpost\u001b[0m\u001b[0;34m:\u001b[0m\u001b[0;34m\u001b[0m\u001b[0;34m\u001b[0m\u001b[0m\n\u001b[1;32m    182\u001b[0m             \u001b[0mself\u001b[0m\u001b[0;34m.\u001b[0m\u001b[0mdata\u001b[0m\u001b[0;34m.\u001b[0m\u001b[0mupdate\u001b[0m\u001b[0;34m(\u001b[0m\u001b[0mself\u001b[0m\u001b[0;34m.\u001b[0m\u001b[0mcredentials\u001b[0m\u001b[0;34m)\u001b[0m\u001b[0;34m\u001b[0m\u001b[0;34m\u001b[0m\u001b[0m\n",
      "\u001b[0;32m~/Desktop/CMU/Capstone/code/acai-systems/acaisdk/acaisdk/example/example1/../../../acaisdk/utils/rest_utils.py\u001b[0m in \u001b[0;36mget\u001b[0;34m(server, port, service, path, params)\u001b[0m\n\u001b[1;32m     33\u001b[0m                           params=params, verify=False)\n\u001b[1;32m     34\u001b[0m     \u001b[0;32mif\u001b[0m \u001b[0mr\u001b[0m\u001b[0;34m.\u001b[0m\u001b[0mstatus_code\u001b[0m \u001b[0;34m!=\u001b[0m \u001b[0mHTTPStatus\u001b[0m\u001b[0;34m.\u001b[0m\u001b[0mOK\u001b[0m\u001b[0;34m:\u001b[0m\u001b[0;34m\u001b[0m\u001b[0;34m\u001b[0m\u001b[0m\n\u001b[0;32m---> 35\u001b[0;31m         \u001b[0;32mraise\u001b[0m \u001b[0mexceptions\u001b[0m\u001b[0;34m.\u001b[0m\u001b[0mRemoteException\u001b[0m\u001b[0;34m(\u001b[0m\u001b[0mr\u001b[0m\u001b[0;34m.\u001b[0m\u001b[0mcontent\u001b[0m\u001b[0;34m)\u001b[0m\u001b[0;34m\u001b[0m\u001b[0;34m\u001b[0m\u001b[0m\n\u001b[0m\u001b[1;32m     36\u001b[0m     \u001b[0;32mreturn\u001b[0m \u001b[0mr\u001b[0m\u001b[0;34m.\u001b[0m\u001b[0mjson\u001b[0m\u001b[0;34m(\u001b[0m\u001b[0;34m)\u001b[0m\u001b[0;34m\u001b[0m\u001b[0;34m\u001b[0m\u001b[0m\n",
      "\u001b[0;31mRemoteException\u001b[0m: b'edu.cmu.cs.mcds.acai.storage.controller.RequestFailedException: Entity my_output:0 does not exist.\\n\\tat edu.cmu.cs.mcds.acai.storage.model.FileRepository.resolveEntity(FileRepository.java:136)\\n\\tat java.lang.invoke.MethodHandle.invokeWithArguments(MethodHandle.java:627)\\n\\tat org.springframework.data.projection.DefaultMethodInvokingMethodInterceptor.invoke(DefaultMethodInvokingMethodInterceptor.java:65)\\n\\tat org.springframework.aop.framework.ReflectiveMethodInvocation.proceed(ReflectiveMethodInvocation.java:186)\\n\\tat org.springframework.transaction.interceptor.TransactionAspectSupport.invokeWithinTransaction(TransactionAspectSupport.java:294)\\n\\tat org.springframework.transaction.interceptor.TransactionInterceptor.invoke(TransactionInterceptor.java:98)\\n\\tat org.springframework.aop.framework.ReflectiveMethodInvocation.proceed(ReflectiveMethodInvocation.java:186)\\n\\tat org.springframework.dao.support.PersistenceExceptionTranslationInterceptor.invoke(PersistenceExceptionTranslationInterceptor.java:139)\\n\\tat org.springframework.aop.framework.ReflectiveMethodInvocation.proceed(ReflectiveMethodInvocation.java:186)\\n\\tat org.springframework.data.jpa.repository.support.CrudMethodMetadataPostProcessor$CrudMethodMetadataPopulatingMethodInterceptor.invoke(CrudMethodMetadataPostProcessor.java:135)\\n\\tat org.springframework.aop.framework.ReflectiveMethodInvocation.proceed(ReflectiveMethodInvocation.java:186)\\n\\tat org.springframework.aop.interceptor.ExposeInvocationInterceptor.invoke(ExposeInvocationInterceptor.java:93)\\n\\tat org.springframework.aop.framework.ReflectiveMethodInvocation.proceed(ReflectiveMethodInvocation.java:186)\\n\\tat org.springframework.data.repository.core.support.SurroundingTransactionDetectorMethodInterceptor.invoke(SurroundingTransactionDetectorMethodInterceptor.java:61)\\n\\tat org.springframework.aop.framework.ReflectiveMethodInvocation.proceed(ReflectiveMethodInvocation.java:186)\\n\\tat org.springframework.aop.framework.JdkDynamicAopProxy.invoke(JdkDynamicAopProxy.java:212)\\n\\tat com.sun.proxy.$Proxy114.resolveEntity(Unknown Source)\\n\\tat edu.cmu.cs.mcds.acai.storage.model.FileRepository.resolveDirectory(FileRepository.java:80)\\n\\tat java.lang.invoke.MethodHandle.invokeWithArguments(MethodHandle.java:627)\\n\\tat org.springframework.data.projection.DefaultMethodInvokingMethodInterceptor.invoke(DefaultMethodInvokingMethodInterceptor.java:65)\\n\\tat org.springframework.aop.framework.ReflectiveMethodInvocation.proceed(ReflectiveMethodInvocation.java:186)\\n\\tat org.springframework.transaction.interceptor.TransactionAspectSupport.invokeWithinTransaction(TransactionAspectSupport.java:294)\\n\\tat org.springframework.transaction.interceptor.TransactionInterceptor.invoke(TransactionInterceptor.java:98)\\n\\tat org.springframework.aop.framework.ReflectiveMethodInvocation.proceed(ReflectiveMethodInvocation.java:186)\\n\\tat org.springframework.dao.support.PersistenceExceptionTranslationInterceptor.invoke(PersistenceExceptionTranslationInterceptor.java:139)\\n\\tat org.springframework.aop.framework.ReflectiveMethodInvocation.proceed(ReflectiveMethodInvocation.java:186)\\n\\tat org.springframework.data.jpa.repository.support.CrudMethodMetadataPostProcessor$CrudMethodMetadataPopulatingMethodInterceptor.invoke(CrudMethodMetadataPostProcessor.java:135)\\n\\tat org.springframework.aop.framework.ReflectiveMethodInvocation.proceed(ReflectiveMethodInvocation.java:186)\\n\\tat org.springframework.aop.interceptor.ExposeInvocationInterceptor.invoke(ExposeInvocationInterceptor.java:93)\\n\\tat org.springframework.aop.framework.ReflectiveMethodInvocation.proceed(ReflectiveMethodInvocation.java:186)\\n\\tat org.springframework.data.repository.core.support.SurroundingTransactionDetectorMethodInterceptor.invoke(SurroundingTransactionDetectorMethodInterceptor.java:61)\\n\\tat org.springframework.aop.framework.ReflectiveMethodInvocation.proceed(ReflectiveMethodInvocation.java:186)\\n\\tat org.springframework.aop.framework.JdkDynamicAopProxy.invoke(JdkDynamicAopProxy.java:212)\\n\\tat com.sun.proxy.$Proxy114.resolveDirectory(Unknown Source)\\n\\tat edu.cmu.cs.mcds.acai.storage.controller.StorageController.listDirectory(StorageController.java:79)\\n\\tat edu.cmu.cs.mcds.acai.storage.controller.StorageController$$FastClassBySpringCGLIB$$3b6771d6.invoke(<generated>)\\n\\tat org.springframework.cglib.proxy.MethodProxy.invoke(MethodProxy.java:218)\\n\\tat org.springframework.aop.framework.CglibAopProxy$CglibMethodInvocation.invokeJoinpoint(CglibAopProxy.java:749)\\n\\tat org.springframework.aop.framework.ReflectiveMethodInvocation.proceed(ReflectiveMethodInvocation.java:163)\\n\\tat org.springframework.transaction.interceptor.TransactionAspectSupport.invokeWithinTransaction(TransactionAspectSupport.java:294)\\n\\tat org.springframework.transaction.interceptor.TransactionInterceptor.invoke(TransactionInterceptor.java:98)\\n\\tat org.springframework.aop.framework.ReflectiveMethodInvocation.proceed(ReflectiveMethodInvocation.java:186)\\n\\tat org.springframework.aop.framework.CglibAopProxy$DynamicAdvisedInterceptor.intercept(CglibAopProxy.java:688)\\n\\tat edu.cmu.cs.mcds.acai.storage.controller.StorageController$$EnhancerBySpringCGLIB$$d0c24a3e.listDirectory(<generated>)\\n\\tat sun.reflect.NativeMethodAccessorImpl.invoke0(Native Method)\\n\\tat sun.reflect.NativeMethodAccessorImpl.invoke(NativeMethodAccessorImpl.java:62)\\n\\tat sun.reflect.DelegatingMethodAccessorImpl.invoke(DelegatingMethodAccessorImpl.java:43)\\n\\tat java.lang.reflect.Method.invoke(Method.java:498)\\n\\tat org.springframework.web.method.support.InvocableHandlerMethod.doInvoke(InvocableHandlerMethod.java:189)\\n\\tat org.springframework.web.method.support.InvocableHandlerMethod.invokeForRequest(InvocableHandlerMethod.java:138)\\n\\tat org.springframework.web.servlet.mvc.method.annotation.ServletInvocableHandlerMethod.invokeAndHandle(ServletInvocableHandlerMethod.java:102)\\n\\tat org.springframework.web.servlet.mvc.method.annotation.RequestMappingHandlerAdapter.invokeHandlerMethod(RequestMappingHandlerAdapter.java:895)\\n\\tat org.springframework.web.servlet.mvc.method.annotation.RequestMappingHandlerAdapter.handleInternal(RequestMappingHandlerAdapter.java:800)\\n\\tat org.springframework.web.servlet.mvc.method.AbstractHandlerMethodAdapter.handle(AbstractHandlerMethodAdapter.java:87)\\n\\tat org.springframework.web.servlet.DispatcherServlet.doDispatch(DispatcherServlet.java:1038)\\n\\tat org.springframework.web.servlet.DispatcherServlet.doService(DispatcherServlet.java:942)\\n\\tat org.springframework.web.servlet.FrameworkServlet.processRequest(FrameworkServlet.java:1005)\\n\\tat org.springframework.web.servlet.FrameworkServlet.doGet(FrameworkServlet.java:897)\\n\\tat javax.servlet.http.HttpServlet.service(HttpServlet.java:634)\\n\\tat org.springframework.web.servlet.FrameworkServlet.service(FrameworkServlet.java:882)\\n\\tat javax.servlet.http.HttpServlet.service(HttpServlet.java:741)\\n\\tat org.apache.catalina.core.ApplicationFilterChain.internalDoFilter(ApplicationFilterChain.java:231)\\n\\tat org.apache.catalina.core.ApplicationFilterChain.doFilter(ApplicationFilterChain.java:166)\\n\\tat org.apache.tomcat.websocket.server.WsFilter.doFilter(WsFilter.java:53)\\n\\tat org.apache.catalina.core.ApplicationFilterChain.internalDoFilter(ApplicationFilterChain.java:193)\\n\\tat org.apache.catalina.core.ApplicationFilterChain.doFilter(ApplicationFilterChain.java:166)\\n\\tat org.springframework.web.filter.RequestContextFilter.doFilterInternal(RequestContextFilter.java:99)\\n\\tat org.springframework.web.filter.OncePerRequestFilter.doFilter(OncePerRequestFilter.java:107)\\n\\tat org.apache.catalina.core.ApplicationFilterChain.internalDoFilter(ApplicationFilterChain.java:193)\\n\\tat org.apache.catalina.core.ApplicationFilterChain.doFilter(ApplicationFilterChain.java:166)\\n\\tat org.springframework.web.filter.FormContentFilter.doFilterInternal(FormContentFilter.java:92)\\n\\tat org.springframework.web.filter.OncePerRequestFilter.doFilter(OncePerRequestFilter.java:107)\\n\\tat org.apache.catalina.core.ApplicationFilterChain.internalDoFilter(ApplicationFilterChain.java:193)\\n\\tat org.apache.catalina.core.ApplicationFilterChain.doFilter(ApplicationFilterChain.java:166)\\n\\tat org.springframework.web.filter.HiddenHttpMethodFilter.doFilterInternal(HiddenHttpMethodFilter.java:93)\\n\\tat org.springframework.web.filter.OncePerRequestFilter.doFilter(OncePerRequestFilter.java:107)\\n\\tat org.apache.catalina.core.ApplicationFilterChain.internalDoFilter(ApplicationFilterChain.java:193)\\n\\tat org.apache.catalina.core.ApplicationFilterChain.doFilter(ApplicationFilterChain.java:166)\\n\\tat org.springframework.web.filter.CharacterEncodingFilter.doFilterInternal(CharacterEncodingFilter.java:200)\\n\\tat org.springframework.web.filter.OncePerRequestFilter.doFilter(OncePerRequestFilter.java:107)\\n\\tat org.apache.catalina.core.ApplicationFilterChain.internalDoFilter(ApplicationFilterChain.java:193)\\n\\tat org.apache.catalina.core.ApplicationFilterChain.doFilter(ApplicationFilterChain.java:166)\\n\\tat org.apache.catalina.core.StandardWrapperValve.invoke(StandardWrapperValve.java:200)\\n\\tat org.apache.catalina.core.StandardContextValve.invoke(StandardContextValve.java:96)\\n\\tat org.apache.catalina.authenticator.AuthenticatorBase.invoke(AuthenticatorBase.java:490)\\n\\tat org.apache.catalina.core.StandardHostValve.invoke(StandardHostValve.java:139)\\n\\tat org.apache.catalina.valves.ErrorReportValve.invoke(ErrorReportValve.java:92)\\n\\tat org.apache.catalina.core.StandardEngineValve.invoke(StandardEngineValve.java:74)\\n\\tat org.apache.catalina.connector.CoyoteAdapter.service(CoyoteAdapter.java:343)\\n\\tat org.apache.coyote.http11.Http11Processor.service(Http11Processor.java:408)\\n\\tat org.apache.coyote.AbstractProcessorLight.process(AbstractProcessorLight.java:66)\\n\\tat org.apache.coyote.AbstractProtocol$ConnectionHandler.process(AbstractProtocol.java:834)\\n\\tat org.apache.tomcat.util.net.NioEndpoint$SocketProcessor.doRun(NioEndpoint.java:1415)\\n\\tat org.apache.tomcat.util.net.SocketProcessorBase.run(SocketProcessorBase.java:49)\\n\\tat java.util.concurrent.ThreadPoolExecutor.runWorker(ThreadPoolExecutor.java:1149)\\n\\tat java.util.concurrent.ThreadPoolExecutor$Worker.run(ThreadPoolExecutor.java:624)\\n\\tat org.apache.tomcat.util.threads.TaskThread$WrappingRunnable.run(TaskThread.java:61)\\n\\tat java.lang.Thread.run(Thread.java:748)\\n'"
     ]
    }
   ],
   "source": [
    "# Take a look at what's in the output folder\n",
    "File.list_dir('/my_output')"
   ]
  },
  {
   "cell_type": "code",
   "execution_count": null,
   "metadata": {},
   "outputs": [],
   "source": [
    "# Download the result to local device\n",
    "File.download({'/my_output/wordcount.txt': workspace})"
   ]
  },
  {
   "cell_type": "code",
   "execution_count": null,
   "metadata": {},
   "outputs": [],
   "source": [
    "# Inspect the 50 most frequent words\n",
    "with open(os.path.join(workspace, 'wordcount.txt')) as f:\n",
    "    for i, l in enumerate(f):\n",
    "        if i >= 50:\n",
    "            break\n",
    "        print(l, end='')"
   ]
  },
  {
   "cell_type": "code",
   "execution_count": null,
   "metadata": {},
   "outputs": [],
   "source": []
  }
 ],
 "metadata": {
  "kernelspec": {
   "display_name": "Python 3",
   "language": "python",
   "name": "python3"
  },
  "language_info": {
   "codemirror_mode": {
    "name": "ipython",
    "version": 3
   },
   "file_extension": ".py",
   "mimetype": "text/x-python",
   "name": "python",
   "nbconvert_exporter": "python",
   "pygments_lexer": "ipython3",
   "version": "3.7.3"
  }
 },
 "nbformat": 4,
 "nbformat_minor": 2
}

{
 "cells": [
  {
   "cell_type": "code",
   "execution_count": 2,
   "metadata": {},
   "outputs": [],
   "source": [
    "import os\n",
    "import sys\n",
    "sys.path.append(os.path.dirname(os.path.realpath('__file__')) + '/../../../')\n",
    "from acaisdk.file import File\n",
    "from acaisdk.project import Project\n",
    "from acaisdk.fileset import FileSet\n",
    "from acaisdk.job import Job\n",
    "from acaisdk.meta import *\n",
    "from acaisdk.utils import utils\n",
    "from acaisdk import credentials\n",
    "from acaisdk.automl import AutoML\n",
    "\n",
    "utils.DEBUG = True  # print debug messages\n",
    "workspace = os.path.dirname(os.path.realpath('__file__'))  # get current directory"
   ]
  },
  {
   "cell_type": "code",
   "execution_count": 3,
   "metadata": {},
   "outputs": [],
   "source": [
    "credentials.login('00uUq2XXjY2mYZSe0WPHA6R0qpKUXi4s')"
   ]
  },
  {
   "cell_type": "code",
   "execution_count": 4,
   "metadata": {},
   "outputs": [
    {
     "name": "stdout",
     "output_type": "stream",
     "text": [
      "Running request: 35.237.138.197 80 automl tasks\n",
      "POST data {\"dataset\": {\"path\": \"squad/\"}, \"description\": \"acai automl test\", \"gpu\": 0, \"input_file_set_id\": \"squad_demo.works\", \"job_limit\": 2, \"memory\": \"2Gi\", \"metric\": \"MAP\", \"order\": \"desc\", \"output_file_set_id\": \"squad_demo_output\", \"token\": \"00uUq2XXjY2mYZSe0WPHA6R0qpKUXi4s\", \"type\": \"CandidateAnswerSelection\", \"user_id\": 5599, \"vcpu\": 0.2}\n"
     ]
    },
    {
     "ename": "RemoteException",
     "evalue": "b'{\"timestamp\":\"2020-11-02T00:00:22.115+0000\",\"status\":500,\"error\":\"Internal Server Error\",\"message\":\"\",\"path\":\"/automl/tasks\"}'",
     "output_type": "error",
     "traceback": [
      "\u001b[0;31m---------------------------------------------------------------------------\u001b[0m",
      "\u001b[0;31mRemoteException\u001b[0m                           Traceback (most recent call last)",
      "\u001b[0;32m<ipython-input-4-8d876cc50ef4>\u001b[0m in \u001b[0;36m<module>\u001b[0;34m\u001b[0m\n\u001b[0;32m----> 1\u001b[0;31m \u001b[0mAutoML\u001b[0m\u001b[0;34m.\u001b[0m\u001b[0mtasks\u001b[0m\u001b[0;34m(\u001b[0m\u001b[0mos\u001b[0m\u001b[0;34m.\u001b[0m\u001b[0mpath\u001b[0m\u001b[0;34m.\u001b[0m\u001b[0mjoin\u001b[0m\u001b[0;34m(\u001b[0m\u001b[0mworkspace\u001b[0m\u001b[0;34m,\u001b[0m \u001b[0;34m'taskYaml.yaml'\u001b[0m\u001b[0;34m)\u001b[0m\u001b[0;34m)\u001b[0m\u001b[0;34m\u001b[0m\u001b[0;34m\u001b[0m\u001b[0m\n\u001b[0m",
      "\u001b[0;32m~/Desktop/CMU/Capstone/code/acaisdk/acaisdk/example/example3/../../../acaisdk/automl.py\u001b[0m in \u001b[0;36mtasks\u001b[0;34m(filename)\u001b[0m\n\u001b[1;32m      9\u001b[0m         \u001b[0;31m# data = json.loads(open(filename).read())\u001b[0m\u001b[0;34m\u001b[0m\u001b[0;34m\u001b[0m\u001b[0;34m\u001b[0m\u001b[0m\n\u001b[1;32m     10\u001b[0m         \u001b[0mr\u001b[0m \u001b[0;34m=\u001b[0m \u001b[0mRestRequest\u001b[0m\u001b[0;34m(\u001b[0m\u001b[0mAutoMLApi\u001b[0m\u001b[0;34m.\u001b[0m\u001b[0mtasks\u001b[0m\u001b[0;34m)\u001b[0m\u001b[0;31m \u001b[0m\u001b[0;31m\\\u001b[0m\u001b[0;34m\u001b[0m\u001b[0;34m\u001b[0m\u001b[0m\n\u001b[0;32m---> 11\u001b[0;31m                 \u001b[0;34m.\u001b[0m\u001b[0mwith_data\u001b[0m\u001b[0;34m(\u001b[0m\u001b[0mdata\u001b[0m\u001b[0;34m)\u001b[0m\u001b[0;31m \u001b[0m\u001b[0;31m\\\u001b[0m\u001b[0;34m\u001b[0m\u001b[0;34m\u001b[0m\u001b[0m\n\u001b[0m\u001b[1;32m     12\u001b[0m                 \u001b[0;34m.\u001b[0m\u001b[0mwith_credentials\u001b[0m\u001b[0;34m(\u001b[0m\u001b[0;34m)\u001b[0m\u001b[0;31m \u001b[0m\u001b[0;31m\\\u001b[0m\u001b[0;34m\u001b[0m\u001b[0;34m\u001b[0m\u001b[0m\n\u001b[1;32m     13\u001b[0m                 \u001b[0;34m.\u001b[0m\u001b[0mrun\u001b[0m\u001b[0;34m(\u001b[0m\u001b[0;34m)\u001b[0m\u001b[0;34m\u001b[0m\u001b[0;34m\u001b[0m\u001b[0m\n",
      "\u001b[0;32m~/Desktop/CMU/Capstone/code/acaisdk/acaisdk/example/example3/../../../acaisdk/services/api_calls.py\u001b[0m in \u001b[0;36mrun\u001b[0;34m(self)\u001b[0m\n\u001b[1;32m    192\u001b[0m                                    \u001b[0mself\u001b[0m\u001b[0;34m.\u001b[0m\u001b[0mservice\u001b[0m\u001b[0;34m.\u001b[0m\u001b[0mname\u001b[0m\u001b[0;34m,\u001b[0m\u001b[0;34m\u001b[0m\u001b[0;34m\u001b[0m\u001b[0m\n\u001b[1;32m    193\u001b[0m                                    \u001b[0mself\u001b[0m\u001b[0;34m.\u001b[0m\u001b[0mquery\u001b[0m\u001b[0;34m,\u001b[0m\u001b[0;34m\u001b[0m\u001b[0;34m\u001b[0m\u001b[0m\n\u001b[0;32m--> 194\u001b[0;31m                                    self.data)\n\u001b[0m\u001b[1;32m    195\u001b[0m         raise AcaiException('Unknown request type: '\n\u001b[1;32m    196\u001b[0m                             '{}'.format(self.service.method))\n",
      "\u001b[0;32m~/Desktop/CMU/Capstone/code/acaisdk/acaisdk/example/example3/../../../acaisdk/utils/rest_utils.py\u001b[0m in \u001b[0;36mpost\u001b[0;34m(server, port, service, path, params, data, file)\u001b[0m\n\u001b[1;32m     24\u001b[0m                            verify=False)\n\u001b[1;32m     25\u001b[0m     \u001b[0;32mif\u001b[0m \u001b[0mr\u001b[0m\u001b[0;34m.\u001b[0m\u001b[0mstatus_code\u001b[0m \u001b[0;34m!=\u001b[0m \u001b[0mHTTPStatus\u001b[0m\u001b[0;34m.\u001b[0m\u001b[0mOK\u001b[0m\u001b[0;34m:\u001b[0m\u001b[0;34m\u001b[0m\u001b[0;34m\u001b[0m\u001b[0m\n\u001b[0;32m---> 26\u001b[0;31m         \u001b[0;32mraise\u001b[0m \u001b[0mexceptions\u001b[0m\u001b[0;34m.\u001b[0m\u001b[0mRemoteException\u001b[0m\u001b[0;34m(\u001b[0m\u001b[0mr\u001b[0m\u001b[0;34m.\u001b[0m\u001b[0mcontent\u001b[0m\u001b[0;34m)\u001b[0m\u001b[0;34m\u001b[0m\u001b[0;34m\u001b[0m\u001b[0m\n\u001b[0m\u001b[1;32m     27\u001b[0m     \u001b[0;32mreturn\u001b[0m \u001b[0mr\u001b[0m\u001b[0;34m.\u001b[0m\u001b[0mjson\u001b[0m\u001b[0;34m(\u001b[0m\u001b[0;34m)\u001b[0m\u001b[0;34m\u001b[0m\u001b[0;34m\u001b[0m\u001b[0m\n\u001b[1;32m     28\u001b[0m \u001b[0;34m\u001b[0m\u001b[0m\n",
      "\u001b[0;31mRemoteException\u001b[0m: b'{\"timestamp\":\"2020-11-02T00:00:22.115+0000\",\"status\":500,\"error\":\"Internal Server Error\",\"message\":\"\",\"path\":\"/automl/tasks\"}'"
     ]
    }
   ],
   "source": [
    "AutoML.tasks(os.path.join(workspace, 'taskYaml.yaml'))"
   ]
  },
  {
   "cell_type": "code",
   "execution_count": 5,
   "metadata": {},
   "outputs": [
    {
     "name": "stdout",
     "output_type": "stream",
     "text": [
      "Running request: 35.237.138.197 80 automl tasks/14/status\n",
      "GET query {\"token\": \"00uUq2XXjY2mYZSe0WPHA6R0qpKUXi4s\"}\n"
     ]
    },
    {
     "data": {
      "text/plain": [
       "[{'id': 16,\n",
       "  'acaiJobId': 848,\n",
       "  'model': {'hyperparameters': [{'id': 4,\n",
       "     'name': 'b',\n",
       "     'spec': {'empty': False}},\n",
       "    {'id': 2, 'name': 'e', 'spec': {'empty': False}},\n",
       "    {'id': 3, 'name': 'k1', 'spec': {'empty': False}}],\n",
       "   'id': 1,\n",
       "   'name': 'BM25',\n",
       "   'link': '/bm25.zip',\n",
       "   'filename': 'bm25.zip'},\n",
       "  'hyperparameters': {'b': '0.1111111111111111',\n",
       "   'e': '1.668100537200049E-8',\n",
       "   'k1': '1.3777777777777775'},\n",
       "  'status': 'Running',\n",
       "  'log': None,\n",
       "  'result': 0.0},\n",
       " {'id': 15,\n",
       "  'acaiJobId': 847,\n",
       "  'model': {'hyperparameters': [{'id': 4,\n",
       "     'name': 'b',\n",
       "     'spec': {'empty': False}},\n",
       "    {'id': 2, 'name': 'e', 'spec': {'empty': False}},\n",
       "    {'id': 3, 'name': 'k1', 'spec': {'empty': False}}],\n",
       "   'id': 1,\n",
       "   'name': 'BM25',\n",
       "   'link': '/bm25.zip',\n",
       "   'filename': 'bm25.zip'},\n",
       "  'hyperparameters': {'b': '0.0',\n",
       "   'e': '2.1544346900318692E-7',\n",
       "   'k1': '1.3777777777777775'},\n",
       "  'status': 'Finished',\n",
       "  'log': None,\n",
       "  'result': 0.0}]"
      ]
     },
     "execution_count": 5,
     "metadata": {},
     "output_type": "execute_result"
    }
   ],
   "source": [
    "AutoML.get_status(14)"
   ]
  },
  {
   "cell_type": "code",
   "execution_count": null,
   "metadata": {},
   "outputs": [],
   "source": []
  }
 ],
 "metadata": {
  "kernelspec": {
   "display_name": "Python 3",
   "language": "python",
   "name": "python3"
  },
  "language_info": {
   "codemirror_mode": {
    "name": "ipython",
    "version": 3
   },
   "file_extension": ".py",
   "mimetype": "text/x-python",
   "name": "python",
   "nbconvert_exporter": "python",
   "pygments_lexer": "ipython3",
   "version": "3.7.3"
  }
 },
 "nbformat": 4,
 "nbformat_minor": 2
}

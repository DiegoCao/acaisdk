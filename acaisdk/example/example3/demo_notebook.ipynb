{
 "cells": [
  {
   "cell_type": "code",
   "execution_count": 4,
   "metadata": {},
   "outputs": [],
   "source": [
    "import os\n",
    "import sys\n",
    "sys.path.append(os.path.dirname(os.path.realpath('__file__')) + '/../../../')\n",
    "from acaisdk.file import File\n",
    "from acaisdk.project import Project\n",
    "from acaisdk.fileset import FileSet\n",
    "from acaisdk.job import Job\n",
    "from acaisdk.meta import *\n",
    "from acaisdk.utils import utils\n",
    "from acaisdk import credentials\n",
    "from acaisdk.automl import AutoML\n",
    "\n",
    "utils.DEBUG = True  # print debug messages\n",
    "workspace = os.path.dirname(os.path.realpath('__file__'))  # get current directory"
   ]
  },
  {
   "cell_type": "code",
   "execution_count": 5,
   "metadata": {},
   "outputs": [],
   "source": [
    "credentials.login('00uUq2XXjY2mYZSe0WPHA6R0qpKUXi4s')"
   ]
  },
  {
   "cell_type": "code",
   "execution_count": 6,
   "metadata": {},
   "outputs": [
    {
     "name": "stdout",
     "output_type": "stream",
     "text": [
      "Running request: 35.237.138.197 80 automl tasks/submit\n",
      "POST data {\"dataset\": {\"path\": \"squad/\"}, \"input_file_set_id\": \"squad_demo.works\", \"output_file_set_id\": \"squad_demo_output\", \"type\": \"CandidateAnswerSelection\", \"metric\": \"MAP\", \"order\": \"desc\", \"gpu\": 0, \"vcpu\": 0.2, \"memory\": \"2Gi\", \"job_limit\": 2, \"user_token\": \"00uUq2XXjY2mYZSe0WPHA6R0qpKUXi4s\", \"user_id\": 5599, \"description\": \"acai automl test\", \"token\": \"00uUq2XXjY2mYZSe0WPHA6R0qpKUXi4s\"}\n"
     ]
    },
    {
     "data": {
      "text/plain": [
       "{'id': 23,\n",
       " 'type': {'id': 5,\n",
       "  'name': 'CandidateAnswerSelection',\n",
       "  'models': [{'hyperparameters': [{'id': 2,\n",
       "      'name': 'k1',\n",
       "      'spec': {'empty': False}},\n",
       "     {'id': 4, 'name': 'b', 'spec': {'empty': False}},\n",
       "     {'id': 3, 'name': 'e', 'spec': {'empty': False}}],\n",
       "    'id': 1,\n",
       "    'name': 'BM25',\n",
       "    'link': '/bm25.zip',\n",
       "    'filename': 'bm25.zip'}]},\n",
       " 'dataset': 'squad/',\n",
       " 'jobInfos': [{'id': 24,\n",
       "   'acaiJobId': 873,\n",
       "   'model': {'hyperparameters': [{'id': 2,\n",
       "      'name': 'k1',\n",
       "      'spec': {'empty': False}},\n",
       "     {'id': 4, 'name': 'b', 'spec': {'empty': False}},\n",
       "     {'id': 3, 'name': 'e', 'spec': {'empty': False}}],\n",
       "    'id': 1,\n",
       "    'name': 'BM25',\n",
       "    'link': '/bm25.zip',\n",
       "    'filename': 'bm25.zip'},\n",
       "   'hyperparameters': {'b': '0.2222222222222222',\n",
       "    'e': '1.668100537200049E-8',\n",
       "    'k1': '1.4666666666666663'},\n",
       "   'status': 'UNKNOWN',\n",
       "   'log': None,\n",
       "   'result': None},\n",
       "  {'id': 25,\n",
       "   'acaiJobId': 874,\n",
       "   'model': {'hyperparameters': [{'id': 2,\n",
       "      'name': 'k1',\n",
       "      'spec': {'empty': False}},\n",
       "     {'id': 4, 'name': 'b', 'spec': {'empty': False}},\n",
       "     {'id': 3, 'name': 'e', 'spec': {'empty': False}}],\n",
       "    'id': 1,\n",
       "    'name': 'BM25',\n",
       "    'link': '/bm25.zip',\n",
       "    'filename': 'bm25.zip'},\n",
       "   'hyperparameters': {'b': '0.6666666666666667',\n",
       "    'e': '3.593813663804621E-10',\n",
       "    'k1': '1.9999999999999991'},\n",
       "   'status': 'UNKNOWN',\n",
       "   'log': None,\n",
       "   'result': None}],\n",
       " 'token': '00uUq2XXjY2mYZSe0WPHA6R0qpKUXi4s',\n",
       " 'metric': 'MAP',\n",
       " 'order': 'desc'}"
      ]
     },
     "execution_count": 6,
     "metadata": {},
     "output_type": "execute_result"
    }
   ],
   "source": [
    "AutoML.tasks(os.path.join(workspace, 'sample2.json'))"
   ]
  },
  {
   "cell_type": "code",
   "execution_count": 15,
   "metadata": {},
   "outputs": [
    {
     "name": "stdout",
     "output_type": "stream",
     "text": [
      "Running request: 35.237.138.197 80 automl tasks/42/status\n",
      "GET query {\"token\": \"00uUq2XXjY2mYZSe0WPHA6R0qpKUXi4s\"}\n"
     ]
    },
    {
     "data": {
      "text/plain": [
       "[{'id': 44,\n",
       "  'acaiJobId': 880,\n",
       "  'model': {'hyperparameters': [{'id': 4,\n",
       "     'name': 'b',\n",
       "     'spec': {'empty': False}},\n",
       "    {'id': 2, 'name': 'k1', 'spec': {'empty': False}},\n",
       "    {'id': 3, 'name': 'e', 'spec': {'empty': False}}],\n",
       "   'id': 1,\n",
       "   'name': 'BM25',\n",
       "   'link': '/bm25.zip',\n",
       "   'filename': 'bm25.zip'},\n",
       "  'hyperparameters': {'b': '0.5555555555555556',\n",
       "   'e': '1.668100537200049E-8',\n",
       "   'k1': '1.3777777777777775'},\n",
       "  'status': 'Submitted',\n",
       "  'log': None,\n",
       "  'result': 0.0},\n",
       " {'id': 43,\n",
       "  'acaiJobId': 879,\n",
       "  'model': {'hyperparameters': [{'id': 4,\n",
       "     'name': 'b',\n",
       "     'spec': {'empty': False}},\n",
       "    {'id': 2, 'name': 'k1', 'spec': {'empty': False}},\n",
       "    {'id': 3, 'name': 'e', 'spec': {'empty': False}}],\n",
       "   'id': 1,\n",
       "   'name': 'BM25',\n",
       "   'link': '/bm25.zip',\n",
       "   'filename': 'bm25.zip'},\n",
       "  'hyperparameters': {'b': '0.5555555555555556',\n",
       "   'e': '7.742636826811222E-7',\n",
       "   'k1': '1.2888888888888888'},\n",
       "  'status': 'Submitted',\n",
       "  'log': None,\n",
       "  'result': 0.0}]"
      ]
     },
     "execution_count": 15,
     "metadata": {},
     "output_type": "execute_result"
    }
   ],
   "source": [
    "AutoML.get_status(42)"
   ]
  },
  {
   "cell_type": "code",
   "execution_count": null,
   "metadata": {},
   "outputs": [],
   "source": []
  }
 ],
 "metadata": {
  "kernelspec": {
   "display_name": "Python 3",
   "language": "python",
   "name": "python3"
  },
  "language_info": {
   "codemirror_mode": {
    "name": "ipython",
    "version": 3
   },
   "file_extension": ".py",
   "mimetype": "text/x-python",
   "name": "python",
   "nbconvert_exporter": "python",
   "pygments_lexer": "ipython3",
   "version": "3.7.3"
  }
 },
 "nbformat": 4,
 "nbformat_minor": 2
}

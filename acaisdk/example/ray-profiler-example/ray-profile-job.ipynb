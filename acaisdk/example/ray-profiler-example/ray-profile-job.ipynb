{
 "metadata": {
  "language_info": {
   "codemirror_mode": {
    "name": "ipython",
    "version": 3
   },
   "file_extension": ".py",
   "mimetype": "text/x-python",
   "name": "python",
   "nbconvert_exporter": "python",
   "pygments_lexer": "ipython3",
   "version": "3.7.3-final"
  },
  "orig_nbformat": 2,
  "kernelspec": {
   "name": "Python 3.7.3 64-bit",
   "display_name": "Python 3.7.3 64-bit",
   "metadata": {
    "interpreter": {
     "hash": "5edc29c2ed010d6458d71a83433b383a96a8cbd3efe8531bc90c4b8a5b8bcec9"
    }
   }
  }
 },
 "nbformat": 4,
 "nbformat_minor": 2,
 "cells": [
  {
   "cell_type": "code",
   "execution_count": 1,
   "metadata": {},
   "outputs": [],
   "source": [
    "import os\n",
    "import sys\n",
    "sys.path.append(os.path.dirname(os.path.realpath('__file__')) + '/../../../')\n",
    "from acaisdk.file import File\n",
    "from acaisdk.project import Project\n",
    "from acaisdk.fileset import FileSet\n",
    "from acaisdk.job import *\n",
    "from acaisdk.meta import *\n",
    "from acaisdk.utils import utils\n",
    "from acaisdk import credentials\n",
    "\n",
    "workspace = os.path.dirname(os.path.realpath('__file__'))\n",
    "utils.DEBUG = True  # print debug messages. Calls are successful as long as no exception is thrown."
   ]
  },
  {
   "cell_type": "code",
   "execution_count": 11,
   "metadata": {},
   "outputs": [],
   "source": [
    "# Make your changes here\n",
    "project_id = \"ray-profile-job-2\"\n",
    "root_token = 'EmDlCTBF1ppONSciYVd03M9xkmF6hFqW'\n",
    "project_admin = 'zhengzhe'\n",
    "user = 'zhengzhe'"
   ]
  },
  {
   "cell_type": "code",
   "execution_count": 12,
   "metadata": {},
   "outputs": [
    {
     "output_type": "stream",
     "name": "stdout",
     "text": [
      "Running request: 35.237.138.197 80 credential create_project\n",
      "POST data {\"project_id\": \"ray-profile-job-2\", \"admin_token\": \"EmDlCTBF1ppONSciYVd03M9xkmF6hFqW\", \"project_admin_name\": \"zhengzhe\"}\n",
      "Running request: 35.237.138.197 80 credential create_user\n",
      "POST data {\"project_id\": \"ray-profile-job-2\", \"admin_token\": \"ljIdh5hzfiqLbanwUuqGIf69z3uxoF6g\", \"user_name\": \"zhengzhe\"}\n",
      "Logged in with token TTNhsyg3StVMTgn84hdN0UBR3unh8e5s\n"
     ]
    }
   ],
   "source": [
    "# Create project and user\n",
    "r = Project.create_project(project_id, root_token, project_admin)\n",
    "r = Project.create_user(project_id, r['project_admin_token'], user)  # the new user is logged in automatically."
   ]
  },
  {
   "cell_type": "code",
   "execution_count": 2,
   "metadata": {},
   "outputs": [],
   "source": [
    "credentials.login('TTNhsyg3StVMTgn84hdN0UBR3unh8e5s')"
   ]
  },
  {
   "cell_type": "code",
   "execution_count": 4,
   "metadata": {
    "tags": []
   },
   "outputs": [
    {
     "output_type": "stream",
     "name": "stdout",
     "text": [
      "Running request: 192.168.99.105 7445 storage start_file_upload_session\n",
      "POST data {\"paths\": [\"ray_profiler_train_scripts.zip\"], \"token\": \"l72GxEK8rNBTBQ8BI1vO9jaF02nYJz8k\"}\n",
      "[('/Users/mangod666/Google Drive/Academics/Fall 2020/Capstone/ACAI/acaisdk/acaisdk/example/ray-profiler-example/example.zip', 'ray_profiler_train_scripts.zip')]\n",
      "r =  <Response [200]>\n",
      "Uploaded /Users/mangod666/Google Drive/Academics/Fall 2020/Capstone/ACAI/acaisdk/acaisdk/example/ray-profiler-example/example.zip to ray_profiler_train_scripts.zip\n",
      "Running request: 192.168.99.105 7445 storage poll_file_upload_session\n",
      "GET query {\"session_id\": 9, \"token\": \"l72GxEK8rNBTBQ8BI1vO9jaF02nYJz8k\"}\n",
      "Running request: 192.168.99.105 7445 storage poll_file_upload_session\n",
      "GET query {\"session_id\": 9, \"token\": \"l72GxEK8rNBTBQ8BI1vO9jaF02nYJz8k\"}\n",
      "Running request: 192.168.99.105 7445 storage poll_file_upload_session\n",
      "GET query {\"session_id\": 9, \"token\": \"l72GxEK8rNBTBQ8BI1vO9jaF02nYJz8k\"}\n",
      "Running request: 192.168.99.105 7445 storage finish_file_upload_session\n",
      "POST data {\"session_id\": 9, \"token\": \"l72GxEK8rNBTBQ8BI1vO9jaF02nYJz8k\"}\n"
     ]
    },
    {
     "output_type": "execute_result",
     "data": {
      "text/plain": [
       "[('/Users/mangod666/Google Drive/Academics/Fall 2020/Capstone/ACAI/acaisdk/acaisdk/example/ray-profiler-example/example.zip',\n",
       "  'ray_profiler_train_scripts.zip:1')]"
      ]
     },
     "metadata": {},
     "execution_count": 4
    }
   ],
   "source": [
    "# Upload code\n",
    "train_code = os.path.join(workspace, 'example.zip')\n",
    "# eval_code = os.path.join(workspace, 'demo/eval_script.zip')\n",
    "File.upload({train_code: 'ray_profiler_train_scripts.zip'})"
   ]
  },
  {
   "cell_type": "code",
   "execution_count": 55,
   "metadata": {},
   "outputs": [
    {
     "output_type": "stream",
     "name": "stdout",
     "text": [
      "Nothing to upload\nRunning request: 192.168.99.105 7445 storage create_file_set\nPOST data {\"name\": \"ray_test_fs\", \"files\": [], \"token\": \"b3Kbhd8ICdREPE4uMmEwEjvICKQrq4nr\"}\n"
     ]
    },
    {
     "output_type": "execute_result",
     "data": {
      "text/plain": [
       "{'id': 'ray_test_fs:1', 'files': []}"
      ]
     },
     "metadata": {},
     "execution_count": 55
    }
   ],
   "source": [
    "# Upload dummy input files and create a new file set on the fly\n",
    "input_dir = os.path.join(workspace, 'dataset/')\n",
    "File.convert_to_file_mapping([input_dir], 'ray_dataset/')\\\n",
    "    .files_to_upload\\\n",
    "    .upload()\\\n",
    "    .as_new_file_set('ray_test_fs')"
   ]
  },
  {
   "cell_type": "code",
   "execution_count": 12,
   "metadata": {},
   "outputs": [
    {
     "output_type": "stream",
     "name": "stdout",
     "text": [
      "Running request: 192.168.99.105 7445 storage resolve_file_set\n",
      "GET query {\"vague_name\": \"ray_test_fs\", \"token\": \"l72GxEK8rNBTBQ8BI1vO9jaF02nYJz8k\"}\n",
      "Running request: 192.168.99.105 7445 job_registry new_job\n",
      "POST data {\"name\": \"ray_test_job\", \"input_file_set\": \"ray_test_fs:1\", \"output_path\": \"./ray_output/\", \"code\": \"ray_profiler_train_scripts.zip\", \"command\": \"ray start --node-ip-address=$MY_POD_IP --num-cpus=0 --address=$RAY_HEAD_SERVICE_HOST:$RAY_HEAD_SERVICE_PORT_REDIS_PRIMARY --object-manager-port=12345 --node-manager-port=12346 && mkdir ray_output && python example.py | tee ./ray_output/output.txt\", \"container_image\": \"rayproject/autoscaler\", \"description\": \"sample ray job with 4 nodes (1 head + 3 workers)\", \"v_cpu\": \"100m\", \"gpu\": \"0\", \"memory\": \"512Mi\", \"job_status\": null, \"nnode\": 3, \"framework\": \"ray\", \"token\": \"l72GxEK8rNBTBQ8BI1vO9jaF02nYJz8k\"}\n",
      "{'status': {'message': 'launching'}, 'job': {'name': 'ray_test_job', 'code': 'ray_profiler_train_scripts.zip', 'command': 'ray start --node-ip-address=$MY_POD_IP --num-cpus=0 --address=$RAY_HEAD_SERVICE_HOST:$RAY_HEAD_SERVICE_PORT_REDIS_PRIMARY --object-manager-port=12345 --node-manager-port=12346 && mkdir ray_output && python example.py | tee ./ray_output/output.txt', 'description': 'sample ray job with 4 nodes (1 head + 3 workers)', 'gpu': '0', 'memory': '512Mi', 'hidden': False, 'type': 'DEFAULT', 'nnode': 3, 'framework': 'ray', 'vcpu': '100m', 'id': 12, 'input_file_set': 'ray_test_fs:1', 'output_path': './ray_output/', 'user_id': 7, 'project_id': 'ray-profile-job-1', 'container_image': 'rayproject/autoscaler', 'v_cpu': '100m', 'output_file_set': 'job_12_output', 'submitted_time': '2020-10-18T19:21:40.198+0000'}}\n"
     ]
    }
   ],
   "source": [
    "# Run a profiling job\n",
    "job_setting = {\n",
    "    \"command_template\": \"ray start --node-ip-address=$MY_POD_IP --num-cpus=0 --address=$RAY_HEAD_SERVICE_HOST:$RAY_HEAD_SERVICE_PORT_REDIS_PRIMARY --object-manager-port=12345 --node-manager-port=12346 && mkdir ray_output && python example.py | tee ./ray_output/output.txt\",\n",
    "    \"container_image\": \"rayproject/autoscaler\",\n",
    "    'input_file_set': 'ray_test_fs', # not used since this example does not need an input dataset\n",
    "    'code': 'ray_profiler_train_scripts.zip',\n",
    "    'name': 'ray_profiling_test',\n",
    "    'framework': 'ray',\n",
    "    'nnode_space': [1,3]\n",
    "}\n",
    "\n",
    "result = {}\n",
    "j = ProfilingJob().with_attributes(job_setting)\n"
   ]
  },
  {
   "cell_type": "code",
   "execution_count": 16,
   "metadata": {
    "tags": []
   },
   "outputs": [
    {
     "output_type": "stream",
     "name": "stdout",
     "text": "Running request: 192.168.1.72 7445 profiler register_template\nPOST data {\"name\": \"ray_profiling_test\", \"input_file_set\": \"ray_test_fs\", \"code\": \"ray_profiler_train_scripts.zip\", \"command_template\": \"ray start --node-ip-address=$MY_POD_IP --num-cpus=0 --address=$RAY_HEAD_SERVICE_HOST:$RAY_HEAD_SERVICE_PORT_REDIS_PRIMARY --object-manager-port=12345 --node-manager-port=12346 && mkdir ray_output && python example.py | tee ./ray_output/output.txt\", \"container_image\": \"rayproject/autoscaler\", \"nnode_space\": [1, 3], \"framework\": \"ray\", \"token\": \"qjbYDwKhg8l4OzJymKGy2ruHOodiFgsg\"}\n{'id': 6, 'name': 'ray_profiling_test', 'code': 'ray_profiler_train_scripts.zip', 'allOptionsSer': '[]', 'state': 'submitted', 'input_file_set': 'ray_test_fs', 'command_template': 'ray start --node-ip-address=$MY_POD_IP --num-cpus=0 --address=$RAY_HEAD_SERVICE_HOST:$RAY_HEAD_SERVICE_PORT_REDIS_PRIMARY --object-manager-port=12345 --node-manager-port=12346 && mkdir ray_output && python example.py | tee ./ray_output/output.txt', 'memory_space': [2048], 'cpu_space': [0.5], 'nnode_space': [1, 3], 'user_id': 38, 'project_id': 'execution_test', 'container_image': 'rayproject/autoscaler', 'model_name': None, 'framework': 'ray', 'model_id': None, 'spawned_jobs': 0}\n"
    },
    {
     "output_type": "execute_result",
     "data": {
      "text/plain": "{'id': 6,\n 'name': 'ray_profiling_test',\n 'code': 'ray_profiler_train_scripts.zip',\n 'allOptionsSer': '[]',\n 'state': 'submitted',\n 'input_file_set': 'ray_test_fs',\n 'command_template': 'ray start --node-ip-address=$MY_POD_IP --num-cpus=0 --address=$RAY_HEAD_SERVICE_HOST:$RAY_HEAD_SERVICE_PORT_REDIS_PRIMARY --object-manager-port=12345 --node-manager-port=12346 && mkdir ray_output && python example.py | tee ./ray_output/output.txt',\n 'memory_space': [2048],\n 'cpu_space': [0.5],\n 'nnode_space': [1, 3],\n 'user_id': 38,\n 'project_id': 'execution_test',\n 'container_image': 'rayproject/autoscaler',\n 'model_name': None,\n 'framework': 'ray',\n 'model_id': None,\n 'spawned_jobs': 0}"
     },
     "metadata": {},
     "execution_count": 16
    }
   ],
   "source": [
    "# this will populate the result dict with the response, you can also get the response by assigning the return value to a variable\n",
    "j.profile(result)"
   ]
  },
  {
   "cell_type": "code",
   "execution_count": 16,
   "metadata": {},
   "outputs": [
    {
     "output_type": "stream",
     "name": "stdout",
     "text": [
      "Nothing to upload\nRunning request: 35.237.138.197 80 storage create_file_set\nPOST data {\"name\": \"ray_test_fs\", \"files\": [], \"token\": \"TTNhsyg3StVMTgn84hdN0UBR3unh8e5s\"}\n"
     ]
    },
    {
     "output_type": "execute_result",
     "data": {
      "text/plain": [
       "{'id': 'ray_test_fs:1', 'files': []}"
      ]
     },
     "metadata": {},
     "execution_count": 16
    }
   ],
   "source": [
    "# Upload dummy input files and create a new file set on the fly\n",
    "input_dir = os.path.join(workspace, 'dataset/')\n",
    "File.convert_to_file_mapping([input_dir], 'ray_dataset/')\\\n",
    "    .files_to_upload\\\n",
    "    .upload()\\\n",
    "    .as_new_file_set('ray_test_fs')"
   ]
  },
  {
   "cell_type": "code",
   "execution_count": 14,
   "metadata": {},
   "outputs": [
    {
     "output_type": "stream",
     "name": "stdout",
     "text": [
      "Running request: 35.237.138.197 80 storage start_file_upload_session\n",
      "POST data {\"paths\": [\"ray_sgd_example.zip\"], \"token\": \"fjhZ6Ry3daKKR7uRFoNKiyLVyOK9HPiZ\"}\n",
      "[('/Users/mangod666/Google Drive/Academics/Fall 2020/Capstone/ACAI/acaisdk/acaisdk/example/ray-profiler-example/code/ray_sgd_example.zip', 'ray_sgd_example.zip')]\n",
      "r =  <Response [200]>\n",
      "Uploaded /Users/mangod666/Google Drive/Academics/Fall 2020/Capstone/ACAI/acaisdk/acaisdk/example/ray-profiler-example/code/ray_sgd_example.zip to ray_sgd_example.zip\n",
      "Running request: 35.237.138.197 80 storage poll_file_upload_session\n",
      "GET query {\"session_id\": 4781, \"token\": \"fjhZ6Ry3daKKR7uRFoNKiyLVyOK9HPiZ\"}\n",
      "Running request: 35.237.138.197 80 storage poll_file_upload_session\n",
      "GET query {\"session_id\": 4781, \"token\": \"fjhZ6Ry3daKKR7uRFoNKiyLVyOK9HPiZ\"}\n",
      "Running request: 35.237.138.197 80 storage poll_file_upload_session\n",
      "GET query {\"session_id\": 4781, \"token\": \"fjhZ6Ry3daKKR7uRFoNKiyLVyOK9HPiZ\"}\n",
      "Running request: 35.237.138.197 80 storage finish_file_upload_session\n",
      "POST data {\"session_id\": 4781, \"token\": \"fjhZ6Ry3daKKR7uRFoNKiyLVyOK9HPiZ\"}\n"
     ]
    },
    {
     "output_type": "execute_result",
     "data": {
      "text/plain": [
       "[('/Users/mangod666/Google Drive/Academics/Fall 2020/Capstone/ACAI/acaisdk/acaisdk/example/ray-profiler-example/code/ray_sgd_example.zip',\n",
       "  'ray_sgd_example.zip:1')]"
      ]
     },
     "metadata": {},
     "execution_count": 14
    }
   ],
   "source": [
    "# Upload code\n",
    "train_code = os.path.join(workspace, 'code/ray_sgd_example.zip')\n",
    "# eval_code = os.path.join(workspace, 'demo/eval_script.zip')\n",
    "File.upload({train_code: 'ray_sgd_example.zip'})"
   ]
  },
  {
   "cell_type": "code",
   "execution_count": 28,
   "metadata": {},
   "outputs": [
    {
     "output_type": "stream",
     "name": "stdout",
     "text": [
      "Running request: 35.237.138.197 80 storage resolve_file_set\n",
      "GET query {\"vague_name\": \"ray_test_fs\", \"token\": \"fjhZ6Ry3daKKR7uRFoNKiyLVyOK9HPiZ\"}\n",
      "Running request: 35.237.138.197 80 job_registry new_job\n",
      "POST data {\"name\": \"ray_test_job\", \"input_file_set\": \"ray_test_fs:1\", \"output_path\": \"./ray_output/\", \"code\": \"ray_sgd_example.zip\", \"command\": \"ray start --node-ip-address=$MY_POD_IP --num-cpus=0 --address=$RAY_HEAD_SERVICE_HOST:$RAY_HEAD_SERVICE_PORT_REDIS_PRIMARY --object-manager-port=12345 --node-manager-port=12346 && mkdir ray_output && python ray_sgd_example.py | tee ./ray_output/output.txt\", \"container_image\": \"rayproject/autoscaler\", \"description\": \"sample ray sgd job with 2 nodes (1 head + 2 workers)\", \"v_cpu\": \"1\", \"gpu\": \"0\", \"memory\": \"512Mi\", \"job_status\": null, \"nnode\": 2, \"framework\": \"ray\", \"token\": \"fjhZ6Ry3daKKR7uRFoNKiyLVyOK9HPiZ\"}\n",
      "{'status': {'message': 'launching'}, 'job': {'name': 'ray_test_job', 'code': 'ray_sgd_example.zip', 'command': 'ray start --node-ip-address=$MY_POD_IP --num-cpus=0 --address=$RAY_HEAD_SERVICE_HOST:$RAY_HEAD_SERVICE_PORT_REDIS_PRIMARY --object-manager-port=12345 --node-manager-port=12346 && mkdir ray_output && python ray_sgd_example.py | tee ./ray_output/output.txt', 'description': 'sample ray sgd job with 2 nodes (1 head + 2 workers)', 'gpu': '0', 'memory': '512Mi', 'hidden': False, 'type': 'DEFAULT', 'nnode': 2, 'framework': 'ray', 'vcpu': '1', 'id': 640, 'input_file_set': 'ray_test_fs:1', 'output_path': './ray_output/', 'user_id': 4772, 'project_id': 'ray-profile-job-', 'container_image': 'rayproject/autoscaler', 'v_cpu': '1', 'output_file_set': 'job_640_output', 'submitted_time': '2020-10-25T17:57:35.084+0000'}}\n"
     ]
    }
   ],
   "source": [
    "# Run a training job, it takes ~3 mins to finish\n",
    "job_setting = {\n",
    "    \"v_cpu\": \"200m\",\n",
    "    \"memory\": \"512Mi\",\n",
    "    \"gpu\": \"0\",\n",
    "    \"nnode\": 1, # the number of workers in addition to the head node\n",
    "    \"framework\": \"ray\",\n",
    "    \"command\": \"ray start --node-ip-address=$MY_POD_IP --num-cpus=0 --address=$RAY_HEAD_SERVICE_HOST:$RAY_HEAD_SERVICE_PORT_REDIS_PRIMARY --object-manager-port=12345 --node-manager-port=12346 && mkdir ray_output && python ray_sgd_example.py | tee ./ray_output/output.txt\",\n",
    "    \"container_image\": \"rayproject/autoscaler\",\n",
    "    'input_file_set': 'ray_test_fs', # not used since this example does not need an input dataset\n",
    "    'output_path': './ray_output/', # necessary to have a parent folder\n",
    "    'code': 'ray_sgd_example.zip',\n",
    "    'description': 'sample ray sgd job with 2 nodes (1 head + 2 workers)',\n",
    "    'name': 'ray_test_job'\n",
    "}\n",
    "\n",
    "train_job = Job().with_attributes(job_setting).run()"
   ]
  },
  {
   "cell_type": "code",
   "execution_count": 14,
   "metadata": {},
   "outputs": [
    {
     "output_type": "stream",
     "name": "stdout",
     "text": [
      "Running request: 35.237.138.197 80 storage start_file_upload_session\n",
      "POST data {\"paths\": [\"mnist_ray_sgd.zip\"], \"token\": \"TTNhsyg3StVMTgn84hdN0UBR3unh8e5s\"}\n",
      "[('/Users/mangod666/Google Drive/Academics/Fall 2020/Capstone/ACAI/acaisdk/acaisdk/example/ray-profiler-example/code/mnist_ray_sgd.zip', 'mnist_ray_sgd.zip')]\n",
      "r =  <Response [200]>\n",
      "Uploaded /Users/mangod666/Google Drive/Academics/Fall 2020/Capstone/ACAI/acaisdk/acaisdk/example/ray-profiler-example/code/mnist_ray_sgd.zip to mnist_ray_sgd.zip\n",
      "Running request: 35.237.138.197 80 storage poll_file_upload_session\n",
      "GET query {\"session_id\": 5858, \"token\": \"TTNhsyg3StVMTgn84hdN0UBR3unh8e5s\"}\n",
      "Running request: 35.237.138.197 80 storage poll_file_upload_session\n",
      "GET query {\"session_id\": 5858, \"token\": \"TTNhsyg3StVMTgn84hdN0UBR3unh8e5s\"}\n",
      "Running request: 35.237.138.197 80 storage poll_file_upload_session\n",
      "GET query {\"session_id\": 5858, \"token\": \"TTNhsyg3StVMTgn84hdN0UBR3unh8e5s\"}\n",
      "Running request: 35.237.138.197 80 storage finish_file_upload_session\n",
      "POST data {\"session_id\": 5858, \"token\": \"TTNhsyg3StVMTgn84hdN0UBR3unh8e5s\"}\n"
     ]
    },
    {
     "output_type": "execute_result",
     "data": {
      "text/plain": [
       "[('/Users/mangod666/Google Drive/Academics/Fall 2020/Capstone/ACAI/acaisdk/acaisdk/example/ray-profiler-example/code/mnist_ray_sgd.zip',\n",
       "  'mnist_ray_sgd.zip:1')]"
      ]
     },
     "metadata": {},
     "execution_count": 14
    }
   ],
   "source": [
    "# Upload code\n",
    "train_code = os.path.join(workspace, 'code/mnist_ray_sgd.zip')\n",
    "# eval_code = os.path.join(workspace, 'demo/eval_script.zip')\n",
    "File.upload({train_code: 'mnist_ray_sgd.zip'})"
   ]
  },
  {
   "cell_type": "code",
   "execution_count": 3,
   "metadata": {},
   "outputs": [
    {
     "output_type": "stream",
     "name": "stdout",
     "text": [
      "Running request: 35.237.138.197 80 storage list_directory\nGET query {\"directory_path\": \"/\", \"token\": \"TTNhsyg3StVMTgn84hdN0UBR3unh8e5s\"}\n"
     ]
    },
    {
     "output_type": "execute_result",
     "data": {
      "text/plain": [
       "[{'path': 'mnist_ray_sgd.zip', 'version': 1, 'dir': False, 'is_dir': False}]"
      ]
     },
     "metadata": {},
     "execution_count": 3
    }
   ],
   "source": [
    "File.list_dir('/')\n",
    "# File.download({'/mnist_ray_sgd.zip': '.'})"
   ]
  },
  {
   "cell_type": "code",
   "execution_count": 3,
   "metadata": {},
   "outputs": [
    {
     "output_type": "stream",
     "name": "stdout",
     "text": [
      "Running request: 35.237.138.197 80 storage resolve_file_set\n",
      "GET query {\"vague_name\": \"ray_test_fs\", \"token\": \"TTNhsyg3StVMTgn84hdN0UBR3unh8e5s\"}\n",
      "Running request: 35.237.138.197 80 job_registry new_job\n",
      "POST data {\"name\": \"ray_test_job\", \"input_file_set\": \"ray_test_fs:2\", \"output_path\": \"./ray_output/\", \"code\": \"mnist_ray_sgd.zip\", \"command\": \"ray start --node-ip-address=$MY_POD_IP --num-cpus=0 --address=$RAY_HEAD_SERVICE_HOST:$RAY_HEAD_SERVICE_PORT_REDIS_PRIMARY --object-manager-port=12345 --node-manager-port=12346 && mkdir ray_output && python mnist_ray_sgd.py | tee ./ray_output/output.txt\", \"container_image\": \"rayproject/autoscaler\", \"description\": \"sample ray sgd job with 5 nodes (1 head + 4 workers)\", \"v_cpu\": \"100m\", \"gpu\": \"512Mi\", \"memory\": \"512Mi\", \"job_status\": null, \"nnode\": 2, \"framework\": \"ray\", \"token\": \"TTNhsyg3StVMTgn84hdN0UBR3unh8e5s\"}\n",
      "{'status': None, 'job': {'name': 'ray_test_job', 'code': 'mnist_ray_sgd.zip', 'command': 'ray start --node-ip-address=$MY_POD_IP --num-cpus=0 --address=$RAY_HEAD_SERVICE_HOST:$RAY_HEAD_SERVICE_PORT_REDIS_PRIMARY --object-manager-port=12345 --node-manager-port=12346 && mkdir ray_output && python mnist_ray_sgd.py | tee ./ray_output/output.txt', 'description': 'sample ray sgd job with 5 nodes (1 head + 4 workers)', 'gpu': '512Mi', 'memory': '512Mi', 'hidden': False, 'type': 'DEFAULT', 'nnode': 2, 'framework': 'ray', 'vcpu': '100m', 'id': 798, 'input_file_set': 'ray_test_fs:2', 'output_path': './ray_output/', 'user_id': 5856, 'project_id': 'ray-profile-job-2', 'container_image': 'rayproject/autoscaler', 'v_cpu': '100m', 'output_file_set': 'job_798_output', 'submitted_time': '2020-10-26T18:56:46.508+0000'}}\n"
     ]
    }
   ],
   "source": [
    "job_setting = {\n",
    "    \"v_cpu\": \"100m\",\n",
    "    \"memory\": \"512Mi\",\n",
    "    \"gpu\": \"0\",\n",
    "    \"nnode\": 2, # the number of workers in addition to the head node\n",
    "    \"framework\": \"ray\",\n",
    "    \"command\": \"ray start --node-ip-address=$MY_POD_IP --num-cpus=0 --address=$RAY_HEAD_SERVICE_HOST:$RAY_HEAD_SERVICE_PORT_REDIS_PRIMARY --object-manager-port=12345 --node-manager-port=12346 && mkdir ray_output && python mnist_ray_sgd.py | tee ./ray_output/output.txt\",\n",
    "    \"container_image\": \"rayproject/autoscaler\",\n",
    "    'input_file_set': 'ray_test_fs', # not used since this example does not need an input dataset\n",
    "    'output_path': './ray_output/', # necessary to have a parent folder\n",
    "    'code': 'mnist_ray_sgd.zip',\n",
    "    'description': 'sample ray sgd job with 5 nodes (1 head + 4 workers)',\n",
    "    'name': 'ray_test_job'\n",
    "}\n",
    "\n",
    "train_job = Job().with_attributes(job_setting).run()"
   ]
  },
  {
   "cell_type": "code",
   "execution_count": null,
   "metadata": {},
   "outputs": [],
   "source": []
  }
 ]
}
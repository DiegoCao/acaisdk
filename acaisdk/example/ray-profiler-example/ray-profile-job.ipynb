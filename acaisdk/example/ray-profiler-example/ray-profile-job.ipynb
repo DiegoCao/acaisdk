{
 "metadata": {
  "language_info": {
   "codemirror_mode": {
    "name": "ipython",
    "version": 3
   },
   "file_extension": ".py",
   "mimetype": "text/x-python",
   "name": "python",
   "nbconvert_exporter": "python",
   "pygments_lexer": "ipython3",
   "version": "3.6.8-final"
  },
  "orig_nbformat": 2,
  "kernelspec": {
   "name": "python_defaultSpec_1603068071315",
   "display_name": "Python 3.6.8 64-bit ('3.6.8': pyenv)"
  }
 },
 "nbformat": 4,
 "nbformat_minor": 2,
 "cells": [
  {
   "cell_type": "code",
   "execution_count": 1,
   "metadata": {},
   "outputs": [],
   "source": [
    "import os\n",
    "import sys\n",
    "sys.path.append(os.path.dirname(os.path.realpath('__file__')) + '/../../../')\n",
    "from acaisdk.file import File\n",
    "from acaisdk.project import Project\n",
    "from acaisdk.fileset import FileSet\n",
    "from acaisdk.job import *\n",
    "from acaisdk.meta import *\n",
    "from acaisdk.utils import utils\n",
    "from acaisdk import credentials\n",
    "\n",
    "workspace = os.path.dirname(os.path.realpath('__file__'))\n",
    "utils.DEBUG = True  # print debug messages. Calls are successful as long as no exception is thrown."
   ]
  },
  {
   "cell_type": "code",
   "execution_count": 2,
   "metadata": {},
   "outputs": [],
   "source": [
    "credentials.login('qjbYDwKhg8l4OzJymKGy2ruHOodiFgsg')"
   ]
  },
  {
   "cell_type": "code",
   "execution_count": 11,
   "metadata": {
    "tags": []
   },
   "outputs": [
    {
     "output_type": "stream",
     "name": "stdout",
     "text": "Running request: 192.168.1.72 7445 storage start_file_upload_session\nPOST data {\"paths\": [\"ray_profiler_train_scripts.zip\"], \"token\": \"qjbYDwKhg8l4OzJymKGy2ruHOodiFgsg\"}\n[('/Users/mxin/Desktop/cmu/2020fall/11632-capstone/acai_repos_new/acaisdk/acaisdk/example/ray-profiler-example/example.zip', 'ray_profiler_train_scripts.zip')]\nr =  <Response [200]>\nUploaded /Users/mxin/Desktop/cmu/2020fall/11632-capstone/acai_repos_new/acaisdk/acaisdk/example/ray-profiler-example/example.zip to ray_profiler_train_scripts.zip\nRunning request: 192.168.1.72 7445 storage poll_file_upload_session\nGET query {\"session_id\": 59, \"token\": \"qjbYDwKhg8l4OzJymKGy2ruHOodiFgsg\"}\nRunning request: 192.168.1.72 7445 storage poll_file_upload_session\nGET query {\"session_id\": 59, \"token\": \"qjbYDwKhg8l4OzJymKGy2ruHOodiFgsg\"}\nRunning request: 192.168.1.72 7445 storage finish_file_upload_session\nPOST data {\"session_id\": 59, \"token\": \"qjbYDwKhg8l4OzJymKGy2ruHOodiFgsg\"}\n"
    },
    {
     "output_type": "execute_result",
     "data": {
      "text/plain": "[('/Users/mxin/Desktop/cmu/2020fall/11632-capstone/acai_repos_new/acaisdk/acaisdk/example/ray-profiler-example/example.zip',\n  'ray_profiler_train_scripts.zip:1')]"
     },
     "metadata": {},
     "execution_count": 11
    }
   ],
   "source": [
    "# Upload code\n",
    "train_code = os.path.join(workspace, 'example.zip')\n",
    "# eval_code = os.path.join(workspace, 'demo/eval_script.zip')\n",
    "File.upload({train_code: 'ray_profiler_train_scripts.zip'})"
   ]
  },
  {
   "cell_type": "code",
   "execution_count": 5,
   "metadata": {},
   "outputs": [],
   "source": [
    "# Run a profiling job\n",
    "job_setting = {\n",
    "    \"command_template\": \"ray start --node-ip-address=$MY_POD_IP --num-cpus=0 --address=$RAY_HEAD_SERVICE_HOST:$RAY_HEAD_SERVICE_PORT_REDIS_PRIMARY --object-manager-port=12345 --node-manager-port=12346 && mkdir ray_output && python example.py | tee ./ray_output/output.txt\",\n",
    "    \"container_image\": \"rayproject/autoscaler\",\n",
    "    'input_file_set': 'ray_test_fs', # not used since this example does not need an input dataset\n",
    "    'code': 'ray_profiler_train_scripts.zip',\n",
    "    'name': 'ray_profiling_test',\n",
    "    'framework': 'ray',\n",
    "    'nnode_space': [1],\n",
    "    'memory_space': [512]\n",
    "}\n",
    "\n",
    "result = {}\n",
    "j = ProfilingJob().with_attributes(job_setting)"
   ]
  },
  {
   "cell_type": "code",
   "execution_count": 6,
   "metadata": {
    "tags": []
   },
   "outputs": [
    {
     "output_type": "stream",
     "name": "stdout",
     "text": "Running request: 192.168.1.72 7445 profiler register_template\nPOST data {\"name\": \"ray_profiling_test\", \"input_file_set\": \"ray_test_fs\", \"code\": \"ray_profiler_train_scripts.zip\", \"command_template\": \"ray start --node-ip-address=$MY_POD_IP --num-cpus=0 --address=$RAY_HEAD_SERVICE_HOST:$RAY_HEAD_SERVICE_PORT_REDIS_PRIMARY --object-manager-port=12345 --node-manager-port=12346 && mkdir ray_output && python example.py | tee ./ray_output/output.txt\", \"container_image\": \"rayproject/autoscaler\", \"memory_space\": [512], \"nnode_space\": [1], \"framework\": \"ray\", \"token\": \"qjbYDwKhg8l4OzJymKGy2ruHOodiFgsg\"}\n{'id': 8, 'name': 'ray_profiling_test', 'code': 'ray_profiler_train_scripts.zip', 'allOptionsSer': '[]', 'state': 'submitted', 'input_file_set': 'ray_test_fs', 'command_template': 'ray start --node-ip-address=$MY_POD_IP --num-cpus=0 --address=$RAY_HEAD_SERVICE_HOST:$RAY_HEAD_SERVICE_PORT_REDIS_PRIMARY --object-manager-port=12345 --node-manager-port=12346 && mkdir ray_output && python example.py | tee ./ray_output/output.txt', 'memory_space': [512], 'cpu_space': [0.5], 'nnode_space': [1], 'user_id': 38, 'project_id': 'execution_test', 'container_image': 'rayproject/autoscaler', 'model_name': None, 'framework': 'ray', 'model_id': None, 'spawned_jobs': 0}\n"
    },
    {
     "output_type": "execute_result",
     "data": {
      "text/plain": "{'id': 8,\n 'name': 'ray_profiling_test',\n 'code': 'ray_profiler_train_scripts.zip',\n 'allOptionsSer': '[]',\n 'state': 'submitted',\n 'input_file_set': 'ray_test_fs',\n 'command_template': 'ray start --node-ip-address=$MY_POD_IP --num-cpus=0 --address=$RAY_HEAD_SERVICE_HOST:$RAY_HEAD_SERVICE_PORT_REDIS_PRIMARY --object-manager-port=12345 --node-manager-port=12346 && mkdir ray_output && python example.py | tee ./ray_output/output.txt',\n 'memory_space': [512],\n 'cpu_space': [0.5],\n 'nnode_space': [1],\n 'user_id': 38,\n 'project_id': 'execution_test',\n 'container_image': 'rayproject/autoscaler',\n 'model_name': None,\n 'framework': 'ray',\n 'model_id': None,\n 'spawned_jobs': 0}"
     },
     "metadata": {},
     "execution_count": 6
    }
   ],
   "source": [
    "# this will populate the result dict with the response, you can also get the response by assigning the return value to a variable\n",
    "j.profile(result)"
   ]
  },
  {
   "cell_type": "code",
   "execution_count": null,
   "metadata": {},
   "outputs": [],
   "source": []
  }
 ]
}
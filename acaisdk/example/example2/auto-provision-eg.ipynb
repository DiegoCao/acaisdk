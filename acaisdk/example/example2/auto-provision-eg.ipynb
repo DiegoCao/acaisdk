{
 "cells": [
  {
   "cell_type": "code",
   "execution_count": 1,
   "metadata": {},
   "outputs": [],
   "source": [
    "import os\n",
    "import sys\n",
    "sys.path.append(os.path.dirname(os.path.realpath('__file__')) + '/../../../')\n",
    "from acaisdk.file import File\n",
    "from acaisdk.project import Project\n",
    "from acaisdk.fileset import FileSet\n",
    "from acaisdk.job import *\n",
    "from acaisdk.meta import *\n",
    "from acaisdk.utils import utils\n",
    "from acaisdk import credentials"
   ]
  },
  {
   "cell_type": "code",
   "execution_count": 2,
   "metadata": {},
   "outputs": [],
   "source": [
    "workspace = os.path.dirname(os.path.realpath('__file__'))  # get current directory\n",
    "utils.DEBUG = True  # print debug messages"
   ]
  },
  {
   "cell_type": "code",
   "execution_count": 14,
   "metadata": {},
   "outputs": [],
   "source": [
    "credentials.login('qjbYDwKhg8l4OzJymKGy2ruHOodiFgsg')"
   ]
  },
  {
   "cell_type": "code",
   "execution_count": 4,
   "metadata": {
    "tags": []
   },
   "outputs": [
    {
     "output_type": "stream",
     "name": "stdout",
     "text": "Running request: 192.168.1.72 7445 storage start_file_upload_session\nPOST data {\"paths\": [\"train_scripts.zip\", \"eval_script.zip\"], \"token\": \"qjbYDwKhg8l4OzJymKGy2ruHOodiFgsg\"}\n[('/Users/mxin/Desktop/cmu/2020fall/11632-capstone/acai_repos_new/acaisdk/acaisdk/example/example2/demo/train_scripts.zip', 'train_scripts.zip'), ('/Users/mxin/Desktop/cmu/2020fall/11632-capstone/acai_repos_new/acaisdk/acaisdk/example/example2/demo/eval_script.zip', 'eval_script.zip')]\nr =  <Response [200]>\nUploaded /Users/mxin/Desktop/cmu/2020fall/11632-capstone/acai_repos_new/acaisdk/acaisdk/example/example2/demo/train_scripts.zip to train_scripts.zip\nr =  <Response [200]>\nUploaded /Users/mxin/Desktop/cmu/2020fall/11632-capstone/acai_repos_new/acaisdk/acaisdk/example/example2/demo/eval_script.zip to eval_script.zip\nRunning request: 192.168.1.72 7445 storage poll_file_upload_session\nGET query {\"session_id\": 37, \"token\": \"qjbYDwKhg8l4OzJymKGy2ruHOodiFgsg\"}\nRunning request: 192.168.1.72 7445 storage poll_file_upload_session\nGET query {\"session_id\": 37, \"token\": \"qjbYDwKhg8l4OzJymKGy2ruHOodiFgsg\"}\nRunning request: 192.168.1.72 7445 storage poll_file_upload_session\nGET query {\"session_id\": 37, \"token\": \"qjbYDwKhg8l4OzJymKGy2ruHOodiFgsg\"}\nRunning request: 192.168.1.72 7445 storage finish_file_upload_session\nPOST data {\"session_id\": 37, \"token\": \"qjbYDwKhg8l4OzJymKGy2ruHOodiFgsg\"}\n"
    },
    {
     "output_type": "execute_result",
     "data": {
      "text/plain": "[('/Users/mxin/Desktop/cmu/2020fall/11632-capstone/acai_repos_new/acaisdk/acaisdk/example/example2/demo/train_scripts.zip',\n  'eval_script.zip:1'),\n ('/Users/mxin/Desktop/cmu/2020fall/11632-capstone/acai_repos_new/acaisdk/acaisdk/example/example2/demo/eval_script.zip',\n  'train_scripts.zip:1')]"
     },
     "metadata": {},
     "execution_count": 4
    }
   ],
   "source": [
    "# Upload code\n",
    "train_code = os.path.join(workspace, 'demo/train_scripts.zip')\n",
    "eval_code = os.path.join(workspace, 'demo/eval_script.zip')\n",
    "File.upload({\n",
    "    train_code: 'train_scripts.zip',\n",
    "    eval_code: 'eval_script.zip'})"
   ]
  },
  {
   "cell_type": "code",
   "execution_count": 5,
   "metadata": {
    "tags": []
   },
   "outputs": [
    {
     "output_type": "stream",
     "name": "stdout",
     "text": "Running request: 192.168.1.72 7445 storage list_directory\nGET query {\"directory_path\": \"/\", \"token\": \"qjbYDwKhg8l4OzJymKGy2ruHOodiFgsg\"}\n"
    },
    {
     "output_type": "execute_result",
     "data": {
      "text/plain": "[{'path': 'eval_script.zip', 'version': 1, 'dir': False, 'is_dir': False},\n {'path': 'train_scripts.zip', 'version': 1, 'dir': False, 'is_dir': False},\n {'path': 'Shakespeare', 'version': -1, 'dir': True, 'is_dir': True},\n {'path': 'wordcount.zip', 'version': 1, 'dir': False, 'is_dir': False}]"
     },
     "metadata": {},
     "execution_count": 5
    }
   ],
   "source": [
    "# You can inspect the uploaded files\n",
    "File.list_dir('/')"
   ]
  },
  {
   "cell_type": "code",
   "execution_count": 6,
   "metadata": {
    "tags": [
     "outputPrepend"
    ]
   },
   "outputs": [
    {
     "output_type": "stream",
     "name": "stdout",
     "text": " [200]>\nUploaded /Users/mxin/Desktop/cmu/2020fall/11632-capstone/acai_repos_new/acaisdk/acaisdk/example/example2/demo/dataset/train/train/2/0009_01.jpg to dataset/train/2/0009_01.jpg\nr =  <Response [200]>\nUploaded /Users/mxin/Desktop/cmu/2020fall/11632-capstone/acai_repos_new/acaisdk/acaisdk/example/example2/demo/dataset/train/train/2/0021_01.jpg to dataset/train/2/0021_01.jpg\nr =  <Response [200]>\nUploaded /Users/mxin/Desktop/cmu/2020fall/11632-capstone/acai_repos_new/acaisdk/acaisdk/example/example2/demo/dataset/train/train/2/0005_02.jpg to dataset/train/2/0005_02.jpg\nr =  <Response [200]>\nUploaded /Users/mxin/Desktop/cmu/2020fall/11632-capstone/acai_repos_new/acaisdk/acaisdk/example/example2/demo/dataset/train/train/2/0017_02.jpg to dataset/train/2/0017_02.jpg\nr =  <Response [200]>\nUploaded /Users/mxin/Desktop/cmu/2020fall/11632-capstone/acai_repos_new/acaisdk/acaisdk/example/example2/demo/dataset/train/train/2/0033_02.jpg to dataset/train/2/0033_02.jpg\nr =  <Response [200]>\nUploaded /Users/mxin/Desktop/cmu/2020fall/11632-capstone/acai_repos_new/acaisdk/acaisdk/example/example2/demo/dataset/train/train/2/0012_01.jpg to dataset/train/2/0012_01.jpg\nr =  <Response [200]>\nUploaded /Users/mxin/Desktop/cmu/2020fall/11632-capstone/acai_repos_new/acaisdk/acaisdk/example/example2/demo/dataset/train/train/2/0028_01.jpg to dataset/train/2/0028_01.jpg\nr =  <Response [200]>\nUploaded /Users/mxin/Desktop/cmu/2020fall/11632-capstone/acai_repos_new/acaisdk/acaisdk/example/example2/demo/dataset/train/train/2/0024_01.jpg to dataset/train/2/0024_01.jpg\nr =  <Response [200]>\nUploaded /Users/mxin/Desktop/cmu/2020fall/11632-capstone/acai_repos_new/acaisdk/acaisdk/example/example2/demo/dataset/train/train/2/0002_01.jpg to dataset/train/2/0002_01.jpg\nr =  <Response [200]>\nUploaded /Users/mxin/Desktop/cmu/2020fall/11632-capstone/acai_repos_new/acaisdk/acaisdk/example/example2/demo/dataset/train/train/2/0010_01.jpg to dataset/train/2/0010_01.jpg\nr =  <Response [200]>\nUploaded /Users/mxin/Desktop/cmu/2020fall/11632-capstone/acai_repos_new/acaisdk/acaisdk/example/example2/demo/dataset/train/train/2/0002_02.jpg to dataset/train/2/0002_02.jpg\nr =  <Response [200]>\nUploaded /Users/mxin/Desktop/cmu/2020fall/11632-capstone/acai_repos_new/acaisdk/acaisdk/example/example2/demo/dataset/train/train/2/0026_02.jpg to dataset/train/2/0026_02.jpg\nr =  <Response [200]>\nUploaded /Users/mxin/Desktop/cmu/2020fall/11632-capstone/acai_repos_new/acaisdk/acaisdk/example/example2/demo/dataset/train/train/2/0030_01.jpg to dataset/train/2/0030_01.jpg\nr =  <Response [200]>\nUploaded /Users/mxin/Desktop/cmu/2020fall/11632-capstone/acai_repos_new/acaisdk/acaisdk/example/example2/demo/dataset/train/train/2/0022_01.jpg to dataset/train/2/0022_01.jpg\nr =  <Response [200]>\nUploaded /Users/mxin/Desktop/cmu/2020fall/11632-capstone/acai_repos_new/acaisdk/acaisdk/example/example2/demo/dataset/train/train/2/0014_01.jpg to dataset/train/2/0014_01.jpg\nr =  <Response [200]>\nUploaded /Users/mxin/Desktop/cmu/2020fall/11632-capstone/acai_repos_new/acaisdk/acaisdk/example/example2/demo/dataset/train/train/2/0018_01.jpg to dataset/train/2/0018_01.jpg\nr =  <Response [200]>\nUploaded /Users/mxin/Desktop/cmu/2020fall/11632-capstone/acai_repos_new/acaisdk/acaisdk/example/example2/demo/dataset/train/train/2/0006_02.jpg to dataset/train/2/0006_02.jpg\nr =  <Response [200]>\nUploaded /Users/mxin/Desktop/cmu/2020fall/11632-capstone/acai_repos_new/acaisdk/acaisdk/example/example2/demo/dataset/train/train/2/0032_02.jpg to dataset/train/2/0032_02.jpg\nr =  <Response [200]>\nUploaded /Users/mxin/Desktop/cmu/2020fall/11632-capstone/acai_repos_new/acaisdk/acaisdk/example/example2/demo/dataset/train/train/2/0020_01.jpg to dataset/train/2/0020_01.jpg\nr =  <Response [200]>\nUploaded /Users/mxin/Desktop/cmu/2020fall/11632-capstone/acai_repos_new/acaisdk/acaisdk/example/example2/demo/dataset/train/train/2/0032_01.jpg to dataset/train/2/0032_01.jpg\nr =  <Response [200]>\nUploaded /Users/mxin/Desktop/cmu/2020fall/11632-capstone/acai_repos_new/acaisdk/acaisdk/example/example2/demo/dataset/train/train/2/0004_01.jpg to dataset/train/2/0004_01.jpg\nr =  <Response [200]>\nUploaded /Users/mxin/Desktop/cmu/2020fall/11632-capstone/acai_repos_new/acaisdk/acaisdk/example/example2/demo/dataset/train/train/2/0016_01.jpg to dataset/train/2/0016_01.jpg\nr =  <Response [200]>\nUploaded /Users/mxin/Desktop/cmu/2020fall/11632-capstone/acai_repos_new/acaisdk/acaisdk/example/example2/demo/dataset/train/train/2/0008_01.jpg to dataset/train/2/0008_01.jpg\nr =  <Response [200]>\nUploaded /Users/mxin/Desktop/cmu/2020fall/11632-capstone/acai_repos_new/acaisdk/acaisdk/example/example2/demo/dataset/train/train/5/0025_01.jpg to dataset/train/5/0025_01.jpg\nr =  <Response [200]>\nUploaded /Users/mxin/Desktop/cmu/2020fall/11632-capstone/acai_repos_new/acaisdk/acaisdk/example/example2/demo/dataset/train/train/5/0013_01.jpg to dataset/train/5/0013_01.jpg\nr =  <Response [200]>\nUploaded /Users/mxin/Desktop/cmu/2020fall/11632-capstone/acai_repos_new/acaisdk/acaisdk/example/example2/demo/dataset/train/train/5/0025_02.jpg to dataset/train/5/0025_02.jpg\nr =  <Response [200]>\nUploaded /Users/mxin/Desktop/cmu/2020fall/11632-capstone/acai_repos_new/acaisdk/acaisdk/example/example2/demo/dataset/train/train/5/0025_04.jpg to dataset/train/5/0025_04.jpg\nr =  <Response [200]>\nUploaded /Users/mxin/Desktop/cmu/2020fall/11632-capstone/acai_repos_new/acaisdk/acaisdk/example/example2/demo/dataset/train/train/5/0003_01.jpg to dataset/train/5/0003_01.jpg\nr =  <Response [200]>\nUploaded /Users/mxin/Desktop/cmu/2020fall/11632-capstone/acai_repos_new/acaisdk/acaisdk/example/example2/demo/dataset/train/train/5/0011_01.jpg to dataset/train/5/0011_01.jpg\nr =  <Response [200]>\nUploaded /Users/mxin/Desktop/cmu/2020fall/11632-capstone/acai_repos_new/acaisdk/acaisdk/example/example2/demo/dataset/train/train/5/0015_01.jpg to dataset/train/5/0015_01.jpg\nr =  <Response [200]>\nUploaded /Users/mxin/Desktop/cmu/2020fall/11632-capstone/acai_repos_new/acaisdk/acaisdk/example/example2/demo/dataset/train/train/5/0007_01.jpg to dataset/train/5/0007_01.jpg\nr =  <Response [200]>\nUploaded /Users/mxin/Desktop/cmu/2020fall/11632-capstone/acai_repos_new/acaisdk/acaisdk/example/example2/demo/dataset/train/train/5/0019_01.jpg to dataset/train/5/0019_01.jpg\nr =  <Response [200]>\nUploaded /Users/mxin/Desktop/cmu/2020fall/11632-capstone/acai_repos_new/acaisdk/acaisdk/example/example2/demo/dataset/train/train/5/0023_01.jpg to dataset/train/5/0023_01.jpg\nr =  <Response [200]>\nUploaded /Users/mxin/Desktop/cmu/2020fall/11632-capstone/acai_repos_new/acaisdk/acaisdk/example/example2/demo/dataset/train/train/5/0005_01.jpg to dataset/train/5/0005_01.jpg\nr =  <Response [200]>\nUploaded /Users/mxin/Desktop/cmu/2020fall/11632-capstone/acai_repos_new/acaisdk/acaisdk/example/example2/demo/dataset/train/train/5/0009_01.jpg to dataset/train/5/0009_01.jpg\nr =  <Response [200]>\nUploaded /Users/mxin/Desktop/cmu/2020fall/11632-capstone/acai_repos_new/acaisdk/acaisdk/example/example2/demo/dataset/train/train/5/0026_09.jpg to dataset/train/5/0026_09.jpg\nr =  <Response [200]>\nUploaded /Users/mxin/Desktop/cmu/2020fall/11632-capstone/acai_repos_new/acaisdk/acaisdk/example/example2/demo/dataset/train/train/5/0017_01.jpg to dataset/train/5/0017_01.jpg\nr =  <Response [200]>\nUploaded /Users/mxin/Desktop/cmu/2020fall/11632-capstone/acai_repos_new/acaisdk/acaisdk/example/example2/demo/dataset/train/train/5/0021_01.jpg to dataset/train/5/0021_01.jpg\nr =  <Response [200]>\nUploaded /Users/mxin/Desktop/cmu/2020fall/11632-capstone/acai_repos_new/acaisdk/acaisdk/example/example2/demo/dataset/train/train/5/0026_08.jpg to dataset/train/5/0026_08.jpg\nr =  <Response [200]>\nUploaded /Users/mxin/Desktop/cmu/2020fall/11632-capstone/acai_repos_new/acaisdk/acaisdk/example/example2/demo/dataset/train/train/5/0026_06.jpg to dataset/train/5/0026_06.jpg\nr =  <Response [200]>\nUploaded /Users/mxin/Desktop/cmu/2020fall/11632-capstone/acai_repos_new/acaisdk/acaisdk/example/example2/demo/dataset/train/train/5/0012_01.jpg to dataset/train/5/0012_01.jpg\nr =  <Response [200]>\nUploaded /Users/mxin/Desktop/cmu/2020fall/11632-capstone/acai_repos_new/acaisdk/acaisdk/example/example2/demo/dataset/train/train/5/0026_05.jpg to dataset/train/5/0026_05.jpg\nr =  <Response [200]>\nUploaded /Users/mxin/Desktop/cmu/2020fall/11632-capstone/acai_repos_new/acaisdk/acaisdk/example/example2/demo/dataset/train/train/5/0026_04.jpg to dataset/train/5/0026_04.jpg\nr =  <Response [200]>\nUploaded /Users/mxin/Desktop/cmu/2020fall/11632-capstone/acai_repos_new/acaisdk/acaisdk/example/example2/demo/dataset/train/train/5/0024_01.jpg to dataset/train/5/0024_01.jpg\nr =  <Response [200]>\nUploaded /Users/mxin/Desktop/cmu/2020fall/11632-capstone/acai_repos_new/acaisdk/acaisdk/example/example2/demo/dataset/train/train/5/0002_01.jpg to dataset/train/5/0002_01.jpg\nr =  <Response [200]>\nUploaded /Users/mxin/Desktop/cmu/2020fall/11632-capstone/acai_repos_new/acaisdk/acaisdk/example/example2/demo/dataset/train/train/5/0010_01.jpg to dataset/train/5/0010_01.jpg\nr =  <Response [200]>\nUploaded /Users/mxin/Desktop/cmu/2020fall/11632-capstone/acai_repos_new/acaisdk/acaisdk/example/example2/demo/dataset/train/train/5/0026_01.jpg to dataset/train/5/0026_01.jpg\nr =  <Response [200]>\nUploaded /Users/mxin/Desktop/cmu/2020fall/11632-capstone/acai_repos_new/acaisdk/acaisdk/example/example2/demo/dataset/train/train/5/0026_03.jpg to dataset/train/5/0026_03.jpg\nr =  <Response [200]>\nUploaded /Users/mxin/Desktop/cmu/2020fall/11632-capstone/acai_repos_new/acaisdk/acaisdk/example/example2/demo/dataset/train/train/5/0026_02.jpg to dataset/train/5/0026_02.jpg\nr =  <Response [200]>\nUploaded /Users/mxin/Desktop/cmu/2020fall/11632-capstone/acai_repos_new/acaisdk/acaisdk/example/example2/demo/dataset/train/train/5/0022_01.jpg to dataset/train/5/0022_01.jpg\nr =  <Response [200]>\nUploaded /Users/mxin/Desktop/cmu/2020fall/11632-capstone/acai_repos_new/acaisdk/acaisdk/example/example2/demo/dataset/train/train/5/0014_01.jpg to dataset/train/5/0014_01.jpg\nr =  <Response [200]>\nUploaded /Users/mxin/Desktop/cmu/2020fall/11632-capstone/acai_repos_new/acaisdk/acaisdk/example/example2/demo/dataset/train/train/5/0018_01.jpg to dataset/train/5/0018_01.jpg\nr =  <Response [200]>\nUploaded /Users/mxin/Desktop/cmu/2020fall/11632-capstone/acai_repos_new/acaisdk/acaisdk/example/example2/demo/dataset/train/train/5/0006_01.jpg to dataset/train/5/0006_01.jpg\nr =  <Response [200]>\nUploaded /Users/mxin/Desktop/cmu/2020fall/11632-capstone/acai_repos_new/acaisdk/acaisdk/example/example2/demo/dataset/train/train/5/0016_02.jpg to dataset/train/5/0016_02.jpg\nr =  <Response [200]>\nUploaded /Users/mxin/Desktop/cmu/2020fall/11632-capstone/acai_repos_new/acaisdk/acaisdk/example/example2/demo/dataset/train/train/5/0020_01.jpg to dataset/train/5/0020_01.jpg\nr =  <Response [200]>\nUploaded /Users/mxin/Desktop/cmu/2020fall/11632-capstone/acai_repos_new/acaisdk/acaisdk/example/example2/demo/dataset/train/train/5/0004_01.jpg to dataset/train/5/0004_01.jpg\nr =  <Response [200]>\nUploaded /Users/mxin/Desktop/cmu/2020fall/11632-capstone/acai_repos_new/acaisdk/acaisdk/example/example2/demo/dataset/train/train/5/0008_01.jpg to dataset/train/5/0008_01.jpg\nr =  <Response [200]>\nUploaded /Users/mxin/Desktop/cmu/2020fall/11632-capstone/acai_repos_new/acaisdk/acaisdk/example/example2/demo/dataset/train/validation/1/0419_01.jpg to dataset/validation/1/0419_01.jpg\nr =  <Response [200]>\nUploaded /Users/mxin/Desktop/cmu/2020fall/11632-capstone/acai_repos_new/acaisdk/acaisdk/example/example2/demo/dataset/train/validation/1/0014_02.jpg to dataset/validation/1/0014_02.jpg\nr =  <Response [200]>\nUploaded /Users/mxin/Desktop/cmu/2020fall/11632-capstone/acai_repos_new/acaisdk/acaisdk/example/example2/demo/dataset/train/validation/4/0123_03.jpg to dataset/validation/4/0123_03.jpg\nr =  <Response [200]>\nUploaded /Users/mxin/Desktop/cmu/2020fall/11632-capstone/acai_repos_new/acaisdk/acaisdk/example/example2/demo/dataset/train/validation/4/0033_01.jpg to dataset/validation/4/0033_01.jpg\nr =  <Response [200]>\nUploaded /Users/mxin/Desktop/cmu/2020fall/11632-capstone/acai_repos_new/acaisdk/acaisdk/example/example2/demo/dataset/train/validation/3/0101_01.jpg to dataset/validation/3/0101_01.jpg\nr =  <Response [200]>\nUploaded /Users/mxin/Desktop/cmu/2020fall/11632-capstone/acai_repos_new/acaisdk/acaisdk/example/example2/demo/dataset/train/validation/3/0176_01.jpg to dataset/validation/3/0176_01.jpg\nr =  <Response [200]>\nUploaded /Users/mxin/Desktop/cmu/2020fall/11632-capstone/acai_repos_new/acaisdk/acaisdk/example/example2/demo/dataset/train/validation/2/0101_01.jpg to dataset/validation/2/0101_01.jpg\nr =  <Response [200]>\nUploaded /Users/mxin/Desktop/cmu/2020fall/11632-capstone/acai_repos_new/acaisdk/acaisdk/example/example2/demo/dataset/train/validation/2/0176_01.jpg to dataset/validation/2/0176_01.jpg\nr =  <Response [200]>\nUploaded /Users/mxin/Desktop/cmu/2020fall/11632-capstone/acai_repos_new/acaisdk/acaisdk/example/example2/demo/dataset/train/validation/5/0101_01.jpg to dataset/validation/5/0101_01.jpg\nr =  <Response [200]>\nUploaded /Users/mxin/Desktop/cmu/2020fall/11632-capstone/acai_repos_new/acaisdk/acaisdk/example/example2/demo/dataset/train/validation/5/0033_01.jpg to dataset/validation/5/0033_01.jpg\nRunning request: 192.168.1.72 7445 storage poll_file_upload_session\nGET query {\"session_id\": 231, \"token\": \"qjbYDwKhg8l4OzJymKGy2ruHOodiFgsg\"}\nRunning request: 192.168.1.72 7445 storage poll_file_upload_session\nGET query {\"session_id\": 231, \"token\": \"qjbYDwKhg8l4OzJymKGy2ruHOodiFgsg\"}\nRunning request: 192.168.1.72 7445 storage poll_file_upload_session\nGET query {\"session_id\": 231, \"token\": \"qjbYDwKhg8l4OzJymKGy2ruHOodiFgsg\"}\nRunning request: 192.168.1.72 7445 storage finish_file_upload_session\nPOST data {\"session_id\": 231, \"token\": \"qjbYDwKhg8l4OzJymKGy2ruHOodiFgsg\"}\nRunning request: 192.168.1.72 7445 storage create_file_set\nPOST data {\"name\": \"train_dataset\", \"files\": [\"dataset/train/1/0013_02.jpg:1\", \"dataset/train/1/0011_04.jpg:1\", \"dataset/train/1/0025_01.jpg:1\", \"dataset/train/1/0029_01.jpg:1\", \"dataset/train/1/0027_01.jpg:1\", \"dataset/train/1/0035_01.jpg:1\", \"dataset/train/1/0003_01.jpg:1\", \"dataset/train/1/0015_02.jpg:1\", \"dataset/train/1/0007_03.jpg:1\", \"dataset/train/1/0019_01.jpg:1\", \"dataset/train/1/0031_01.jpg:1\", \"dataset/train/1/0023_01.jpg:1\", \"dataset/train/1/0033_04.jpg:1\", \"dataset/train/1/0005_01.jpg:1\", \"dataset/train/1/0009_01.jpg:1\", \"dataset/train/1/0017_01.jpg:1\", \"dataset/train/1/0012_01.jpg:1\", \"dataset/train/1/0028_01.jpg:1\", \"dataset/train/1/0024_01.jpg:1\", \"dataset/train/1/0002_01.jpg:1\", \"dataset/train/1/0010_01.jpg:1\", \"dataset/train/1/0026_01.jpg:1\", \"dataset/train/1/0010_02.jpg:1\", \"dataset/train/1/0034_02.jpg:1\", \"dataset/train/1/0030_01.jpg:1\", \"dataset/train/1/0022_01.jpg:1\", \"dataset/train/1/0018_01.jpg:1\", \"dataset/train/1/0006_01.jpg:1\", \"dataset/train/1/0018_02.jpg:1\", \"dataset/train/1/0020_01.jpg:1\", \"dataset/train/1/0032_01.jpg:1\", \"dataset/train/1/0004_01.jpg:1\", \"dataset/train/1/0016_01.jpg:1\", \"dataset/train/1/0008_01.jpg:1\", \"dataset/train/4/0029_01.jpg:1\", \"dataset/train/4/0025_01.jpg:1\", \"dataset/train/4/0013_01.jpg:1\", \"dataset/train/4/0027_02.jpg:1\", \"dataset/train/4/0003_01.jpg:1\", \"dataset/train/4/0011_01.jpg:1\", \"dataset/train/4/0007_02.jpg:1\", \"dataset/train/4/0031_02.jpg:1\", \"dataset/train/4/0007_03.jpg:1\", \"dataset/train/4/0007_01.jpg:1\", \"dataset/train/4/0019_01.jpg:1\", \"dataset/train/4/0023_01.jpg:1\", \"dataset/train/4/0005_01.jpg:1\", \"dataset/train/4/0009_01.jpg:1\", \"dataset/train/4/0017_01.jpg:1\", \"dataset/train/4/0021_01.jpg:1\", \"dataset/train/4/0024_03.jpg:1\", \"dataset/train/4/0024_02.jpg:1\", \"dataset/train/4/0012_01.jpg:1\", \"dataset/train/4/0028_01.jpg:1\", \"dataset/train/4/0002_01.jpg:1\", \"dataset/train/4/0010_01.jpg:1\", \"dataset/train/4/0026_01.jpg:1\", \"dataset/train/4/0034_01.jpg:1\", \"dataset/train/4/0030_01.jpg:1\", \"dataset/train/4/0022_01.jpg:1\", \"dataset/train/4/0014_01.jpg:1\", \"dataset/train/4/0018_01.jpg:1\", \"dataset/train/4/0006_01.jpg:1\", \"dataset/train/4/0008_03.jpg:1\", \"dataset/train/4/0020_01.jpg:1\", \"dataset/train/4/0032_01.jpg:1\", \"dataset/train/4/0004_01.jpg:1\", \"dataset/train/4/0016_01.jpg:1\", \"dataset/train/3/0029_01.jpg:1\", \"dataset/train/3/0025_01.jpg:1\", \"dataset/train/3/0013_01.jpg:1\", \"dataset/train/3/0027_01.jpg:1\", \"dataset/train/3/0035_01.jpg:1\", \"dataset/train/3/0003_01.jpg:1\", \"dataset/train/3/0011_01.jpg:1\", \"dataset/train/3/0015_01.jpg:1\", \"dataset/train/3/0007_01.jpg:1\", \"dataset/train/3/0019_01.jpg:1\", \"dataset/train/3/0031_01.jpg:1\", \"dataset/train/3/0023_01.jpg:1\", \"dataset/train/3/0005_01.jpg:1\", \"dataset/train/3/0009_01.jpg:1\", \"dataset/train/3/0017_01.jpg:1\", \"dataset/train/3/0021_02.jpg:1\", \"dataset/train/3/0028_02.jpg:1\", \"dataset/train/3/0024_02.jpg:1\", \"dataset/train/3/0012_01.jpg:1\", \"dataset/train/3/0036_01.jpg:1\", \"dataset/train/3/0002_01.jpg:1\", \"dataset/train/3/0010_01.jpg:1\", \"dataset/train/3/0026_01.jpg:1\", \"dataset/train/3/0034_01.jpg:1\", \"dataset/train/3/0030_01.jpg:1\", \"dataset/train/3/0014_01.jpg:1\", \"dataset/train/3/0018_01.jpg:1\", \"dataset/train/3/0022_02.jpg:1\", \"dataset/train/3/0006_02.jpg:1\", \"dataset/train/3/0032_02.jpg:1\", \"dataset/train/3/0020_01.jpg:1\", \"dataset/train/3/0004_01.jpg:1\", \"dataset/train/3/0016_01.jpg:1\", \"dataset/train/3/0008_01.jpg:1\", \"dataset/train/2/0029_01.jpg:1\", \"dataset/train/2/0025_01.jpg:1\", \"dataset/train/2/0013_02.jpg:1\", \"dataset/train/2/0027_03.jpg:1\", \"dataset/train/2/0003_01.jpg:1\", \"dataset/train/2/0011_01.jpg:1\", \"dataset/train/2/0023_03.jpg:1\", \"dataset/train/2/0007_02.jpg:1\", \"dataset/train/2/0031_02.jpg:1\", \"dataset/train/2/0015_01.jpg:1\", \"dataset/train/2/0019_01.jpg:1\", \"dataset/train/2/0009_01.jpg:1\", \"dataset/train/2/0021_01.jpg:1\", \"dataset/train/2/0005_02.jpg:1\", \"dataset/train/2/0017_02.jpg:1\", \"dataset/train/2/0033_02.jpg:1\", \"dataset/train/2/0012_01.jpg:1\", \"dataset/train/2/0028_01.jpg:1\", \"dataset/train/2/0024_01.jpg:1\", \"dataset/train/2/0002_01.jpg:1\", \"dataset/train/2/0010_01.jpg:1\", \"dataset/train/2/0002_02.jpg:1\", \"dataset/train/2/0026_02.jpg:1\", \"dataset/train/2/0030_01.jpg:1\", \"dataset/train/2/0022_01.jpg:1\", \"dataset/train/2/0014_01.jpg:1\", \"dataset/train/2/0018_01.jpg:1\", \"dataset/train/2/0006_02.jpg:1\", \"dataset/train/2/0032_02.jpg:1\", \"dataset/train/2/0020_01.jpg:1\", \"dataset/train/2/0032_01.jpg:1\", \"dataset/train/2/0004_01.jpg:1\", \"dataset/train/2/0016_01.jpg:1\", \"dataset/train/2/0008_01.jpg:1\", \"dataset/train/5/0025_01.jpg:1\", \"dataset/train/5/0013_01.jpg:1\", \"dataset/train/5/0025_02.jpg:1\", \"dataset/train/5/0025_04.jpg:1\", \"dataset/train/5/0003_01.jpg:1\", \"dataset/train/5/0011_01.jpg:1\", \"dataset/train/5/0015_01.jpg:1\", \"dataset/train/5/0007_01.jpg:1\", \"dataset/train/5/0019_01.jpg:1\", \"dataset/train/5/0023_01.jpg:1\", \"dataset/train/5/0005_01.jpg:1\", \"dataset/train/5/0009_01.jpg:1\", \"dataset/train/5/0026_09.jpg:1\", \"dataset/train/5/0017_01.jpg:1\", \"dataset/train/5/0021_01.jpg:1\", \"dataset/train/5/0026_08.jpg:1\", \"dataset/train/5/0026_06.jpg:1\", \"dataset/train/5/0012_01.jpg:1\", \"dataset/train/5/0026_05.jpg:1\", \"dataset/train/5/0026_04.jpg:1\", \"dataset/train/5/0024_01.jpg:1\", \"dataset/train/5/0002_01.jpg:1\", \"dataset/train/5/0010_01.jpg:1\", \"dataset/train/5/0026_01.jpg:1\", \"dataset/train/5/0026_03.jpg:1\", \"dataset/train/5/0026_02.jpg:1\", \"dataset/train/5/0022_01.jpg:1\", \"dataset/train/5/0014_01.jpg:1\", \"dataset/train/5/0018_01.jpg:1\", \"dataset/train/5/0006_01.jpg:1\", \"dataset/train/5/0016_02.jpg:1\", \"dataset/train/5/0020_01.jpg:1\", \"dataset/train/5/0004_01.jpg:1\", \"dataset/train/5/0008_01.jpg:1\", \"dataset/validation/1/0419_01.jpg:1\", \"dataset/validation/1/0014_02.jpg:1\", \"dataset/validation/4/0123_03.jpg:1\", \"dataset/validation/4/0033_01.jpg:1\", \"dataset/validation/3/0101_01.jpg:1\", \"dataset/validation/3/0176_01.jpg:1\", \"dataset/validation/2/0101_01.jpg:1\", \"dataset/validation/2/0176_01.jpg:1\", \"dataset/validation/5/0101_01.jpg:1\", \"dataset/validation/5/0033_01.jpg:1\"], \"token\": \"qjbYDwKhg8l4OzJymKGy2ruHOodiFgsg\"}\n"
    },
    {
     "output_type": "execute_result",
     "data": {
      "text/plain": "{'id': 'train_dataset:1',\n 'files': ['dataset/train/1/0034_02.jpg:1',\n  'dataset/train/3/0032_02.jpg:1',\n  'dataset/train/4/0031_02.jpg:1',\n  'dataset/train/2/0032_02.jpg:1',\n  'dataset/train/2/0033_02.jpg:1',\n  'dataset/train/5/0026_06.jpg:1',\n  'dataset/train/5/0015_01.jpg:1',\n  'dataset/train/2/0018_01.jpg:1',\n  'dataset/train/3/0018_01.jpg:1',\n  'dataset/train/3/0017_01.jpg:1',\n  'dataset/train/4/0016_01.jpg:1',\n  'dataset/train/4/0017_01.jpg:1',\n  'dataset/train/2/0019_01.jpg:1',\n  'dataset/train/2/0031_02.jpg:1',\n  'dataset/train/3/0019_01.jpg:1',\n  'dataset/train/4/0018_01.jpg:1',\n  'dataset/train/3/0016_01.jpg:1',\n  'dataset/train/3/0015_01.jpg:1',\n  'dataset/train/4/0014_01.jpg:1',\n  'dataset/train/5/0012_01.jpg:1',\n  'dataset/train/5/0019_01.jpg:1',\n  'dataset/train/4/0013_01.jpg:1',\n  'dataset/train/5/0011_01.jpg:1',\n  'dataset/train/4/0019_01.jpg:1',\n  'dataset/train/5/0010_01.jpg:1',\n  'dataset/train/5/0014_01.jpg:1',\n  'dataset/train/5/0017_01.jpg:1',\n  'dataset/train/5/0013_01.jpg:1',\n  'dataset/train/5/0018_01.jpg:1',\n  'dataset/train/2/0011_01.jpg:1',\n  'dataset/train/2/0020_01.jpg:1',\n  'dataset/train/1/0020_01.jpg:1',\n  'dataset/train/3/0011_01.jpg:1',\n  'dataset/train/3/0020_01.jpg:1',\n  'dataset/train/4/0011_01.jpg:1',\n  'dataset/train/2/0022_01.jpg:1',\n  'dataset/train/1/0024_01.jpg:1',\n  'dataset/train/2/0015_01.jpg:1',\n  'dataset/train/3/0013_01.jpg:1',\n  'dataset/train/1/0022_01.jpg:1',\n  'dataset/train/1/0017_01.jpg:1',\n  'dataset/train/5/0025_04.jpg:1',\n  'dataset/train/5/0026_08.jpg:1',\n  'dataset/train/1/0019_01.jpg:1',\n  'dataset/train/3/0028_02.jpg:1',\n  'dataset/train/1/0007_03.jpg:1',\n  'dataset/train/4/0007_03.jpg:1',\n  'dataset/train/3/0024_02.jpg:1',\n  'dataset/train/4/0008_03.jpg:1',\n  'dataset/train/4/0024_02.jpg:1',\n  'dataset/train/4/0027_02.jpg:1',\n  'dataset/train/5/0007_01.jpg:1',\n  'dataset/train/4/0025_01.jpg:1',\n  'dataset/train/5/0025_01.jpg:1',\n  'dataset/train/3/0025_01.jpg:1',\n  'dataset/train/4/0007_01.jpg:1',\n  'dataset/train/2/0005_02.jpg:1',\n  'dataset/train/3/0026_01.jpg:1',\n  'dataset/train/1/0026_01.jpg:1',\n  'dataset/train/1/0029_01.jpg:1',\n  'dataset/train/2/0002_02.jpg:1',\n  'dataset/train/2/0025_01.jpg:1',\n  'dataset/train/5/0008_01.jpg:1',\n  'dataset/train/5/0004_01.jpg:1',\n  'dataset/train/2/0029_01.jpg:1',\n  'dataset/train/4/0021_01.jpg:1',\n  'dataset/train/5/0021_01.jpg:1',\n  'dataset/train/5/0026_01.jpg:1',\n  'dataset/train/2/0006_02.jpg:1',\n  'dataset/train/3/0029_01.jpg:1',\n  'dataset/train/5/0022_01.jpg:1',\n  'dataset/train/4/0022_01.jpg:1',\n  'dataset/train/3/0006_02.jpg:1',\n  'dataset/train/4/0026_01.jpg:1',\n  'dataset/train/4/0029_01.jpg:1',\n  'dataset/train/3/0010_01.jpg:1',\n  'dataset/train/2/0003_01.jpg:1',\n  'dataset/train/2/0021_01.jpg:1',\n  'dataset/train/4/0010_01.jpg:1',\n  'dataset/train/5/0003_01.jpg:1',\n  'dataset/train/1/0032_01.jpg:1',\n  'dataset/train/1/0003_01.jpg:1',\n  'dataset/train/2/0014_01.jpg:1',\n  'dataset/train/3/0014_01.jpg:1',\n  'dataset/train/1/0025_01.jpg:1',\n  'dataset/train/4/0003_01.jpg:1',\n  'dataset/train/3/0007_01.jpg:1',\n  'dataset/train/1/0010_01.jpg:1',\n  'dataset/train/1/0018_01.jpg:1',\n  'dataset/train/2/0010_01.jpg:1',\n  'dataset/train/3/0003_01.jpg:1',\n  'dataset/train/5/0026_03.jpg:1',\n  'dataset/validation/4/0123_03.jpg:1',\n  'dataset/train/5/0016_02.jpg:1',\n  'dataset/validation/3/0176_01.jpg:1',\n  'dataset/train/1/0011_04.jpg:1',\n  'dataset/validation/2/0176_01.jpg:1',\n  'dataset/train/3/0034_01.jpg:1',\n  'dataset/train/1/0013_02.jpg:1',\n  'dataset/train/4/0034_01.jpg:1',\n  'dataset/train/4/0032_01.jpg:1',\n  'dataset/train/1/0035_01.jpg:1',\n  'dataset/train/2/0032_01.jpg:1',\n  'dataset/train/2/0030_01.jpg:1',\n  'dataset/train/4/0030_01.jpg:1',\n  'dataset/train/1/0010_02.jpg:1',\n  'dataset/train/3/0036_01.jpg:1',\n  'dataset/train/1/0015_02.jpg:1',\n  'dataset/train/1/0018_02.jpg:1',\n  'dataset/train/2/0017_02.jpg:1',\n  'dataset/train/2/0013_02.jpg:1',\n  'dataset/train/3/0035_01.jpg:1',\n  'dataset/train/5/0026_05.jpg:1',\n  'dataset/train/3/0030_01.jpg:1',\n  'dataset/train/3/0031_01.jpg:1',\n  'dataset/validation/2/0101_01.jpg:1',\n  'dataset/train/5/0026_09.jpg:1',\n  'dataset/train/2/0004_01.jpg:1',\n  'dataset/train/2/0002_01.jpg:1',\n  'dataset/train/4/0002_01.jpg:1',\n  'dataset/validation/5/0101_01.jpg:1',\n  'dataset/train/1/0006_01.jpg:1',\n  'dataset/train/5/0002_01.jpg:1',\n  'dataset/train/1/0004_01.jpg:1',\n  'dataset/train/1/0002_01.jpg:1',\n  'dataset/train/1/0031_01.jpg:1',\n  'dataset/train/4/0004_01.jpg:1',\n  'dataset/train/2/0008_01.jpg:1',\n  'dataset/validation/3/0101_01.jpg:1',\n  'dataset/train/3/0008_01.jpg:1',\n  'dataset/train/3/0004_01.jpg:1',\n  'dataset/train/3/0002_01.jpg:1',\n  'dataset/train/2/0027_03.jpg:1',\n  'dataset/validation/1/0419_01.jpg:1',\n  'dataset/train/1/0008_01.jpg:1',\n  'dataset/validation/4/0033_01.jpg:1',\n  'dataset/validation/5/0033_01.jpg:1',\n  'dataset/train/5/0025_02.jpg:1',\n  'dataset/train/5/0026_02.jpg:1',\n  'dataset/train/2/0023_03.jpg:1',\n  'dataset/train/2/0026_02.jpg:1',\n  'dataset/validation/1/0014_02.jpg:1',\n  'dataset/train/5/0024_01.jpg:1',\n  'dataset/train/3/0009_01.jpg:1',\n  'dataset/train/5/0023_01.jpg:1',\n  'dataset/train/4/0009_01.jpg:1',\n  'dataset/train/3/0027_01.jpg:1',\n  'dataset/train/1/0028_01.jpg:1',\n  'dataset/train/1/0027_01.jpg:1',\n  'dataset/train/5/0009_01.jpg:1',\n  'dataset/train/5/0005_01.jpg:1',\n  'dataset/train/4/0006_01.jpg:1',\n  'dataset/train/3/0022_02.jpg:1',\n  'dataset/train/3/0021_02.jpg:1',\n  'dataset/train/5/0006_01.jpg:1',\n  'dataset/train/2/0024_01.jpg:1',\n  'dataset/train/2/0028_01.jpg:1',\n  'dataset/train/5/0020_01.jpg:1',\n  'dataset/train/3/0023_01.jpg:1',\n  'dataset/train/2/0007_02.jpg:1',\n  'dataset/train/4/0007_02.jpg:1',\n  'dataset/train/4/0023_01.jpg:1',\n  'dataset/train/4/0020_01.jpg:1',\n  'dataset/train/4/0028_01.jpg:1',\n  'dataset/train/1/0012_01.jpg:1',\n  'dataset/train/3/0012_01.jpg:1',\n  'dataset/train/4/0012_01.jpg:1',\n  'dataset/train/1/0030_01.jpg:1',\n  'dataset/train/1/0005_01.jpg:1',\n  'dataset/train/3/0005_01.jpg:1',\n  'dataset/train/1/0016_01.jpg:1',\n  'dataset/train/4/0005_01.jpg:1',\n  'dataset/train/1/0023_01.jpg:1',\n  'dataset/train/5/0026_04.jpg:1',\n  'dataset/train/2/0016_01.jpg:1',\n  'dataset/train/2/0012_01.jpg:1',\n  'dataset/train/1/0033_04.jpg:1',\n  'dataset/train/2/0009_01.jpg:1',\n  'dataset/train/1/0009_01.jpg:1',\n  'dataset/train/4/0024_03.jpg:1']}"
     },
     "metadata": {},
     "execution_count": 6
    }
   ],
   "source": [
    "# Upload input files and create a new file set on the fly\n",
    "input_dir = os.path.join(workspace, 'demo/dataset/train/')\n",
    "File.convert_to_file_mapping([input_dir], 'dataset/')\\\n",
    "    .files_to_upload\\\n",
    "    .upload()\\\n",
    "    .as_new_file_set('train_dataset')"
   ]
  },
  {
   "cell_type": "code",
   "execution_count": 4,
   "metadata": {
    "tags": []
   },
   "outputs": [
    {
     "output_type": "stream",
     "name": "stdout",
     "text": "Running request: 192.168.1.72 7445 storage list_directory\nGET query {\"directory_path\": \"/\", \"token\": \"qjbYDwKhg8l4OzJymKGy2ruHOodiFgsg\"}\n"
    },
    {
     "output_type": "execute_result",
     "data": {
      "text/plain": "[{'path': 'eval_script.zip', 'version': 1, 'dir': False, 'is_dir': False},\n {'path': 'train_scripts.zip', 'version': 1, 'dir': False, 'is_dir': False},\n {'path': 'Shakespeare', 'version': -1, 'dir': True, 'is_dir': True},\n {'path': 'dataset', 'version': -1, 'dir': True, 'is_dir': True},\n {'path': 'wordcount.zip', 'version': 1, 'dir': False, 'is_dir': False}]"
     },
     "metadata": {},
     "execution_count": 4
    }
   ],
   "source": [
    "# You can inspect the uploaded files\n",
    "File.list_dir('/')"
   ]
  },
  {
   "cell_type": "code",
   "execution_count": 15,
   "metadata": {},
   "outputs": [],
   "source": [
    "# Run a profiling job\n",
    "job_setting = {\n",
    "    \"command_template\": \"python3 train.py --output_folder ./my_output/train_out/ \"\n",
    "               \"--train_data ./dataset/train/ \"\n",
    "               \"--dev_data ./dataset/validation/ \"\n",
    "               \"--epoch {1,2,5}\",\n",
    "    \"container_image\": \"pytorch/pytorch\",\n",
    "    'input_file_set': 'train_dataset',\n",
    "    'code': 'train_scripts.zip',\n",
    "    'name': 'profiling_test'\n",
    "}\n",
    "\n",
    "result = {}\n",
    "j = ProfilingJob().with_attributes(job_setting)"
   ]
  },
  {
   "cell_type": "code",
   "execution_count": 16,
   "metadata": {
    "tags": []
   },
   "outputs": [
    {
     "output_type": "stream",
     "name": "stdout",
     "text": "Running request: 192.168.1.72 7445 profiler register_template\nPOST data {\"name\": \"profiling_test\", \"input_file_set\": \"train_dataset\", \"code\": \"train_scripts.zip\", \"command_template\": \"python3 train.py --output_folder ./my_output/train_out/ --train_data ./dataset/train/ --dev_data ./dataset/validation/ --epoch {1,2,5}\", \"container_image\": \"pytorch/pytorch\", \"token\": \"qjbYDwKhg8l4OzJymKGy2ruHOodiFgsg\"}\n{'id': 8, 'name': 'profiling_test', 'code': 'train_scripts.zip', 'allOptionsSer': '[[1,2,5]]', 'state': 'submitted', 'input_file_set': 'train_dataset', 'command_template': 'python3 train.py --output_folder ./my_output/train_out/ --train_data ./dataset/train/ --dev_data ./dataset/validation/ --epoch %d', 'memory_space': [2048], 'cpu_space': [0.5], 'user_id': 9, 'project_id': 'auto_provisioner', 'container_image': 'pytorch/pytorch', 'model_name': None, 'model_id': None, 'spawned_jobs': 0}\n"
    },
    {
     "output_type": "execute_result",
     "data": {
      "text/plain": "{'id': 8,\n 'name': 'profiling_test',\n 'code': 'train_scripts.zip',\n 'allOptionsSer': '[[1,2,5]]',\n 'state': 'submitted',\n 'input_file_set': 'train_dataset',\n 'command_template': 'python3 train.py --output_folder ./my_output/train_out/ --train_data ./dataset/train/ --dev_data ./dataset/validation/ --epoch %d',\n 'memory_space': [2048],\n 'cpu_space': [0.5],\n 'user_id': 9,\n 'project_id': 'auto_provisioner',\n 'container_image': 'pytorch/pytorch',\n 'model_name': None,\n 'model_id': None,\n 'spawned_jobs': 0}"
     },
     "metadata": {},
     "execution_count": 16
    }
   ],
   "source": [
    "j.profile(result)"
   ]
  },
  {
   "cell_type": "code",
   "execution_count": 21,
   "metadata": {},
   "outputs": [],
   "source": [
    "# Run a job\n",
    "job_setting = {\n",
    "    'template_id': j.id,\n",
    "    'output_path': './my_output/train_out/',\n",
    "    'output_file_set': 'ap_test_fileset',\n",
    "    'optimize': 'cost',\n",
    "    'parameters': [3], # for 3 epochs, match the above profiling request command template\n",
    "    'max_time': 10, # in mins\n",
    "    'max_cost': 100, # in custom unit\n",
    "    'description': 'autoprovision job: count some words from Shakespeare works',\n",
    "    'name': 'autoprovision_job'\n",
    "}\n",
    "\n",
    "ap = AutoProvisioner().with_attributes(job_setting)"
   ]
  },
  {
   "cell_type": "code",
   "execution_count": 24,
   "metadata": {
    "tags": []
   },
   "outputs": [
    {
     "output_type": "stream",
     "name": "stdout",
     "text": "Running request: 192.168.1.72 7445 auto_provisioner new_job\nPOST data {\"name\": \"autoprovision_job\", \"description\": \"autoprovision job: count some words from Shakespeare works\", \"template_id\": 8, \"parameters\": [3], \"output_path\": \"./my_output/train_out/\", \"output_file_set\": \"ap_test_fileset\", \"max_time\": 10, \"max_cost\": 100, \"optimize\": \"cost\", \"token\": \"qjbYDwKhg8l4OzJymKGy2ruHOodiFgsg\"}\n{'success': True, 'submission': {'status': {'message': 'launching'}, 'job': {'name': 'autoprovision_job', 'code': 'train_scripts.zip', 'command': 'python3 train.py --output_folder ./my_output/train_out/ --train_data ./dataset/train/ --dev_data ./dataset/validation/ --epoch 3', 'description': 'autoprovision job: count some words from Shakespeare works', 'gpu': '0', 'memory': '256Mi', 'hidden': False, 'type': 'AUTOPROVISION', 'vcpu': '0.5', 'id': 67, 'input_file_set': 'train_dataset', 'output_path': None, 'user_id': 9, 'project_id': 'auto_provisioner', 'container_image': 'pytorch/pytorch', 'v_cpu': '0.5', 'output_file_set': 'ap_test_fileset', 'submitted_time': '2020-09-28T15:16:33.194+0000'}}, 'expected_time': 0.13275889384002393, 'expected_cost': 0.013435200056610423}\n"
    },
    {
     "output_type": "execute_result",
     "data": {
      "text/plain": "True"
     },
     "metadata": {},
     "execution_count": 24
    }
   ],
   "source": [
    "ap.provision()"
   ]
  },
  {
   "cell_type": "code",
   "execution_count": 25,
   "metadata": {},
   "outputs": [],
   "source": [
    "# Get the job launched by auto provisioner\n",
    "j = ap.job"
   ]
  },
  {
   "cell_type": "code",
   "execution_count": 29,
   "metadata": {
    "tags": []
   },
   "outputs": [
    {
     "output_type": "execute_result",
     "data": {
      "text/plain": "{'code': 'train_scripts.zip',\n 'command': 'python3 train.py --output_folder ./my_output/train_out/ '\n            '--train_data ./dataset/train/ --dev_data ./dataset/validation/ '\n            '--epoch 3',\n 'container_image': 'pytorch/pytorch',\n 'description': 'autoprovision job: count some words from Shakespeare works',\n 'gpu': '0',\n 'id': 67,\n 'input_file_set': 'train_dataset',\n 'job_status': <JobStatus.FINISHED: 6>,\n 'memory': '256Mi',\n 'name': 'autoprovision_job',\n 'output_file_set': 'ap_test_fileset',\n 'output_path': None,\n 'registered': False,\n 'submitted': False,\n 'submitted_time': '2020-09-28T15:16:33.194+0000',\n 'v_cpu': '0.5'}"
     },
     "metadata": {},
     "execution_count": 29
    }
   ],
   "source": [
    "# Let's have a look at the resource config given by the auto-provisioner\n",
    "j"
   ]
  },
  {
   "cell_type": "code",
   "execution_count": null,
   "metadata": {},
   "outputs": [],
   "source": []
  }
 ],
 "metadata": {
  "kernelspec": {
   "display_name": "Python 3",
   "language": "python",
   "name": "python3"
  },
  "language_info": {
   "codemirror_mode": {
    "name": "ipython",
    "version": 3
   },
   "file_extension": ".py",
   "mimetype": "text/x-python",
   "name": "python",
   "nbconvert_exporter": "python",
   "pygments_lexer": "ipython3",
   "version": "3.6.8-final"
  }
 },
 "nbformat": 4,
 "nbformat_minor": 2
}
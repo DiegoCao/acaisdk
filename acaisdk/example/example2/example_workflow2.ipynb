{
 "cells": [
  {
   "cell_type": "code",
   "execution_count": 1,
   "metadata": {},
   "outputs": [],
   "source": [
    "import os\n",
    "import sys\n",
    "sys.path.append(os.path.dirname(os.path.realpath('__file__')) + '/../../../')\n",
    "from acaisdk.file import File\n",
    "from acaisdk.project import Project\n",
    "from acaisdk.fileset import FileSet\n",
    "from acaisdk.job import Job, JobStatus\n",
    "from acaisdk.meta import *\n",
    "from acaisdk.utils import utils\n",
    "from acaisdk import credentials\n",
    "\n",
    "workspace = os.path.dirname(os.path.realpath('__file__'))\n",
    "utils.DEBUG = True  # print debug messages. Calls are successful as long as no exception is thrown."
   ]
  },
  {
   "cell_type": "code",
   "execution_count": null,
   "metadata": {},
   "outputs": [],
   "source": [
    "# Make your changes here\n",
    "project_id = \"AnotherAwesomeProject\"\n",
    "root_token = 'Ask sys guys for the root token'\n",
    "project_admin = 'allen'\n",
    "user = 'albert'"
   ]
  },
  {
   "cell_type": "code",
   "execution_count": null,
   "metadata": {},
   "outputs": [],
   "source": [
    "# Create project and user\n",
    "r = Project.create_project(project_id, root_token, project_admin)\n",
    "r = Project.create_user(project_id, r['project_admin_token'], user)  # the new user is logged in automatically."
   ]
  },
  {
   "cell_type": "code",
   "execution_count": null,
   "metadata": {},
   "outputs": [],
   "source": [
    "# You can take note of the new token\n",
    "token = r['user_token']\n",
    "print(token)"
   ]
  },
  {
   "cell_type": "code",
   "execution_count": 2,
   "metadata": {},
   "outputs": [],
   "source": [
    "# Next time you can use the token to login:\n",
    "credentials.login('qjbYDwKhg8l4OzJymKGy2ruHOodiFgsg')"
   ]
  },
  {
   "cell_type": "code",
   "execution_count": 24,
   "metadata": {
    "tags": []
   },
   "outputs": [
    {
     "output_type": "stream",
     "name": "stdout",
     "text": "Running request: 192.168.1.72 7445 storage start_file_upload_session\nPOST data {\"paths\": [\"train_scripts.zip\"], \"token\": \"qjbYDwKhg8l4OzJymKGy2ruHOodiFgsg\"}\n[('/Users/mxin/Desktop/cmu/2020fall/11632-capstone/acai_repos_new/acaisdk/acaisdk/example/example2/demo/train_scripts.zip', 'train_scripts.zip')]\nr =  <Response [200]>\nUploaded /Users/mxin/Desktop/cmu/2020fall/11632-capstone/acai_repos_new/acaisdk/acaisdk/example/example2/demo/train_scripts.zip to train_scripts.zip\nRunning request: 192.168.1.72 7445 storage poll_file_upload_session\nGET query {\"session_id\": 250, \"token\": \"qjbYDwKhg8l4OzJymKGy2ruHOodiFgsg\"}\nRunning request: 192.168.1.72 7445 storage poll_file_upload_session\nGET query {\"session_id\": 250, \"token\": \"qjbYDwKhg8l4OzJymKGy2ruHOodiFgsg\"}\nRunning request: 192.168.1.72 7445 storage poll_file_upload_session\nGET query {\"session_id\": 250, \"token\": \"qjbYDwKhg8l4OzJymKGy2ruHOodiFgsg\"}\nRunning request: 192.168.1.72 7445 storage finish_file_upload_session\nPOST data {\"session_id\": 250, \"token\": \"qjbYDwKhg8l4OzJymKGy2ruHOodiFgsg\"}\n"
    },
    {
     "output_type": "execute_result",
     "data": {
      "text/plain": "[('/Users/mxin/Desktop/cmu/2020fall/11632-capstone/acai_repos_new/acaisdk/acaisdk/example/example2/demo/train_scripts.zip',\n  'train_scripts.zip:9')]"
     },
     "metadata": {},
     "execution_count": 24
    }
   ],
   "source": [
    "# Upload code\n",
    "train_code = os.path.join(workspace, 'demo/train_scripts.zip')\n",
    "# eval_code = os.path.join(workspace, 'demo/eval_script.zip')\n",
    "File.upload({train_code: 'train_scripts.zip',\n",
    "            #  eval_code: 'eval_script.zip'\n",
    "            })"
   ]
  },
  {
   "cell_type": "code",
   "execution_count": 10,
   "metadata": {
    "tags": []
   },
   "outputs": [
    {
     "output_type": "stream",
     "name": "stdout",
     "text": "Running request: 192.168.1.72 7445 storage list_directory\nGET query {\"directory_path\": \"/\", \"token\": \"qjbYDwKhg8l4OzJymKGy2ruHOodiFgsg\"}\n"
    },
    {
     "output_type": "execute_result",
     "data": {
      "text/plain": "[{'path': 'eval_script.zip', 'version': 2, 'dir': False, 'is_dir': False},\n {'path': 'train_scripts.zip', 'version': 2, 'dir': False, 'is_dir': False},\n {'path': 'Shakespeare', 'version': -1, 'dir': True, 'is_dir': True},\n {'path': 'dataset', 'version': -1, 'dir': True, 'is_dir': True},\n {'path': 'wordcount.zip', 'version': 1, 'dir': False, 'is_dir': False}]"
     },
     "metadata": {},
     "execution_count": 10
    }
   ],
   "source": [
    "# You can inspect the uploaded files\n",
    "File.list_dir('/')"
   ]
  },
  {
   "cell_type": "code",
   "execution_count": 26,
   "metadata": {
    "tags": [
     "outputPrepend"
    ]
   },
   "outputs": [
    {
     "output_type": "stream",
     "name": "stdout",
     "text": " [200]>\nUploaded /Users/mxin/Desktop/cmu/2020fall/11632-capstone/acai_repos_new/acaisdk/acaisdk/example/example2/demo/dataset/train/train/2/0009_01.jpg to dataset/train/2/0009_01.jpg\nr =  <Response [200]>\nUploaded /Users/mxin/Desktop/cmu/2020fall/11632-capstone/acai_repos_new/acaisdk/acaisdk/example/example2/demo/dataset/train/train/2/0021_01.jpg to dataset/train/2/0021_01.jpg\nr =  <Response [200]>\nUploaded /Users/mxin/Desktop/cmu/2020fall/11632-capstone/acai_repos_new/acaisdk/acaisdk/example/example2/demo/dataset/train/train/2/0005_02.jpg to dataset/train/2/0005_02.jpg\nr =  <Response [200]>\nUploaded /Users/mxin/Desktop/cmu/2020fall/11632-capstone/acai_repos_new/acaisdk/acaisdk/example/example2/demo/dataset/train/train/2/0017_02.jpg to dataset/train/2/0017_02.jpg\nr =  <Response [200]>\nUploaded /Users/mxin/Desktop/cmu/2020fall/11632-capstone/acai_repos_new/acaisdk/acaisdk/example/example2/demo/dataset/train/train/2/0033_02.jpg to dataset/train/2/0033_02.jpg\nr =  <Response [200]>\nUploaded /Users/mxin/Desktop/cmu/2020fall/11632-capstone/acai_repos_new/acaisdk/acaisdk/example/example2/demo/dataset/train/train/2/0012_01.jpg to dataset/train/2/0012_01.jpg\nr =  <Response [200]>\nUploaded /Users/mxin/Desktop/cmu/2020fall/11632-capstone/acai_repos_new/acaisdk/acaisdk/example/example2/demo/dataset/train/train/2/0028_01.jpg to dataset/train/2/0028_01.jpg\nr =  <Response [200]>\nUploaded /Users/mxin/Desktop/cmu/2020fall/11632-capstone/acai_repos_new/acaisdk/acaisdk/example/example2/demo/dataset/train/train/2/0024_01.jpg to dataset/train/2/0024_01.jpg\nr =  <Response [200]>\nUploaded /Users/mxin/Desktop/cmu/2020fall/11632-capstone/acai_repos_new/acaisdk/acaisdk/example/example2/demo/dataset/train/train/2/0002_01.jpg to dataset/train/2/0002_01.jpg\nr =  <Response [200]>\nUploaded /Users/mxin/Desktop/cmu/2020fall/11632-capstone/acai_repos_new/acaisdk/acaisdk/example/example2/demo/dataset/train/train/2/0010_01.jpg to dataset/train/2/0010_01.jpg\nr =  <Response [200]>\nUploaded /Users/mxin/Desktop/cmu/2020fall/11632-capstone/acai_repos_new/acaisdk/acaisdk/example/example2/demo/dataset/train/train/2/0002_02.jpg to dataset/train/2/0002_02.jpg\nr =  <Response [200]>\nUploaded /Users/mxin/Desktop/cmu/2020fall/11632-capstone/acai_repos_new/acaisdk/acaisdk/example/example2/demo/dataset/train/train/2/0026_02.jpg to dataset/train/2/0026_02.jpg\nr =  <Response [200]>\nUploaded /Users/mxin/Desktop/cmu/2020fall/11632-capstone/acai_repos_new/acaisdk/acaisdk/example/example2/demo/dataset/train/train/2/0030_01.jpg to dataset/train/2/0030_01.jpg\nr =  <Response [200]>\nUploaded /Users/mxin/Desktop/cmu/2020fall/11632-capstone/acai_repos_new/acaisdk/acaisdk/example/example2/demo/dataset/train/train/2/0022_01.jpg to dataset/train/2/0022_01.jpg\nr =  <Response [200]>\nUploaded /Users/mxin/Desktop/cmu/2020fall/11632-capstone/acai_repos_new/acaisdk/acaisdk/example/example2/demo/dataset/train/train/2/0014_01.jpg to dataset/train/2/0014_01.jpg\nr =  <Response [200]>\nUploaded /Users/mxin/Desktop/cmu/2020fall/11632-capstone/acai_repos_new/acaisdk/acaisdk/example/example2/demo/dataset/train/train/2/0018_01.jpg to dataset/train/2/0018_01.jpg\nr =  <Response [200]>\nUploaded /Users/mxin/Desktop/cmu/2020fall/11632-capstone/acai_repos_new/acaisdk/acaisdk/example/example2/demo/dataset/train/train/2/0006_02.jpg to dataset/train/2/0006_02.jpg\nr =  <Response [200]>\nUploaded /Users/mxin/Desktop/cmu/2020fall/11632-capstone/acai_repos_new/acaisdk/acaisdk/example/example2/demo/dataset/train/train/2/0032_02.jpg to dataset/train/2/0032_02.jpg\nr =  <Response [200]>\nUploaded /Users/mxin/Desktop/cmu/2020fall/11632-capstone/acai_repos_new/acaisdk/acaisdk/example/example2/demo/dataset/train/train/2/0020_01.jpg to dataset/train/2/0020_01.jpg\nr =  <Response [200]>\nUploaded /Users/mxin/Desktop/cmu/2020fall/11632-capstone/acai_repos_new/acaisdk/acaisdk/example/example2/demo/dataset/train/train/2/0032_01.jpg to dataset/train/2/0032_01.jpg\nr =  <Response [200]>\nUploaded /Users/mxin/Desktop/cmu/2020fall/11632-capstone/acai_repos_new/acaisdk/acaisdk/example/example2/demo/dataset/train/train/2/0004_01.jpg to dataset/train/2/0004_01.jpg\nr =  <Response [200]>\nUploaded /Users/mxin/Desktop/cmu/2020fall/11632-capstone/acai_repos_new/acaisdk/acaisdk/example/example2/demo/dataset/train/train/2/0016_01.jpg to dataset/train/2/0016_01.jpg\nr =  <Response [200]>\nUploaded /Users/mxin/Desktop/cmu/2020fall/11632-capstone/acai_repos_new/acaisdk/acaisdk/example/example2/demo/dataset/train/train/2/0008_01.jpg to dataset/train/2/0008_01.jpg\nr =  <Response [200]>\nUploaded /Users/mxin/Desktop/cmu/2020fall/11632-capstone/acai_repos_new/acaisdk/acaisdk/example/example2/demo/dataset/train/train/5/0025_01.jpg to dataset/train/5/0025_01.jpg\nr =  <Response [200]>\nUploaded /Users/mxin/Desktop/cmu/2020fall/11632-capstone/acai_repos_new/acaisdk/acaisdk/example/example2/demo/dataset/train/train/5/0013_01.jpg to dataset/train/5/0013_01.jpg\nr =  <Response [200]>\nUploaded /Users/mxin/Desktop/cmu/2020fall/11632-capstone/acai_repos_new/acaisdk/acaisdk/example/example2/demo/dataset/train/train/5/0025_02.jpg to dataset/train/5/0025_02.jpg\nr =  <Response [200]>\nUploaded /Users/mxin/Desktop/cmu/2020fall/11632-capstone/acai_repos_new/acaisdk/acaisdk/example/example2/demo/dataset/train/train/5/0025_04.jpg to dataset/train/5/0025_04.jpg\nr =  <Response [200]>\nUploaded /Users/mxin/Desktop/cmu/2020fall/11632-capstone/acai_repos_new/acaisdk/acaisdk/example/example2/demo/dataset/train/train/5/0003_01.jpg to dataset/train/5/0003_01.jpg\nr =  <Response [200]>\nUploaded /Users/mxin/Desktop/cmu/2020fall/11632-capstone/acai_repos_new/acaisdk/acaisdk/example/example2/demo/dataset/train/train/5/0011_01.jpg to dataset/train/5/0011_01.jpg\nr =  <Response [200]>\nUploaded /Users/mxin/Desktop/cmu/2020fall/11632-capstone/acai_repos_new/acaisdk/acaisdk/example/example2/demo/dataset/train/train/5/0015_01.jpg to dataset/train/5/0015_01.jpg\nr =  <Response [200]>\nUploaded /Users/mxin/Desktop/cmu/2020fall/11632-capstone/acai_repos_new/acaisdk/acaisdk/example/example2/demo/dataset/train/train/5/0007_01.jpg to dataset/train/5/0007_01.jpg\nr =  <Response [200]>\nUploaded /Users/mxin/Desktop/cmu/2020fall/11632-capstone/acai_repos_new/acaisdk/acaisdk/example/example2/demo/dataset/train/train/5/0019_01.jpg to dataset/train/5/0019_01.jpg\nr =  <Response [200]>\nUploaded /Users/mxin/Desktop/cmu/2020fall/11632-capstone/acai_repos_new/acaisdk/acaisdk/example/example2/demo/dataset/train/train/5/0023_01.jpg to dataset/train/5/0023_01.jpg\nr =  <Response [200]>\nUploaded /Users/mxin/Desktop/cmu/2020fall/11632-capstone/acai_repos_new/acaisdk/acaisdk/example/example2/demo/dataset/train/train/5/0005_01.jpg to dataset/train/5/0005_01.jpg\nr =  <Response [200]>\nUploaded /Users/mxin/Desktop/cmu/2020fall/11632-capstone/acai_repos_new/acaisdk/acaisdk/example/example2/demo/dataset/train/train/5/0009_01.jpg to dataset/train/5/0009_01.jpg\nr =  <Response [200]>\nUploaded /Users/mxin/Desktop/cmu/2020fall/11632-capstone/acai_repos_new/acaisdk/acaisdk/example/example2/demo/dataset/train/train/5/0026_09.jpg to dataset/train/5/0026_09.jpg\nr =  <Response [200]>\nUploaded /Users/mxin/Desktop/cmu/2020fall/11632-capstone/acai_repos_new/acaisdk/acaisdk/example/example2/demo/dataset/train/train/5/0017_01.jpg to dataset/train/5/0017_01.jpg\nr =  <Response [200]>\nUploaded /Users/mxin/Desktop/cmu/2020fall/11632-capstone/acai_repos_new/acaisdk/acaisdk/example/example2/demo/dataset/train/train/5/0021_01.jpg to dataset/train/5/0021_01.jpg\nr =  <Response [200]>\nUploaded /Users/mxin/Desktop/cmu/2020fall/11632-capstone/acai_repos_new/acaisdk/acaisdk/example/example2/demo/dataset/train/train/5/0026_08.jpg to dataset/train/5/0026_08.jpg\nr =  <Response [200]>\nUploaded /Users/mxin/Desktop/cmu/2020fall/11632-capstone/acai_repos_new/acaisdk/acaisdk/example/example2/demo/dataset/train/train/5/0026_06.jpg to dataset/train/5/0026_06.jpg\nr =  <Response [200]>\nUploaded /Users/mxin/Desktop/cmu/2020fall/11632-capstone/acai_repos_new/acaisdk/acaisdk/example/example2/demo/dataset/train/train/5/0012_01.jpg to dataset/train/5/0012_01.jpg\nr =  <Response [200]>\nUploaded /Users/mxin/Desktop/cmu/2020fall/11632-capstone/acai_repos_new/acaisdk/acaisdk/example/example2/demo/dataset/train/train/5/0026_05.jpg to dataset/train/5/0026_05.jpg\nr =  <Response [200]>\nUploaded /Users/mxin/Desktop/cmu/2020fall/11632-capstone/acai_repos_new/acaisdk/acaisdk/example/example2/demo/dataset/train/train/5/0026_04.jpg to dataset/train/5/0026_04.jpg\nr =  <Response [200]>\nUploaded /Users/mxin/Desktop/cmu/2020fall/11632-capstone/acai_repos_new/acaisdk/acaisdk/example/example2/demo/dataset/train/train/5/0024_01.jpg to dataset/train/5/0024_01.jpg\nr =  <Response [200]>\nUploaded /Users/mxin/Desktop/cmu/2020fall/11632-capstone/acai_repos_new/acaisdk/acaisdk/example/example2/demo/dataset/train/train/5/0002_01.jpg to dataset/train/5/0002_01.jpg\nr =  <Response [200]>\nUploaded /Users/mxin/Desktop/cmu/2020fall/11632-capstone/acai_repos_new/acaisdk/acaisdk/example/example2/demo/dataset/train/train/5/0010_01.jpg to dataset/train/5/0010_01.jpg\nr =  <Response [200]>\nUploaded /Users/mxin/Desktop/cmu/2020fall/11632-capstone/acai_repos_new/acaisdk/acaisdk/example/example2/demo/dataset/train/train/5/0026_01.jpg to dataset/train/5/0026_01.jpg\nr =  <Response [200]>\nUploaded /Users/mxin/Desktop/cmu/2020fall/11632-capstone/acai_repos_new/acaisdk/acaisdk/example/example2/demo/dataset/train/train/5/0026_03.jpg to dataset/train/5/0026_03.jpg\nr =  <Response [200]>\nUploaded /Users/mxin/Desktop/cmu/2020fall/11632-capstone/acai_repos_new/acaisdk/acaisdk/example/example2/demo/dataset/train/train/5/0026_02.jpg to dataset/train/5/0026_02.jpg\nr =  <Response [200]>\nUploaded /Users/mxin/Desktop/cmu/2020fall/11632-capstone/acai_repos_new/acaisdk/acaisdk/example/example2/demo/dataset/train/train/5/0022_01.jpg to dataset/train/5/0022_01.jpg\nr =  <Response [200]>\nUploaded /Users/mxin/Desktop/cmu/2020fall/11632-capstone/acai_repos_new/acaisdk/acaisdk/example/example2/demo/dataset/train/train/5/0014_01.jpg to dataset/train/5/0014_01.jpg\nr =  <Response [200]>\nUploaded /Users/mxin/Desktop/cmu/2020fall/11632-capstone/acai_repos_new/acaisdk/acaisdk/example/example2/demo/dataset/train/train/5/0018_01.jpg to dataset/train/5/0018_01.jpg\nr =  <Response [200]>\nUploaded /Users/mxin/Desktop/cmu/2020fall/11632-capstone/acai_repos_new/acaisdk/acaisdk/example/example2/demo/dataset/train/train/5/0006_01.jpg to dataset/train/5/0006_01.jpg\nr =  <Response [200]>\nUploaded /Users/mxin/Desktop/cmu/2020fall/11632-capstone/acai_repos_new/acaisdk/acaisdk/example/example2/demo/dataset/train/train/5/0016_02.jpg to dataset/train/5/0016_02.jpg\nr =  <Response [200]>\nUploaded /Users/mxin/Desktop/cmu/2020fall/11632-capstone/acai_repos_new/acaisdk/acaisdk/example/example2/demo/dataset/train/train/5/0020_01.jpg to dataset/train/5/0020_01.jpg\nr =  <Response [200]>\nUploaded /Users/mxin/Desktop/cmu/2020fall/11632-capstone/acai_repos_new/acaisdk/acaisdk/example/example2/demo/dataset/train/train/5/0004_01.jpg to dataset/train/5/0004_01.jpg\nr =  <Response [200]>\nUploaded /Users/mxin/Desktop/cmu/2020fall/11632-capstone/acai_repos_new/acaisdk/acaisdk/example/example2/demo/dataset/train/train/5/0008_01.jpg to dataset/train/5/0008_01.jpg\nr =  <Response [200]>\nUploaded /Users/mxin/Desktop/cmu/2020fall/11632-capstone/acai_repos_new/acaisdk/acaisdk/example/example2/demo/dataset/train/validation/1/0419_01.jpg to dataset/validation/1/0419_01.jpg\nr =  <Response [200]>\nUploaded /Users/mxin/Desktop/cmu/2020fall/11632-capstone/acai_repos_new/acaisdk/acaisdk/example/example2/demo/dataset/train/validation/1/0014_02.jpg to dataset/validation/1/0014_02.jpg\nr =  <Response [200]>\nUploaded /Users/mxin/Desktop/cmu/2020fall/11632-capstone/acai_repos_new/acaisdk/acaisdk/example/example2/demo/dataset/train/validation/4/0123_03.jpg to dataset/validation/4/0123_03.jpg\nr =  <Response [200]>\nUploaded /Users/mxin/Desktop/cmu/2020fall/11632-capstone/acai_repos_new/acaisdk/acaisdk/example/example2/demo/dataset/train/validation/4/0033_01.jpg to dataset/validation/4/0033_01.jpg\nr =  <Response [200]>\nUploaded /Users/mxin/Desktop/cmu/2020fall/11632-capstone/acai_repos_new/acaisdk/acaisdk/example/example2/demo/dataset/train/validation/3/0101_01.jpg to dataset/validation/3/0101_01.jpg\nr =  <Response [200]>\nUploaded /Users/mxin/Desktop/cmu/2020fall/11632-capstone/acai_repos_new/acaisdk/acaisdk/example/example2/demo/dataset/train/validation/3/0176_01.jpg to dataset/validation/3/0176_01.jpg\nr =  <Response [200]>\nUploaded /Users/mxin/Desktop/cmu/2020fall/11632-capstone/acai_repos_new/acaisdk/acaisdk/example/example2/demo/dataset/train/validation/2/0101_01.jpg to dataset/validation/2/0101_01.jpg\nr =  <Response [200]>\nUploaded /Users/mxin/Desktop/cmu/2020fall/11632-capstone/acai_repos_new/acaisdk/acaisdk/example/example2/demo/dataset/train/validation/2/0176_01.jpg to dataset/validation/2/0176_01.jpg\nr =  <Response [200]>\nUploaded /Users/mxin/Desktop/cmu/2020fall/11632-capstone/acai_repos_new/acaisdk/acaisdk/example/example2/demo/dataset/train/validation/5/0101_01.jpg to dataset/validation/5/0101_01.jpg\nr =  <Response [200]>\nUploaded /Users/mxin/Desktop/cmu/2020fall/11632-capstone/acai_repos_new/acaisdk/acaisdk/example/example2/demo/dataset/train/validation/5/0033_01.jpg to dataset/validation/5/0033_01.jpg\nRunning request: 192.168.1.72 7445 storage poll_file_upload_session\nGET query {\"session_id\": 431, \"token\": \"qjbYDwKhg8l4OzJymKGy2ruHOodiFgsg\"}\nRunning request: 192.168.1.72 7445 storage poll_file_upload_session\nGET query {\"session_id\": 431, \"token\": \"qjbYDwKhg8l4OzJymKGy2ruHOodiFgsg\"}\nRunning request: 192.168.1.72 7445 storage poll_file_upload_session\nGET query {\"session_id\": 431, \"token\": \"qjbYDwKhg8l4OzJymKGy2ruHOodiFgsg\"}\nRunning request: 192.168.1.72 7445 storage finish_file_upload_session\nPOST data {\"session_id\": 431, \"token\": \"qjbYDwKhg8l4OzJymKGy2ruHOodiFgsg\"}\nRunning request: 192.168.1.72 7445 storage create_file_set\nPOST data {\"name\": \"train_dataset\", \"files\": [\"dataset/validation/5/0033_01.jpg:2\", \"dataset/validation/5/0101_01.jpg:2\", \"dataset/validation/2/0101_01.jpg:2\", \"dataset/validation/2/0176_01.jpg:2\", \"dataset/validation/3/0176_01.jpg:2\", \"dataset/validation/3/0101_01.jpg:2\", \"dataset/validation/4/0033_01.jpg:2\", \"dataset/validation/4/0123_03.jpg:2\", \"dataset/validation/1/0014_02.jpg:2\", \"dataset/validation/1/0419_01.jpg:2\", \"dataset/train/5/0008_01.jpg:2\", \"dataset/train/5/0004_01.jpg:2\", \"dataset/train/5/0020_01.jpg:2\", \"dataset/train/5/0016_02.jpg:2\", \"dataset/train/5/0006_01.jpg:2\", \"dataset/train/5/0018_01.jpg:2\", \"dataset/train/5/0014_01.jpg:2\", \"dataset/train/5/0022_01.jpg:2\", \"dataset/train/5/0026_02.jpg:2\", \"dataset/train/5/0026_03.jpg:2\", \"dataset/train/5/0026_01.jpg:2\", \"dataset/train/5/0010_01.jpg:2\", \"dataset/train/5/0002_01.jpg:2\", \"dataset/train/5/0024_01.jpg:2\", \"dataset/train/5/0026_04.jpg:2\", \"dataset/train/5/0026_05.jpg:2\", \"dataset/train/5/0012_01.jpg:2\", \"dataset/train/5/0026_06.jpg:2\", \"dataset/train/5/0026_08.jpg:2\", \"dataset/train/5/0021_01.jpg:2\", \"dataset/train/5/0017_01.jpg:2\", \"dataset/train/5/0026_09.jpg:2\", \"dataset/train/5/0009_01.jpg:2\", \"dataset/train/5/0005_01.jpg:2\", \"dataset/train/5/0023_01.jpg:2\", \"dataset/train/5/0019_01.jpg:2\", \"dataset/train/5/0007_01.jpg:2\", \"dataset/train/5/0015_01.jpg:2\", \"dataset/train/5/0011_01.jpg:2\", \"dataset/train/5/0003_01.jpg:2\", \"dataset/train/5/0025_04.jpg:2\", \"dataset/train/5/0025_02.jpg:2\", \"dataset/train/5/0013_01.jpg:2\", \"dataset/train/5/0025_01.jpg:2\", \"dataset/train/2/0008_01.jpg:2\", \"dataset/train/2/0016_01.jpg:2\", \"dataset/train/2/0004_01.jpg:2\", \"dataset/train/2/0032_01.jpg:2\", \"dataset/train/2/0020_01.jpg:2\", \"dataset/train/2/0032_02.jpg:2\", \"dataset/train/2/0006_02.jpg:2\", \"dataset/train/2/0018_01.jpg:2\", \"dataset/train/2/0014_01.jpg:2\", \"dataset/train/2/0022_01.jpg:2\", \"dataset/train/2/0030_01.jpg:2\", \"dataset/train/2/0026_02.jpg:2\", \"dataset/train/2/0002_02.jpg:2\", \"dataset/train/2/0010_01.jpg:2\", \"dataset/train/2/0002_01.jpg:2\", \"dataset/train/2/0024_01.jpg:2\", \"dataset/train/2/0028_01.jpg:2\", \"dataset/train/2/0012_01.jpg:2\", \"dataset/train/2/0033_02.jpg:2\", \"dataset/train/2/0017_02.jpg:2\", \"dataset/train/2/0005_02.jpg:2\", \"dataset/train/2/0021_01.jpg:2\", \"dataset/train/2/0009_01.jpg:2\", \"dataset/train/2/0019_01.jpg:2\", \"dataset/train/2/0015_01.jpg:2\", \"dataset/train/2/0031_02.jpg:2\", \"dataset/train/2/0007_02.jpg:2\", \"dataset/train/2/0023_03.jpg:2\", \"dataset/train/2/0011_01.jpg:2\", \"dataset/train/2/0003_01.jpg:2\", \"dataset/train/2/0027_03.jpg:2\", \"dataset/train/2/0013_02.jpg:2\", \"dataset/train/2/0025_01.jpg:2\", \"dataset/train/2/0029_01.jpg:2\", \"dataset/train/3/0008_01.jpg:2\", \"dataset/train/3/0016_01.jpg:2\", \"dataset/train/3/0004_01.jpg:2\", \"dataset/train/3/0020_01.jpg:2\", \"dataset/train/3/0032_02.jpg:2\", \"dataset/train/3/0006_02.jpg:2\", \"dataset/train/3/0022_02.jpg:2\", \"dataset/train/3/0018_01.jpg:2\", \"dataset/train/3/0014_01.jpg:2\", \"dataset/train/3/0030_01.jpg:2\", \"dataset/train/3/0034_01.jpg:2\", \"dataset/train/3/0026_01.jpg:2\", \"dataset/train/3/0010_01.jpg:2\", \"dataset/train/3/0002_01.jpg:2\", \"dataset/train/3/0036_01.jpg:2\", \"dataset/train/3/0012_01.jpg:2\", \"dataset/train/3/0024_02.jpg:2\", \"dataset/train/3/0028_02.jpg:2\", \"dataset/train/3/0021_02.jpg:2\", \"dataset/train/3/0017_01.jpg:2\", \"dataset/train/3/0009_01.jpg:2\", \"dataset/train/3/0005_01.jpg:2\", \"dataset/train/3/0023_01.jpg:2\", \"dataset/train/3/0031_01.jpg:2\", \"dataset/train/3/0019_01.jpg:2\", \"dataset/train/3/0007_01.jpg:2\", \"dataset/train/3/0015_01.jpg:2\", \"dataset/train/3/0011_01.jpg:2\", \"dataset/train/3/0003_01.jpg:2\", \"dataset/train/3/0035_01.jpg:2\", \"dataset/train/3/0027_01.jpg:2\", \"dataset/train/3/0013_01.jpg:2\", \"dataset/train/3/0025_01.jpg:2\", \"dataset/train/3/0029_01.jpg:2\", \"dataset/train/4/0016_01.jpg:2\", \"dataset/train/4/0004_01.jpg:2\", \"dataset/train/4/0032_01.jpg:2\", \"dataset/train/4/0020_01.jpg:2\", \"dataset/train/4/0008_03.jpg:2\", \"dataset/train/4/0006_01.jpg:2\", \"dataset/train/4/0018_01.jpg:2\", \"dataset/train/4/0014_01.jpg:2\", \"dataset/train/4/0022_01.jpg:2\", \"dataset/train/4/0030_01.jpg:2\", \"dataset/train/4/0034_01.jpg:2\", \"dataset/train/4/0026_01.jpg:2\", \"dataset/train/4/0010_01.jpg:2\", \"dataset/train/4/0002_01.jpg:2\", \"dataset/train/4/0028_01.jpg:2\", \"dataset/train/4/0012_01.jpg:2\", \"dataset/train/4/0024_02.jpg:2\", \"dataset/train/4/0024_03.jpg:2\", \"dataset/train/4/0021_01.jpg:2\", \"dataset/train/4/0017_01.jpg:2\", \"dataset/train/4/0009_01.jpg:2\", \"dataset/train/4/0005_01.jpg:2\", \"dataset/train/4/0023_01.jpg:2\", \"dataset/train/4/0019_01.jpg:2\", \"dataset/train/4/0007_01.jpg:2\", \"dataset/train/4/0007_03.jpg:2\", \"dataset/train/4/0031_02.jpg:2\", \"dataset/train/4/0007_02.jpg:2\", \"dataset/train/4/0011_01.jpg:2\", \"dataset/train/4/0003_01.jpg:2\", \"dataset/train/4/0027_02.jpg:2\", \"dataset/train/4/0013_01.jpg:2\", \"dataset/train/4/0025_01.jpg:2\", \"dataset/train/4/0029_01.jpg:2\", \"dataset/train/1/0008_01.jpg:2\", \"dataset/train/1/0016_01.jpg:2\", \"dataset/train/1/0004_01.jpg:2\", \"dataset/train/1/0032_01.jpg:2\", \"dataset/train/1/0020_01.jpg:2\", \"dataset/train/1/0018_02.jpg:2\", \"dataset/train/1/0006_01.jpg:2\", \"dataset/train/1/0018_01.jpg:2\", \"dataset/train/1/0022_01.jpg:2\", \"dataset/train/1/0030_01.jpg:2\", \"dataset/train/1/0034_02.jpg:2\", \"dataset/train/1/0010_02.jpg:2\", \"dataset/train/1/0026_01.jpg:2\", \"dataset/train/1/0010_01.jpg:2\", \"dataset/train/1/0002_01.jpg:2\", \"dataset/train/1/0024_01.jpg:2\", \"dataset/train/1/0028_01.jpg:2\", \"dataset/train/1/0012_01.jpg:2\", \"dataset/train/1/0017_01.jpg:2\", \"dataset/train/1/0009_01.jpg:2\", \"dataset/train/1/0005_01.jpg:2\", \"dataset/train/1/0033_04.jpg:2\", \"dataset/train/1/0023_01.jpg:2\", \"dataset/train/1/0031_01.jpg:2\", \"dataset/train/1/0019_01.jpg:2\", \"dataset/train/1/0007_03.jpg:2\", \"dataset/train/1/0015_02.jpg:2\", \"dataset/train/1/0003_01.jpg:2\", \"dataset/train/1/0035_01.jpg:2\", \"dataset/train/1/0027_01.jpg:2\", \"dataset/train/1/0013_02.jpg:2\", \"dataset/train/1/0011_04.jpg:2\", \"dataset/train/1/0025_01.jpg:2\", \"dataset/train/1/0029_01.jpg:2\"], \"token\": \"qjbYDwKhg8l4OzJymKGy2ruHOodiFgsg\"}\n"
    },
    {
     "output_type": "execute_result",
     "data": {
      "text/plain": "{'id': 'train_dataset:2',\n 'files': ['dataset/train/1/0034_02.jpg:2',\n  'dataset/train/4/0031_02.jpg:2',\n  'dataset/train/3/0032_02.jpg:2',\n  'dataset/train/2/0032_02.jpg:2',\n  'dataset/train/2/0033_02.jpg:2',\n  'dataset/train/5/0026_06.jpg:2',\n  'dataset/train/4/0017_01.jpg:2',\n  'dataset/train/4/0016_01.jpg:2',\n  'dataset/train/3/0017_01.jpg:2',\n  'dataset/train/3/0018_01.jpg:2',\n  'dataset/train/2/0018_01.jpg:2',\n  'dataset/train/5/0015_01.jpg:2',\n  'dataset/train/2/0019_01.jpg:2',\n  'dataset/train/4/0018_01.jpg:2',\n  'dataset/train/3/0019_01.jpg:2',\n  'dataset/train/2/0031_02.jpg:2',\n  'dataset/train/4/0014_01.jpg:2',\n  'dataset/train/3/0015_01.jpg:2',\n  'dataset/train/3/0016_01.jpg:2',\n  'dataset/train/5/0019_01.jpg:2',\n  'dataset/train/5/0012_01.jpg:2',\n  'dataset/train/4/0013_01.jpg:2',\n  'dataset/train/4/0019_01.jpg:2',\n  'dataset/train/5/0011_01.jpg:2',\n  'dataset/train/5/0010_01.jpg:2',\n  'dataset/train/5/0013_01.jpg:2',\n  'dataset/train/5/0017_01.jpg:2',\n  'dataset/train/5/0014_01.jpg:2',\n  'dataset/train/5/0018_01.jpg:2',\n  'dataset/train/2/0011_01.jpg:2',\n  'dataset/train/1/0020_01.jpg:2',\n  'dataset/train/2/0020_01.jpg:2',\n  'dataset/train/3/0011_01.jpg:2',\n  'dataset/train/4/0011_01.jpg:2',\n  'dataset/train/3/0020_01.jpg:2',\n  'dataset/train/2/0022_01.jpg:2',\n  'dataset/train/1/0024_01.jpg:2',\n  'dataset/train/3/0013_01.jpg:2',\n  'dataset/train/2/0015_01.jpg:2',\n  'dataset/train/1/0022_01.jpg:2',\n  'dataset/train/1/0017_01.jpg:2',\n  'dataset/train/5/0025_04.jpg:2',\n  'dataset/train/1/0019_01.jpg:2',\n  'dataset/train/5/0026_08.jpg:2',\n  'dataset/train/3/0028_02.jpg:2',\n  'dataset/train/1/0007_03.jpg:2',\n  'dataset/train/4/0007_03.jpg:2',\n  'dataset/train/3/0024_02.jpg:2',\n  'dataset/train/4/0008_03.jpg:2',\n  'dataset/train/4/0024_02.jpg:2',\n  'dataset/train/4/0027_02.jpg:2',\n  'dataset/train/4/0025_01.jpg:2',\n  'dataset/train/5/0007_01.jpg:2',\n  'dataset/train/4/0007_01.jpg:2',\n  'dataset/train/3/0025_01.jpg:2',\n  'dataset/train/5/0025_01.jpg:2',\n  'dataset/train/1/0029_01.jpg:2',\n  'dataset/train/1/0026_01.jpg:2',\n  'dataset/train/3/0026_01.jpg:2',\n  'dataset/train/2/0005_02.jpg:2',\n  'dataset/train/2/0025_01.jpg:2',\n  'dataset/train/2/0002_02.jpg:2',\n  'dataset/train/5/0008_01.jpg:2',\n  'dataset/train/2/0029_01.jpg:2',\n  'dataset/train/5/0004_01.jpg:2',\n  'dataset/train/4/0021_01.jpg:2',\n  'dataset/train/5/0021_01.jpg:2',\n  'dataset/train/3/0029_01.jpg:2',\n  'dataset/train/2/0006_02.jpg:2',\n  'dataset/train/5/0026_01.jpg:2',\n  'dataset/train/5/0022_01.jpg:2',\n  'dataset/train/4/0022_01.jpg:2',\n  'dataset/train/4/0029_01.jpg:2',\n  'dataset/train/4/0026_01.jpg:2',\n  'dataset/train/3/0006_02.jpg:2',\n  'dataset/train/3/0010_01.jpg:2',\n  'dataset/train/2/0003_01.jpg:2',\n  'dataset/train/2/0021_01.jpg:2',\n  'dataset/train/4/0010_01.jpg:2',\n  'dataset/train/1/0003_01.jpg:2',\n  'dataset/train/1/0032_01.jpg:2',\n  'dataset/train/5/0003_01.jpg:2',\n  'dataset/train/3/0014_01.jpg:2',\n  'dataset/train/2/0014_01.jpg:2',\n  'dataset/train/1/0025_01.jpg:2',\n  'dataset/train/4/0003_01.jpg:2',\n  'dataset/train/1/0010_01.jpg:2',\n  'dataset/train/3/0007_01.jpg:2',\n  'dataset/train/1/0018_01.jpg:2',\n  'dataset/train/2/0010_01.jpg:2',\n  'dataset/train/3/0003_01.jpg:2',\n  'dataset/train/5/0026_03.jpg:2',\n  'dataset/validation/4/0123_03.jpg:2',\n  'dataset/train/5/0016_02.jpg:2',\n  'dataset/train/1/0011_04.jpg:2',\n  'dataset/validation/3/0176_01.jpg:2',\n  'dataset/validation/2/0176_01.jpg:2',\n  'dataset/train/1/0013_02.jpg:2',\n  'dataset/train/3/0034_01.jpg:2',\n  'dataset/train/4/0034_01.jpg:2',\n  'dataset/train/4/0032_01.jpg:2',\n  'dataset/train/1/0035_01.jpg:2',\n  'dataset/train/1/0010_02.jpg:2',\n  'dataset/train/4/0030_01.jpg:2',\n  'dataset/train/2/0030_01.jpg:2',\n  'dataset/train/2/0032_01.jpg:2',\n  'dataset/train/1/0015_02.jpg:2',\n  'dataset/train/3/0036_01.jpg:2',\n  'dataset/train/1/0018_02.jpg:2',\n  'dataset/train/3/0035_01.jpg:2',\n  'dataset/train/2/0013_02.jpg:2',\n  'dataset/train/2/0017_02.jpg:2',\n  'dataset/train/3/0031_01.jpg:2',\n  'dataset/train/3/0030_01.jpg:2',\n  'dataset/train/5/0026_05.jpg:2',\n  'dataset/validation/2/0101_01.jpg:2',\n  'dataset/train/4/0002_01.jpg:2',\n  'dataset/train/2/0002_01.jpg:2',\n  'dataset/train/2/0004_01.jpg:2',\n  'dataset/train/5/0026_09.jpg:2',\n  'dataset/train/1/0006_01.jpg:2',\n  'dataset/validation/5/0101_01.jpg:2',\n  'dataset/train/1/0031_01.jpg:2',\n  'dataset/train/1/0002_01.jpg:2',\n  'dataset/train/1/0004_01.jpg:2',\n  'dataset/train/5/0002_01.jpg:2',\n  'dataset/train/4/0004_01.jpg:2',\n  'dataset/train/2/0008_01.jpg:2',\n  'dataset/train/3/0008_01.jpg:2',\n  'dataset/validation/3/0101_01.jpg:2',\n  'dataset/train/3/0002_01.jpg:2',\n  'dataset/train/3/0004_01.jpg:2',\n  'dataset/train/2/0027_03.jpg:2',\n  'dataset/train/1/0008_01.jpg:2',\n  'dataset/validation/1/0419_01.jpg:2',\n  'dataset/validation/4/0033_01.jpg:2',\n  'dataset/validation/5/0033_01.jpg:2',\n  'dataset/train/5/0025_02.jpg:2',\n  'dataset/train/2/0023_03.jpg:2',\n  'dataset/train/5/0026_02.jpg:2',\n  'dataset/train/2/0026_02.jpg:2',\n  'dataset/validation/1/0014_02.jpg:2',\n  'dataset/train/3/0009_01.jpg:2',\n  'dataset/train/5/0024_01.jpg:2',\n  'dataset/train/4/0009_01.jpg:2',\n  'dataset/train/5/0023_01.jpg:2',\n  'dataset/train/1/0027_01.jpg:2',\n  'dataset/train/1/0028_01.jpg:2',\n  'dataset/train/3/0027_01.jpg:2',\n  'dataset/train/4/0006_01.jpg:2',\n  'dataset/train/5/0005_01.jpg:2',\n  'dataset/train/5/0009_01.jpg:2',\n  'dataset/train/3/0021_02.jpg:2',\n  'dataset/train/3/0022_02.jpg:2',\n  'dataset/train/2/0024_01.jpg:2',\n  'dataset/train/5/0006_01.jpg:2',\n  'dataset/train/2/0028_01.jpg:2',\n  'dataset/train/5/0020_01.jpg:2',\n  'dataset/train/3/0023_01.jpg:2',\n  'dataset/train/4/0007_02.jpg:2',\n  'dataset/train/2/0007_02.jpg:2',\n  'dataset/train/4/0023_01.jpg:2',\n  'dataset/train/4/0020_01.jpg:2',\n  'dataset/train/4/0028_01.jpg:2',\n  'dataset/train/1/0012_01.jpg:2',\n  'dataset/train/3/0012_01.jpg:2',\n  'dataset/train/4/0012_01.jpg:2',\n  'dataset/train/1/0005_01.jpg:2',\n  'dataset/train/1/0030_01.jpg:2',\n  'dataset/train/3/0005_01.jpg:2',\n  'dataset/train/1/0016_01.jpg:2',\n  'dataset/train/1/0023_01.jpg:2',\n  'dataset/train/4/0005_01.jpg:2',\n  'dataset/train/5/0026_04.jpg:2',\n  'dataset/train/2/0016_01.jpg:2',\n  'dataset/train/2/0012_01.jpg:2',\n  'dataset/train/1/0033_04.jpg:2',\n  'dataset/train/2/0009_01.jpg:2',\n  'dataset/train/1/0009_01.jpg:2',\n  'dataset/train/4/0024_03.jpg:2']}"
     },
     "metadata": {},
     "execution_count": 26
    }
   ],
   "source": [
    "# Upload input files and create a new file set on the fly\n",
    "input_dir = os.path.join(workspace, 'demo/dataset/train/')\n",
    "File.convert_to_file_mapping([input_dir], 'dataset/')\\\n",
    "    .files_to_upload\\\n",
    "    .upload()\\\n",
    "    .as_new_file_set('train_dataset')"
   ]
  },
  {
   "cell_type": "code",
   "execution_count": 32,
   "metadata": {
    "tags": []
   },
   "outputs": [
    {
     "output_type": "stream",
     "name": "stdout",
     "text": "Running request: 192.168.1.72 7445 storage start_file_upload_session\nPOST data {\"paths\": [\"train_scripts.zip\"], \"token\": \"qjbYDwKhg8l4OzJymKGy2ruHOodiFgsg\"}\n[('/Users/mxin/Desktop/cmu/2020fall/11632-capstone/acai_repos_new/acaisdk/acaisdk/example/example2/demo/train_scripts.zip', 'train_scripts.zip')]\nr =  <Response [200]>\nUploaded /Users/mxin/Desktop/cmu/2020fall/11632-capstone/acai_repos_new/acaisdk/acaisdk/example/example2/demo/train_scripts.zip to train_scripts.zip\nRunning request: 192.168.1.72 7445 storage poll_file_upload_session\nGET query {\"session_id\": 443, \"token\": \"qjbYDwKhg8l4OzJymKGy2ruHOodiFgsg\"}\nRunning request: 192.168.1.72 7445 storage poll_file_upload_session\nGET query {\"session_id\": 443, \"token\": \"qjbYDwKhg8l4OzJymKGy2ruHOodiFgsg\"}\nRunning request: 192.168.1.72 7445 storage poll_file_upload_session\nGET query {\"session_id\": 443, \"token\": \"qjbYDwKhg8l4OzJymKGy2ruHOodiFgsg\"}\nRunning request: 192.168.1.72 7445 storage finish_file_upload_session\nPOST data {\"session_id\": 443, \"token\": \"qjbYDwKhg8l4OzJymKGy2ruHOodiFgsg\"}\n"
    },
    {
     "output_type": "execute_result",
     "data": {
      "text/plain": "[('/Users/mxin/Desktop/cmu/2020fall/11632-capstone/acai_repos_new/acaisdk/acaisdk/example/example2/demo/train_scripts.zip',\n  'train_scripts.zip:12')]"
     },
     "metadata": {},
     "execution_count": 32
    }
   ],
   "source": [
    "# Upload code\n",
    "train_code = os.path.join(workspace, 'demo/train_scripts.zip')\n",
    "# eval_code = os.path.join(workspace, 'demo/eval_script.zip')\n",
    "File.upload({train_code: 'train_scripts.zip',\n",
    "            #  eval_code: 'eval_script.zip'\n",
    "            })"
   ]
  },
  {
   "cell_type": "code",
   "execution_count": 31,
   "metadata": {
    "tags": []
   },
   "outputs": [
    {
     "output_type": "stream",
     "name": "stdout",
     "text": "Running request: 192.168.1.72 7445 storage resolve_file_set\nGET query {\"vague_name\": \"train_dataset\", \"token\": \"qjbYDwKhg8l4OzJymKGy2ruHOodiFgsg\"}\nRunning request: 192.168.1.72 7445 job_registry new_job\nPOST data {\"name\": \"my_acai_job\", \"input_file_set\": \"train_dataset:2\", \"output_path\": \"./my_output/train_out/\", \"code\": \"train_scripts.zip\", \"command\": \"python3 train.py --output_folder ./my_output/train_out/ --train_data ./dataset/train/ --dev_data ./dataset/validation/ --epoch 1\", \"container_image\": \"pytorch/pytorch\", \"description\": \"train an image classification model\", \"v_cpu\": \"0.5\", \"gpu\": \"0\", \"memory\": \"2000Mi\", \"job_status\": null, \"token\": \"qjbYDwKhg8l4OzJymKGy2ruHOodiFgsg\"}\n{'status': {'message': 'launching'}, 'job': {'name': 'my_acai_job', 'code': 'train_scripts.zip', 'command': 'python3 train.py --output_folder ./my_output/train_out/ --train_data ./dataset/train/ --dev_data ./dataset/validation/ --epoch 1', 'description': 'train an image classification model', 'gpu': '0', 'memory': '2000Mi', 'hidden': False, 'type': 'DEFAULT', 'vcpu': '0.5', 'id': 63, 'input_file_set': 'train_dataset:2', 'output_path': './my_output/train_out/', 'user_id': 9, 'project_id': 'auto_provisioner', 'container_image': 'pytorch/pytorch', 'v_cpu': '0.5', 'output_file_set': 'job_63_output', 'submitted_time': '2020-09-28T14:46:22.725+0000'}}\n"
    }
   ],
   "source": [
    "# Run a training job, it takes ~3 mins to finish\n",
    "job_setting = {\n",
    "    \"v_cpu\": \"0.5\",\n",
    "    \"memory\": \"2000Mi\",\n",
    "    \"gpu\": \"0\",\n",
    "    \"command\": \"python3 train.py --output_folder ./my_output/train_out/ \"\n",
    "               \"--train_data ./dataset/train/ \"\n",
    "               \"--dev_data ./dataset/validation/ \"\n",
    "               \"--epoch 1\",\n",
    "    \"container_image\": \"pytorch/pytorch\",\n",
    "    'input_file_set': 'train_dataset',\n",
    "    'output_path': './my_output/train_out/',\n",
    "    'code': 'train_scripts.zip',\n",
    "    'description': 'train an image classification model',\n",
    "    'name': 'my_acai_job'\n",
    "}\n",
    "\n",
    "train_job = Job().with_attributes(job_setting).run()"
   ]
  },
  {
   "cell_type": "code",
   "execution_count": 8,
   "metadata": {
    "tags": []
   },
   "outputs": [
    {
     "output_type": "stream",
     "name": "stdout",
     "text": "Running request: 192.168.1.72 7445 job_monitor job_status\nPOST data {\"ids\": [52], \"token\": \"qjbYDwKhg8l4OzJymKGy2ruHOodiFgsg\"}\n"
    },
    {
     "output_type": "error",
     "ename": "KeyError",
     "evalue": "'CONTAINERCRASHED'",
     "traceback": [
      "\u001b[0;31m---------------------------------------------------------------------------\u001b[0m",
      "\u001b[0;31mKeyError\u001b[0m                                  Traceback (most recent call last)",
      "\u001b[0;32m<ipython-input-8-0166bab44412>\u001b[0m in \u001b[0;36m<module>\u001b[0;34m\u001b[0m\n\u001b[1;32m      2\u001b[0m \u001b[0;31m# dashboard with your token and check the job status.\u001b[0m\u001b[0;34m\u001b[0m\u001b[0;34m\u001b[0m\u001b[0;34m\u001b[0m\u001b[0m\n\u001b[1;32m      3\u001b[0m \u001b[0;34m\u001b[0m\u001b[0m\n\u001b[0;32m----> 4\u001b[0;31m \u001b[0mstatus\u001b[0m \u001b[0;34m=\u001b[0m \u001b[0mtrain_job\u001b[0m\u001b[0;34m.\u001b[0m\u001b[0mwait\u001b[0m\u001b[0;34m(\u001b[0m\u001b[0;34m)\u001b[0m\u001b[0;34m\u001b[0m\u001b[0;34m\u001b[0m\u001b[0m\n\u001b[0m\u001b[1;32m      5\u001b[0m \u001b[0;32mif\u001b[0m \u001b[0mstatus\u001b[0m \u001b[0;34m==\u001b[0m \u001b[0mJobStatus\u001b[0m\u001b[0;34m.\u001b[0m\u001b[0mFINISHED\u001b[0m\u001b[0;34m:\u001b[0m\u001b[0;34m\u001b[0m\u001b[0;34m\u001b[0m\u001b[0m\n\u001b[1;32m      6\u001b[0m     \u001b[0moutput_file_set\u001b[0m \u001b[0;34m=\u001b[0m \u001b[0mtrain_job\u001b[0m\u001b[0;34m.\u001b[0m\u001b[0moutput_file_set\u001b[0m\u001b[0;34m\u001b[0m\u001b[0;34m\u001b[0m\u001b[0m\n",
      "\u001b[0;32m~/Desktop/cmu/2020fall/11632-capstone/acai_repos_new/acaisdk/acaisdk/example/example2/../../../acaisdk/job.py\u001b[0m in \u001b[0;36mwait\u001b[0;34m(self, first_sleep, subsequent_sleeps)\u001b[0m\n\u001b[1;32m    377\u001b[0m         \u001b[0mtime\u001b[0m\u001b[0;34m.\u001b[0m\u001b[0msleep\u001b[0m\u001b[0;34m(\u001b[0m\u001b[0mfirst_sleep\u001b[0m\u001b[0;34m)\u001b[0m\u001b[0;34m\u001b[0m\u001b[0;34m\u001b[0m\u001b[0m\n\u001b[1;32m    378\u001b[0m         \u001b[0;32mwhile\u001b[0m \u001b[0;32mTrue\u001b[0m\u001b[0;34m:\u001b[0m\u001b[0;34m\u001b[0m\u001b[0;34m\u001b[0m\u001b[0m\n\u001b[0;32m--> 379\u001b[0;31m             \u001b[0mstatus\u001b[0m \u001b[0;34m=\u001b[0m \u001b[0mself\u001b[0m\u001b[0;34m.\u001b[0m\u001b[0mstatus\u001b[0m\u001b[0;34m(\u001b[0m\u001b[0;34m)\u001b[0m\u001b[0;34m\u001b[0m\u001b[0;34m\u001b[0m\u001b[0m\n\u001b[0m\u001b[1;32m    380\u001b[0m             if status in (JobStatus.FINISHED,\n\u001b[1;32m    381\u001b[0m                           \u001b[0mJobStatus\u001b[0m\u001b[0;34m.\u001b[0m\u001b[0mFAILED\u001b[0m\u001b[0;34m,\u001b[0m\u001b[0;34m\u001b[0m\u001b[0;34m\u001b[0m\u001b[0m\n",
      "\u001b[0;32m~/Desktop/cmu/2020fall/11632-capstone/acai_repos_new/acaisdk/acaisdk/example/example2/../../../acaisdk/job.py\u001b[0m in \u001b[0;36mstatus\u001b[0;34m(self)\u001b[0m\n\u001b[1;32m    339\u001b[0m         \u001b[0;32mif\u001b[0m \u001b[0mr\u001b[0m\u001b[0;34m:\u001b[0m\u001b[0;34m\u001b[0m\u001b[0;34m\u001b[0m\u001b[0m\n\u001b[1;32m    340\u001b[0m             \u001b[0mself\u001b[0m\u001b[0;34m.\u001b[0m\u001b[0moutput_file_set\u001b[0m \u001b[0;34m=\u001b[0m \u001b[0mr\u001b[0m\u001b[0;34m[\u001b[0m\u001b[0;36m0\u001b[0m\u001b[0;34m]\u001b[0m\u001b[0;34m[\u001b[0m\u001b[0;34m'output_file_set'\u001b[0m\u001b[0;34m]\u001b[0m\u001b[0;34m\u001b[0m\u001b[0;34m\u001b[0m\u001b[0m\n\u001b[0;32m--> 341\u001b[0;31m             \u001b[0mself\u001b[0m\u001b[0;34m.\u001b[0m\u001b[0mjob_status\u001b[0m \u001b[0;34m=\u001b[0m \u001b[0mJobStatus\u001b[0m\u001b[0;34m.\u001b[0m\u001b[0mfrom_str\u001b[0m\u001b[0;34m(\u001b[0m\u001b[0mr\u001b[0m\u001b[0;34m[\u001b[0m\u001b[0;36m0\u001b[0m\u001b[0;34m]\u001b[0m\u001b[0;34m[\u001b[0m\u001b[0;34m'job_status'\u001b[0m\u001b[0;34m]\u001b[0m\u001b[0;34m)\u001b[0m\u001b[0;34m\u001b[0m\u001b[0;34m\u001b[0m\u001b[0m\n\u001b[0m\u001b[1;32m    342\u001b[0m         \u001b[0;32melse\u001b[0m\u001b[0;34m:\u001b[0m\u001b[0;34m\u001b[0m\u001b[0;34m\u001b[0m\u001b[0m\n\u001b[1;32m    343\u001b[0m             \u001b[0m_msg\u001b[0m \u001b[0;34m=\u001b[0m \u001b[0;34m'No such job {}'\u001b[0m\u001b[0;34m.\u001b[0m\u001b[0mformat\u001b[0m\u001b[0;34m(\u001b[0m\u001b[0mself\u001b[0m\u001b[0;34m.\u001b[0m\u001b[0mid\u001b[0m\u001b[0;34m)\u001b[0m\u001b[0;34m\u001b[0m\u001b[0;34m\u001b[0m\u001b[0m\n",
      "\u001b[0;32m~/Desktop/cmu/2020fall/11632-capstone/acai_repos_new/acaisdk/acaisdk/example/example2/../../../acaisdk/job.py\u001b[0m in \u001b[0;36mfrom_str\u001b[0;34m(string)\u001b[0m\n\u001b[1;32m     37\u001b[0m     \u001b[0;34m@\u001b[0m\u001b[0mstaticmethod\u001b[0m\u001b[0;34m\u001b[0m\u001b[0;34m\u001b[0m\u001b[0m\n\u001b[1;32m     38\u001b[0m     \u001b[0;32mdef\u001b[0m \u001b[0mfrom_str\u001b[0m\u001b[0;34m(\u001b[0m\u001b[0mstring\u001b[0m\u001b[0;34m)\u001b[0m\u001b[0;34m:\u001b[0m\u001b[0;34m\u001b[0m\u001b[0;34m\u001b[0m\u001b[0m\n\u001b[0;32m---> 39\u001b[0;31m         \u001b[0;32mreturn\u001b[0m \u001b[0mJobStatus\u001b[0m\u001b[0;34m[\u001b[0m\u001b[0mstring\u001b[0m\u001b[0;34m.\u001b[0m\u001b[0mupper\u001b[0m\u001b[0;34m(\u001b[0m\u001b[0;34m)\u001b[0m\u001b[0;34m.\u001b[0m\u001b[0mreplace\u001b[0m\u001b[0;34m(\u001b[0m\u001b[0;34m' '\u001b[0m\u001b[0;34m,\u001b[0m \u001b[0;34m'_'\u001b[0m\u001b[0;34m)\u001b[0m\u001b[0;34m]\u001b[0m\u001b[0;34m\u001b[0m\u001b[0;34m\u001b[0m\u001b[0m\n\u001b[0m\u001b[1;32m     40\u001b[0m \u001b[0;34m\u001b[0m\u001b[0m\n\u001b[1;32m     41\u001b[0m \u001b[0;34m\u001b[0m\u001b[0m\n",
      "\u001b[0;32m~/.pyenv/versions/3.6.8/lib/python3.6/enum.py\u001b[0m in \u001b[0;36m__getitem__\u001b[0;34m(cls, name)\u001b[0m\n\u001b[1;32m    327\u001b[0m \u001b[0;34m\u001b[0m\u001b[0m\n\u001b[1;32m    328\u001b[0m     \u001b[0;32mdef\u001b[0m \u001b[0m__getitem__\u001b[0m\u001b[0;34m(\u001b[0m\u001b[0mcls\u001b[0m\u001b[0;34m,\u001b[0m \u001b[0mname\u001b[0m\u001b[0;34m)\u001b[0m\u001b[0;34m:\u001b[0m\u001b[0;34m\u001b[0m\u001b[0;34m\u001b[0m\u001b[0m\n\u001b[0;32m--> 329\u001b[0;31m         \u001b[0;32mreturn\u001b[0m \u001b[0mcls\u001b[0m\u001b[0;34m.\u001b[0m\u001b[0m_member_map_\u001b[0m\u001b[0;34m[\u001b[0m\u001b[0mname\u001b[0m\u001b[0;34m]\u001b[0m\u001b[0;34m\u001b[0m\u001b[0;34m\u001b[0m\u001b[0m\n\u001b[0m\u001b[1;32m    330\u001b[0m \u001b[0;34m\u001b[0m\u001b[0m\n\u001b[1;32m    331\u001b[0m     \u001b[0;32mdef\u001b[0m \u001b[0m__iter__\u001b[0m\u001b[0;34m(\u001b[0m\u001b[0mcls\u001b[0m\u001b[0;34m)\u001b[0m\u001b[0;34m:\u001b[0m\u001b[0;34m\u001b[0m\u001b[0;34m\u001b[0m\u001b[0m\n",
      "\u001b[0;31mKeyError\u001b[0m: 'CONTAINERCRASHED'"
     ]
    }
   ],
   "source": [
    "# Wait until finish, in the mean time, you can login the \n",
    "# dashboard with your token and check the job status.\n",
    "\n",
    "status = train_job.wait()\n",
    "if status == JobStatus.FINISHED:\n",
    "    output_file_set = train_job.output_file_set\n",
    "    print(\"Job done. output file set id:\", output_file_set)\n",
    "else:\n",
    "    print(\"Job went wrong:\", status)"
   ]
  },
  {
   "cell_type": "code",
   "execution_count": null,
   "metadata": {},
   "outputs": [],
   "source": [
    "# Take a look at what's in the output folder\n",
    "File.list_dir('my_output/train_out/')"
   ]
  },
  {
   "cell_type": "code",
   "execution_count": null,
   "metadata": {},
   "outputs": [],
   "source": [
    "input_dir = os.path.join(workspace, 'demo/dataset/eval')\n",
    "File.convert_to_file_mapping([input_dir], 'dataset/eval/')\\\n",
    "    .files_to_upload\\\n",
    "    .upload()\\\n",
    "    .as_new_file_set('eval_dataset')"
   ]
  },
  {
   "cell_type": "code",
   "execution_count": null,
   "metadata": {},
   "outputs": [],
   "source": [
    "# Create a new file set that contains eval dataset and output model.\n",
    "# Since all files we need are in their file set, we can simply create \n",
    "# the new file set out of the two existing ones.\n",
    "FileSet.create_file_set('eval_data_and_model', ['@'+output_file_set, '@eval_dataset'])"
   ]
  },
  {
   "cell_type": "code",
   "execution_count": null,
   "metadata": {},
   "outputs": [],
   "source": [
    "# ============= EVALUATION ==============\n",
    "# Run a training job\n",
    "job_setting_eval = {\n",
    "    \"v_cpu\": \"0.5\",\n",
    "    \"memory\": \"500Mi\",\n",
    "    \"gpu\": \"0\",\n",
    "    \"command\": \"python3 eval.py --output_folder ./my_output/eval_out/ \"\n",
    "               \"--eval_data ./dataset/eval/ \"\n",
    "               \"--model ./my_output/train_out/network.npy \",\n",
    "    \"container_image\": \"pytorch/pytorch\",\n",
    "    'input_file_set': 'eval_data_and_model',\n",
    "    'output_path': './my_output/eval_out/',\n",
    "    'code': 'eval_script.zip',\n",
    "    'description': 'evaluate an image classification model',\n",
    "    'name': 'my_acai_job_2'\n",
    "}\n",
    "\n",
    "eval_job = Job().with_attributes(job_setting_eval).run()"
   ]
  },
  {
   "cell_type": "code",
   "execution_count": null,
   "metadata": {},
   "outputs": [],
   "source": [
    "status = eval_job.wait()\n",
    "if status == JobStatus.FINISHED:\n",
    "    output_file_set = eval_job.output_file_set\n",
    "    print(\"Job done. output file set id:\", output_file_set)\n",
    "else:\n",
    "    print(\"Job went wrong:\", status)"
   ]
  },
  {
   "cell_type": "code",
   "execution_count": null,
   "metadata": {},
   "outputs": [],
   "source": [
    "# Download the result to local device\n",
    "File.download({'/my_output/eval_out/eval_result.csv': workspace})"
   ]
  },
  {
   "cell_type": "code",
   "execution_count": null,
   "metadata": {},
   "outputs": [],
   "source": [
    "# Check out the evaluation output\n",
    "with open(os.path.join(workspace, 'eval_result.csv')) as f:\n",
    "    for i, l in enumerate(f):\n",
    "        print(l, end='')"
   ]
  },
  {
   "cell_type": "code",
   "execution_count": null,
   "metadata": {},
   "outputs": [],
   "source": []
  }
 ],
 "metadata": {
  "kernelspec": {
   "display_name": "Python 3",
   "language": "python",
   "name": "python3"
  },
  "language_info": {
   "codemirror_mode": {
    "name": "ipython",
    "version": 3
   },
   "file_extension": ".py",
   "mimetype": "text/x-python",
   "name": "python",
   "nbconvert_exporter": "python",
   "pygments_lexer": "ipython3",
   "version": "3.6.8-final"
  }
 },
 "nbformat": 4,
 "nbformat_minor": 2
}
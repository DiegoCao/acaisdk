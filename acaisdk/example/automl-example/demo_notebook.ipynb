{
 "cells": [
  {
   "cell_type": "code",
   "execution_count": 2,
   "metadata": {},
   "outputs": [],
   "source": [
    "import os\n",
    "import sys\n",
    "sys.path.append(os.path.dirname(os.path.realpath('__file__')) + '/../../../')\n",
    "from acaisdk.file import File\n",
    "from acaisdk.project import Project\n",
    "from acaisdk.fileset import FileSet\n",
    "from acaisdk.job import Job\n",
    "from acaisdk.meta import *\n",
    "from acaisdk.utils import utils\n",
    "from acaisdk import credentials\n",
    "from acaisdk.automl import AutoML\n",
    "\n",
    "utils.DEBUG = True  # print debug messages\n",
    "workspace = os.path.dirname(os.path.realpath('__file__'))  # get current directory"
   ]
  },
  {
   "cell_type": "code",
   "execution_count": 3,
   "metadata": {},
   "outputs": [],
   "source": [
    "credentials.login('00uUq2XXjY2mYZSe0WPHA6R0qpKUXi4s')"
   ]
  },
  {
   "cell_type": "code",
   "execution_count": 8,
   "metadata": {},
   "outputs": [
    {
     "name": "stdout",
     "output_type": "stream",
     "text": [
      "Running request: credential.acai.mxcao.me 80 storage start_file_upload_session\n",
      "POST data {\"paths\": [\"/bm25.zip\"], \"hashes\": [\"56d3810224b77621c4dec9ea45111f25\"], \"token\": \"KIzuJBd0qkjp61rkpezzffr9jiJlev0j\"}\n",
      "[('/Users/Joann/Desktop/CMU/Capstone/code/acaisdk/acaisdk/example/example3/bm25.zip', '/bm25.zip')]\n",
      "r =  <Response [200]>\n",
      "Uploaded /Users/Joann/Desktop/CMU/Capstone/code/acaisdk/acaisdk/example/example3/bm25.zip to /bm25.zip\n",
      "Running request: credential.acai.mxcao.me 80 storage poll_file_upload_session\n",
      "GET query {\"session_id\": 41446, \"token\": \"KIzuJBd0qkjp61rkpezzffr9jiJlev0j\"}\n",
      "Running request: credential.acai.mxcao.me 80 storage poll_file_upload_session\n",
      "GET query {\"session_id\": 41446, \"token\": \"KIzuJBd0qkjp61rkpezzffr9jiJlev0j\"}\n",
      "Running request: credential.acai.mxcao.me 80 storage finish_file_upload_session\n",
      "POST data {\"session_id\": 41446, \"token\": \"KIzuJBd0qkjp61rkpezzffr9jiJlev0j\"}\n"
     ]
    },
    {
     "data": {
      "text/plain": [
       "[('/Users/Joann/Desktop/CMU/Capstone/code/acaisdk/acaisdk/example/example3/bm25.zip',\n",
       "  'bm25.zip:1')]"
      ]
     },
     "execution_count": 8,
     "metadata": {},
     "output_type": "execute_result"
    }
   ],
   "source": [
    "# Upload code for model\n",
    "code = os.path.join(workspace, 'bm25.zip')\n",
    "File.upload({code: '/bm25.zip'})"
   ]
  },
  {
   "cell_type": "code",
   "execution_count": 9,
   "metadata": {},
   "outputs": [
    {
     "name": "stdout",
     "output_type": "stream",
     "text": [
      "Running request: credential.acai.mxcao.me 80 storage start_file_upload_session\n",
      "POST data {\"paths\": [\"squad/requirements.txt\", \"squad/dev.json\", \"squad/train.json\"], \"hashes\": [\"ca9a340c945ab5eb88aca768043411c7\", \"65e4e9370cab82a1d309049b27b5fc4b\", \"0747c5d3f967c91bc46a69734f6049e3\"], \"token\": \"KIzuJBd0qkjp61rkpezzffr9jiJlev0j\"}\n",
      "[('/Users/Joann/Desktop/CMU/Capstone/code/acaisdk/acaisdk/example/example3/squad/requirements.txt', 'squad/requirements.txt'), ('/Users/Joann/Desktop/CMU/Capstone/code/acaisdk/acaisdk/example/example3/squad/dev.json', 'squad/dev.json'), ('/Users/Joann/Desktop/CMU/Capstone/code/acaisdk/acaisdk/example/example3/squad/train.json', 'squad/train.json')]\n",
      "r =  <Response [200]>\n",
      "Uploaded /Users/Joann/Desktop/CMU/Capstone/code/acaisdk/acaisdk/example/example3/squad/requirements.txt to squad/requirements.txt\n",
      "r =  <Response [200]>\n",
      "Uploaded /Users/Joann/Desktop/CMU/Capstone/code/acaisdk/acaisdk/example/example3/squad/dev.json to squad/dev.json\n",
      "r =  <Response [200]>\n",
      "Uploaded /Users/Joann/Desktop/CMU/Capstone/code/acaisdk/acaisdk/example/example3/squad/train.json to squad/train.json\n",
      "Running request: credential.acai.mxcao.me 80 storage poll_file_upload_session\n",
      "GET query {\"session_id\": 41451, \"token\": \"KIzuJBd0qkjp61rkpezzffr9jiJlev0j\"}\n",
      "Running request: credential.acai.mxcao.me 80 storage poll_file_upload_session\n",
      "GET query {\"session_id\": 41451, \"token\": \"KIzuJBd0qkjp61rkpezzffr9jiJlev0j\"}\n",
      "Running request: credential.acai.mxcao.me 80 storage finish_file_upload_session\n",
      "POST data {\"session_id\": 41451, \"token\": \"KIzuJBd0qkjp61rkpezzffr9jiJlev0j\"}\n",
      "Running request: credential.acai.mxcao.me 80 storage create_file_set\n",
      "POST data {\"name\": \"squad_demo.works\", \"files\": [\"squad/train.json:1\", \"squad/requirements.txt:1\", \"squad/dev.json:1\"], \"token\": \"KIzuJBd0qkjp61rkpezzffr9jiJlev0j\"}\n"
     ]
    },
    {
     "data": {
      "text/plain": [
       "{'id': 'squad_demo.works:1',\n",
       " 'files': ['squad/dev.json:1',\n",
       "  'squad/train.json:1',\n",
       "  'squad/requirements.txt:1']}"
      ]
     },
     "execution_count": 9,
     "metadata": {},
     "output_type": "execute_result"
    }
   ],
   "source": [
    "# Upload input files and create file set\n",
    "input_dir = os.path.join(workspace, 'squad')\n",
    "File.convert_to_file_mapping([input_dir], 'squad/') \\\n",
    "    .files_to_upload \\\n",
    "    .upload() \\\n",
    "    .as_new_file_set('squad_demo.works')"
   ]
  },
  {
   "cell_type": "code",
   "execution_count": 9,
   "metadata": {},
   "outputs": [
    {
     "name": "stdout",
     "output_type": "stream",
     "text": [
      "Running request: 35.237.138.197 80 automl tasks/submit\n",
      "POST data {\"dataset\": {\"path\": \"squad/\"}, \"input_file_set_id\": \"squad_demo.works\", \"output_file_set_id\": \"squad_demo_output\", \"type\": \"CandidateAnswerSelection\", \"metric\": \"MAP\", \"order\": \"desc\", \"gpu\": 0, \"vcpu\": 0.2, \"memory\": \"2Gi\", \"job_limit\": 2, \"user_token\": \"00uUq2XXjY2mYZSe0WPHA6R0qpKUXi4s\", \"token\": \"00uUq2XXjY2mYZSe0WPHA6R0qpKUXi4s\", \"user_id\": 5559, \"description\": \"acai automl test\"}\n"
     ]
    },
    {
     "data": {
      "text/plain": [
       "{'id': 101,\n",
       " 'type': {'id': 5,\n",
       "  'name': 'CandidateAnswerSelection',\n",
       "  'models': [{'hyperparameters': [{'id': 2,\n",
       "      'name': 'k1',\n",
       "      'spec': {'empty': False}},\n",
       "     {'id': 4, 'name': 'b', 'spec': {'empty': False}},\n",
       "     {'id': 3, 'name': 'e', 'spec': {'empty': False}}],\n",
       "    'id': 1,\n",
       "    'name': 'BM25',\n",
       "    'link': '/bm25.zip',\n",
       "    'filename': 'bm25.zip'}]},\n",
       " 'dataset': 'squad/',\n",
       " 'jobInfos': [{'id': 102,\n",
       "   'acaiJobId': 929,\n",
       "   'model': {'hyperparameters': [{'id': 2,\n",
       "      'name': 'k1',\n",
       "      'spec': {'empty': False}},\n",
       "     {'id': 4, 'name': 'b', 'spec': {'empty': False}},\n",
       "     {'id': 3, 'name': 'e', 'spec': {'empty': False}}],\n",
       "    'id': 1,\n",
       "    'name': 'BM25',\n",
       "    'link': '/bm25.zip',\n",
       "    'filename': 'bm25.zip'},\n",
       "   'hyperparameters': {'b': '0.6666666666666667',\n",
       "    'e': '2.1544346900318692E-7',\n",
       "    'k1': '1.5555555555555551'},\n",
       "   'status': 'UNKNOWN',\n",
       "   'log': None,\n",
       "   'result': None},\n",
       "  {'id': 103,\n",
       "   'acaiJobId': 930,\n",
       "   'model': {'hyperparameters': [{'id': 2,\n",
       "      'name': 'k1',\n",
       "      'spec': {'empty': False}},\n",
       "     {'id': 4, 'name': 'b', 'spec': {'empty': False}},\n",
       "     {'id': 3, 'name': 'e', 'spec': {'empty': False}}],\n",
       "    'id': 1,\n",
       "    'name': 'BM25',\n",
       "    'link': '/bm25.zip',\n",
       "    'filename': 'bm25.zip'},\n",
       "   'hyperparameters': {'b': '0.7777777777777779',\n",
       "    'e': '4.641588833612758E-9',\n",
       "    'k1': '1.5555555555555551'},\n",
       "   'status': 'UNKNOWN',\n",
       "   'log': None,\n",
       "   'result': None}],\n",
       " 'token': '00uUq2XXjY2mYZSe0WPHA6R0qpKUXi4s',\n",
       " 'metric': 'MAP',\n",
       " 'order': 'desc'}"
      ]
     },
     "execution_count": 9,
     "metadata": {},
     "output_type": "execute_result"
    }
   ],
   "source": [
    "AutoML.tasks(os.path.join(workspace, 'sample2.json'))"
   ]
  },
  {
   "cell_type": "code",
   "execution_count": 16,
   "metadata": {},
   "outputs": [
    {
     "name": "stdout",
     "output_type": "stream",
     "text": [
      "Running request: 35.237.138.197 80 automl tasks/92/status\n",
      "GET query {\"token\": \"00uUq2XXjY2mYZSe0WPHA6R0qpKUXi4s\"}\n"
     ]
    },
    {
     "data": {
      "text/plain": [
       "[{'id': 93,\n",
       "  'acaiJobId': 921,\n",
       "  'model': {'hyperparameters': [{'id': 2,\n",
       "     'name': 'k1',\n",
       "     'spec': {'empty': False}},\n",
       "    {'id': 3, 'name': 'e', 'spec': {'empty': False}},\n",
       "    {'id': 4, 'name': 'b', 'spec': {'empty': False}}],\n",
       "   'id': 1,\n",
       "   'name': 'BM25',\n",
       "   'link': '/bm25.zip',\n",
       "   'filename': 'bm25.zip'},\n",
       "  'hyperparameters': {'b': '0.4444444444444444',\n",
       "   'e': '2.1544346900318692E-7',\n",
       "   'k1': '1.644444444444444'},\n",
       "  'status': 'Finished',\n",
       "  'log': None,\n",
       "  'result': 0.0},\n",
       " {'id': 94,\n",
       "  'acaiJobId': 922,\n",
       "  'model': {'hyperparameters': [{'id': 2,\n",
       "     'name': 'k1',\n",
       "     'spec': {'empty': False}},\n",
       "    {'id': 3, 'name': 'e', 'spec': {'empty': False}},\n",
       "    {'id': 4, 'name': 'b', 'spec': {'empty': False}}],\n",
       "   'id': 1,\n",
       "   'name': 'BM25',\n",
       "   'link': '/bm25.zip',\n",
       "   'filename': 'bm25.zip'},\n",
       "  'hyperparameters': {'b': '0.0',\n",
       "   'e': '2.782559402207108E-6',\n",
       "   'k1': '1.5555555555555551'},\n",
       "  'status': 'Finished',\n",
       "  'log': None,\n",
       "  'result': 0.0}]"
      ]
     },
     "execution_count": 16,
     "metadata": {},
     "output_type": "execute_result"
    }
   ],
   "source": [
    "AutoML.get_status(92)  # get status by task_id"
   ]
  },
  {
   "cell_type": "code",
   "execution_count": null,
   "metadata": {},
   "outputs": [],
   "source": []
  }
 ],
 "metadata": {
  "kernelspec": {
   "display_name": "Python 3",
   "language": "python",
   "name": "python3"
  },
  "language_info": {
   "codemirror_mode": {
    "name": "ipython",
    "version": 3
   },
   "file_extension": ".py",
   "mimetype": "text/x-python",
   "name": "python",
   "nbconvert_exporter": "python",
   "pygments_lexer": "ipython3",
   "version": "3.7.3"
  }
 },
 "nbformat": 4,
 "nbformat_minor": 2
}

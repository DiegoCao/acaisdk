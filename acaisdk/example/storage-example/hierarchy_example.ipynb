{
 "cells": [
  {
   "cell_type": "code",
   "execution_count": 1,
   "metadata": {},
   "outputs": [],
   "source": [
    "import os\n",
    "import sys\n",
    "sys.path.append(os.path.dirname(os.path.realpath('__file__')) + '/../../../')\n",
    "from acaisdk.file import File\n",
    "from acaisdk.project import Project\n",
    "from acaisdk.fileset import FileSet\n",
    "from acaisdk.job import Job\n",
    "from acaisdk.meta import *\n",
    "from acaisdk.utils import utils\n",
    "from acaisdk import credentials\n",
    "# from acaisdk import automl\n",
    "\n",
    "utils.DEBUG = True  # print debug messages\n",
    "workspace = os.path.dirname(os.path.realpath('__file__'))  # get current directory"
   ]
  },
  {
   "cell_type": "code",
   "execution_count": null,
   "metadata": {},
   "outputs": [],
   "source": [
    "project_admin = 'sihan'\n",
    "root_token = 'EmDlCTBF1ppONSciYVd03M9xkmF6hFqW'\n",
    "credentials.login('v9ZpUfl6q17etfkmqCHrP3sPA8kYYsbc')\n",
    "\n",
    "print(credentials.get_credentials())"
   ]
  },
  {
   "cell_type": "code",
   "execution_count": null,
   "metadata": {},
   "outputs": [],
   "source": [
    "code = os.path.join(workspace, 'wordcount.zip')\n",
    "print(code)"
   ]
  },
  {
   "cell_type": "code",
   "execution_count": null,
   "metadata": {},
   "outputs": [],
   "source": [
    "# Upload code to different storage classes\n",
    "\n",
    "# default = s3 standard\n",
    "r1 = File.upload({code: '/wordcount.zip'})\n",
    "print(r1)\n",
    "\n",
    "# infrequent = s3 standard infrequent access\n",
    "r2 = File.upload({code: '/wordcount.zip'}, storage='infrequent')\n",
    "print(r2)\n",
    "\n",
    "# archive = s3 glacier\n",
    "r3 = File.upload({code: '/wordcount.zip'}, storage='archive')\n",
    "print(r3)"
   ]
  },
  {
   "cell_type": "code",
   "execution_count": null,
   "metadata": {},
   "outputs": [],
   "source": [
    "# move file to a different storage class\n",
    "File.change_status('/wordcount.zip:99', 'archive')\n",
    "File.change_status('/wordcount.zip:100', 'frequent')\n",
    "File.change_status('/wordcount.zip:100', 'infrequent')"
   ]
  },
  {
   "cell_type": "code",
   "execution_count": null,
   "metadata": {},
   "outputs": [],
   "source": [
    "# define budget when creating project \n",
    "\n",
    "# default = 10\n",
    "project_id_1 = \"demo_default_1027\"\n",
    "r1 = Project.create_project(project_id_1, root_token, project_admin)\n",
    "\n",
    "print(\"*\" * 20)\n",
    "\n",
    "# self defined\n",
    "project_id_2 = \"demo_budget_20_1027\"\n",
    "budget = 20\n",
    "\n",
    "r1 = Project.create_project(project_id_2, root_token, project_admin, budget)\n"
   ]
  }
 ],
 "metadata": {
  "kernelspec": {
   "display_name": "Python 3",
   "language": "python",
   "name": "python3"
  },
  "language_info": {
   "codemirror_mode": {
    "name": "ipython",
    "version": 3
   },
   "file_extension": ".py",
   "mimetype": "text/x-python",
   "name": "python",
   "nbconvert_exporter": "python",
   "pygments_lexer": "ipython3",
   "version": "3.7.4"
  }
 },
 "nbformat": 4,
 "nbformat_minor": 2
}
